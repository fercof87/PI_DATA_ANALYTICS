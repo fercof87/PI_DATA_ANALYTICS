{
 "cells": [
  {
   "cell_type": "markdown",
   "metadata": {},
   "source": [
    "# **ANÁLISIS EXPLORATORIO DE DATOS**"
   ]
  },
  {
   "cell_type": "markdown",
   "metadata": {},
   "source": [
    "<hr>"
   ]
  },
  {
   "cell_type": "markdown",
   "metadata": {},
   "source": [
    "- ##### 2do PROYECTO INDIVIDUAL - **HENRY BOOTCAMP** \n",
    "\n",
    "- **Author**: Ing. Fernando Gabriel Cofone"
   ]
  },
  {
   "cell_type": "markdown",
   "metadata": {},
   "source": [
    "<hr>"
   ]
  },
  {
   "cell_type": "markdown",
   "metadata": {},
   "source": [
    "# <u>Importación de Librerías</u>"
   ]
  },
  {
   "cell_type": "code",
   "execution_count": 1,
   "metadata": {},
   "outputs": [],
   "source": [
    "from Funciones.files import *\n",
    "import pandas as pd\n",
    "import numpy as np\n",
    "import matplotlib.pyplot as plt\n",
    "import seaborn as sns"
   ]
  },
  {
   "cell_type": "markdown",
   "metadata": {},
   "source": [
    "## **ARCHIVO DE HOMICIDIOS - CABA - ARGENTINA**\n",
    "\n",
    "Tratamiento del Data Set de **Homicidios**. Contiene 2 secciones:\n",
    "\n",
    "1) **HECHOS:** Son los eventos o siniestros en los cuales hubo victimas falates. Los datos corresponden a **CABA** (Capital de la Provincia de Buenos Aires - Argentina).\n",
    "2) **VICTIMAS:** Fallecidos en los hechos."
   ]
  },
  {
   "cell_type": "markdown",
   "metadata": {},
   "source": [
    "## <u>Apertura y Lectura de Archivos</u>"
   ]
  },
  {
   "cell_type": "markdown",
   "metadata": {},
   "source": [
    "1) **HECHOS**"
   ]
  },
  {
   "cell_type": "markdown",
   "metadata": {},
   "source": [
    "Realizamos la apertura y lectura del archivo de Hechos, el cual contiene el detalle de los siniestros. Visualizamos algunos registros para explorar la estructura de los datos."
   ]
  },
  {
   "cell_type": "code",
   "execution_count": 2,
   "metadata": {},
   "outputs": [
    {
     "data": {
      "text/html": [
       "<div>\n",
       "<style scoped>\n",
       "    .dataframe tbody tr th:only-of-type {\n",
       "        vertical-align: middle;\n",
       "    }\n",
       "\n",
       "    .dataframe tbody tr th {\n",
       "        vertical-align: top;\n",
       "    }\n",
       "\n",
       "    .dataframe thead th {\n",
       "        text-align: right;\n",
       "    }\n",
       "</style>\n",
       "<table border=\"1\" class=\"dataframe\">\n",
       "  <thead>\n",
       "    <tr style=\"text-align: right;\">\n",
       "      <th></th>\n",
       "      <th>ID</th>\n",
       "      <th>N_VICTIMAS</th>\n",
       "      <th>FECHA</th>\n",
       "      <th>AAAA</th>\n",
       "      <th>MM</th>\n",
       "      <th>DD</th>\n",
       "      <th>HORA</th>\n",
       "      <th>HH</th>\n",
       "      <th>LUGAR_DEL_HECHO</th>\n",
       "      <th>TIPO_DE_CALLE</th>\n",
       "      <th>...</th>\n",
       "      <th>Altura</th>\n",
       "      <th>Cruce</th>\n",
       "      <th>Dirección Normalizada</th>\n",
       "      <th>COMUNA</th>\n",
       "      <th>XY (CABA)</th>\n",
       "      <th>pos x</th>\n",
       "      <th>pos y</th>\n",
       "      <th>PARTICIPANTES</th>\n",
       "      <th>VICTIMA</th>\n",
       "      <th>ACUSADO</th>\n",
       "    </tr>\n",
       "  </thead>\n",
       "  <tbody>\n",
       "    <tr>\n",
       "      <th>0</th>\n",
       "      <td>2016-0001</td>\n",
       "      <td>1</td>\n",
       "      <td>2016-01-01</td>\n",
       "      <td>2016</td>\n",
       "      <td>1</td>\n",
       "      <td>1</td>\n",
       "      <td>04:00:00</td>\n",
       "      <td>4</td>\n",
       "      <td>AV PIEDRA BUENA Y AV FERNANDEZ DE LA CRUZ</td>\n",
       "      <td>AVENIDA</td>\n",
       "      <td>...</td>\n",
       "      <td>NaN</td>\n",
       "      <td>FERNANDEZ DE LA CRUZ, F., GRAL. AV.</td>\n",
       "      <td>PIEDRA BUENA AV. y FERNANDEZ DE LA CRUZ, F., G...</td>\n",
       "      <td>8</td>\n",
       "      <td>Point (98896.78238426 93532.43437792)</td>\n",
       "      <td>-58.47533969</td>\n",
       "      <td>-34.68757022</td>\n",
       "      <td>MOTO-AUTO</td>\n",
       "      <td>MOTO</td>\n",
       "      <td>AUTO</td>\n",
       "    </tr>\n",
       "    <tr>\n",
       "      <th>1</th>\n",
       "      <td>2016-0002</td>\n",
       "      <td>1</td>\n",
       "      <td>2016-01-02</td>\n",
       "      <td>2016</td>\n",
       "      <td>1</td>\n",
       "      <td>2</td>\n",
       "      <td>01:15:00</td>\n",
       "      <td>1</td>\n",
       "      <td>AV GRAL PAZ  Y AV DE LOS CORRALES</td>\n",
       "      <td>GRAL PAZ</td>\n",
       "      <td>...</td>\n",
       "      <td>NaN</td>\n",
       "      <td>DE LOS CORRALES AV.</td>\n",
       "      <td>PAZ, GRAL. AV. y DE LOS CORRALES AV.</td>\n",
       "      <td>9</td>\n",
       "      <td>Point (95832.05571093 95505.41641999)</td>\n",
       "      <td>-58.50877521</td>\n",
       "      <td>-34.66977709</td>\n",
       "      <td>AUTO-PASAJEROS</td>\n",
       "      <td>AUTO</td>\n",
       "      <td>PASAJEROS</td>\n",
       "    </tr>\n",
       "    <tr>\n",
       "      <th>2</th>\n",
       "      <td>2016-0003</td>\n",
       "      <td>1</td>\n",
       "      <td>2016-01-03</td>\n",
       "      <td>2016</td>\n",
       "      <td>1</td>\n",
       "      <td>3</td>\n",
       "      <td>07:00:00</td>\n",
       "      <td>7</td>\n",
       "      <td>AV ENTRE RIOS 2034</td>\n",
       "      <td>AVENIDA</td>\n",
       "      <td>...</td>\n",
       "      <td>2034.0</td>\n",
       "      <td>NaN</td>\n",
       "      <td>ENTRE RIOS AV. 2034</td>\n",
       "      <td>1</td>\n",
       "      <td>Point (106684.29090040 99706.57687843)</td>\n",
       "      <td>-58.39040293</td>\n",
       "      <td>-34.63189362</td>\n",
       "      <td>MOTO-AUTO</td>\n",
       "      <td>MOTO</td>\n",
       "      <td>AUTO</td>\n",
       "    </tr>\n",
       "    <tr>\n",
       "      <th>3</th>\n",
       "      <td>2016-0004</td>\n",
       "      <td>1</td>\n",
       "      <td>2016-01-10</td>\n",
       "      <td>2016</td>\n",
       "      <td>1</td>\n",
       "      <td>10</td>\n",
       "      <td>00:00:00</td>\n",
       "      <td>0</td>\n",
       "      <td>AV LARRAZABAL Y GRAL VILLEGAS CONRADO</td>\n",
       "      <td>AVENIDA</td>\n",
       "      <td>...</td>\n",
       "      <td>NaN</td>\n",
       "      <td>VILLEGAS, CONRADO, GRAL.</td>\n",
       "      <td>LARRAZABAL AV. y VILLEGAS, CONRADO, GRAL.</td>\n",
       "      <td>8</td>\n",
       "      <td>Point (99840.65224780 94269.16534422)</td>\n",
       "      <td>-58.46503904</td>\n",
       "      <td>-34.68092974</td>\n",
       "      <td>MOTO-SD</td>\n",
       "      <td>MOTO</td>\n",
       "      <td>SD</td>\n",
       "    </tr>\n",
       "    <tr>\n",
       "      <th>4</th>\n",
       "      <td>2016-0005</td>\n",
       "      <td>1</td>\n",
       "      <td>2016-01-21</td>\n",
       "      <td>2016</td>\n",
       "      <td>1</td>\n",
       "      <td>21</td>\n",
       "      <td>05:20:00</td>\n",
       "      <td>5</td>\n",
       "      <td>AV SAN JUAN Y PRESIDENTE LUIS SAENZ PEÑA</td>\n",
       "      <td>AVENIDA</td>\n",
       "      <td>...</td>\n",
       "      <td>NaN</td>\n",
       "      <td>SAENZ PE?A, LUIS, PRES.</td>\n",
       "      <td>SAN JUAN AV. y SAENZ PEÃ‘A, LUIS, PRES.</td>\n",
       "      <td>1</td>\n",
       "      <td>Point (106980.32827929 100752.16915795)</td>\n",
       "      <td>-58.38718297</td>\n",
       "      <td>-34.62246630</td>\n",
       "      <td>MOTO-PASAJEROS</td>\n",
       "      <td>MOTO</td>\n",
       "      <td>PASAJEROS</td>\n",
       "    </tr>\n",
       "  </tbody>\n",
       "</table>\n",
       "<p>5 rows × 21 columns</p>\n",
       "</div>"
      ],
      "text/plain": [
       "          ID  N_VICTIMAS      FECHA  AAAA  MM  DD      HORA HH  \\\n",
       "0  2016-0001           1 2016-01-01  2016   1   1  04:00:00  4   \n",
       "1  2016-0002           1 2016-01-02  2016   1   2  01:15:00  1   \n",
       "2  2016-0003           1 2016-01-03  2016   1   3  07:00:00  7   \n",
       "3  2016-0004           1 2016-01-10  2016   1  10  00:00:00  0   \n",
       "4  2016-0005           1 2016-01-21  2016   1  21  05:20:00  5   \n",
       "\n",
       "                             LUGAR_DEL_HECHO TIPO_DE_CALLE  ...  Altura  \\\n",
       "0  AV PIEDRA BUENA Y AV FERNANDEZ DE LA CRUZ       AVENIDA  ...     NaN   \n",
       "1          AV GRAL PAZ  Y AV DE LOS CORRALES      GRAL PAZ  ...     NaN   \n",
       "2                         AV ENTRE RIOS 2034       AVENIDA  ...  2034.0   \n",
       "3      AV LARRAZABAL Y GRAL VILLEGAS CONRADO       AVENIDA  ...     NaN   \n",
       "4  AV SAN JUAN Y PRESIDENTE LUIS SAENZ PEÑA        AVENIDA  ...     NaN   \n",
       "\n",
       "                                 Cruce  \\\n",
       "0  FERNANDEZ DE LA CRUZ, F., GRAL. AV.   \n",
       "1                  DE LOS CORRALES AV.   \n",
       "2                                  NaN   \n",
       "3             VILLEGAS, CONRADO, GRAL.   \n",
       "4              SAENZ PE?A, LUIS, PRES.   \n",
       "\n",
       "                               Dirección Normalizada COMUNA  \\\n",
       "0  PIEDRA BUENA AV. y FERNANDEZ DE LA CRUZ, F., G...      8   \n",
       "1               PAZ, GRAL. AV. y DE LOS CORRALES AV.      9   \n",
       "2                                ENTRE RIOS AV. 2034      1   \n",
       "3          LARRAZABAL AV. y VILLEGAS, CONRADO, GRAL.      8   \n",
       "4            SAN JUAN AV. y SAENZ PEÃ‘A, LUIS, PRES.      1   \n",
       "\n",
       "                                 XY (CABA)         pos x         pos y  \\\n",
       "0    Point (98896.78238426 93532.43437792)  -58.47533969  -34.68757022   \n",
       "1    Point (95832.05571093 95505.41641999)  -58.50877521  -34.66977709   \n",
       "2   Point (106684.29090040 99706.57687843)  -58.39040293  -34.63189362   \n",
       "3    Point (99840.65224780 94269.16534422)  -58.46503904  -34.68092974   \n",
       "4  Point (106980.32827929 100752.16915795)  -58.38718297  -34.62246630   \n",
       "\n",
       "    PARTICIPANTES VICTIMA    ACUSADO  \n",
       "0       MOTO-AUTO    MOTO       AUTO  \n",
       "1  AUTO-PASAJEROS    AUTO  PASAJEROS  \n",
       "2       MOTO-AUTO    MOTO       AUTO  \n",
       "3         MOTO-SD    MOTO         SD  \n",
       "4  MOTO-PASAJEROS    MOTO  PASAJEROS  \n",
       "\n",
       "[5 rows x 21 columns]"
      ]
     },
     "execution_count": 2,
     "metadata": {},
     "output_type": "execute_result"
    }
   ],
   "source": [
    "df_homicidios_hechos = leerExcel(\"Datos/\", \"homicidios.xlsx\", \"HECHOS\")\n",
    "df_homicidios_hechos.head()"
   ]
  },
  {
   "cell_type": "code",
   "execution_count": 3,
   "metadata": {},
   "outputs": [
    {
     "data": {
      "text/plain": [
       "Index(['ID', 'N_VICTIMAS', 'FECHA', 'AAAA', 'MM', 'DD', 'HORA', 'HH',\n",
       "       'LUGAR_DEL_HECHO', 'TIPO_DE_CALLE', 'Calle', 'Altura', 'Cruce',\n",
       "       'Dirección Normalizada', 'COMUNA', 'XY (CABA)', 'pos x', 'pos y',\n",
       "       'PARTICIPANTES', 'VICTIMA', 'ACUSADO'],\n",
       "      dtype='object')"
      ]
     },
     "execution_count": 3,
     "metadata": {},
     "output_type": "execute_result"
    }
   ],
   "source": [
    "#Vemos las columnas que tenemos en el DF\n",
    "df_homicidios_hechos.columns"
   ]
  },
  {
   "cell_type": "code",
   "execution_count": 4,
   "metadata": {},
   "outputs": [],
   "source": [
    "#Normalizamos los nombres de las columnas ya que algunas están en UPPER y otras en LOWER case.\n",
    "nuevos_nombres = {\n",
    "    'Calle': 'CALLE',\n",
    "    'Altura': 'ALTURA',\n",
    "    'Cruce': 'CRUCE',\n",
    "    'Dirección Normalizada': 'DIRECCION_NORMALIZADA',\n",
    "    'XY (CABA)': 'XY_CABA',\n",
    "    'pos x': 'POS_X',\n",
    "    'pos y': 'POS_Y',\n",
    "    'PARTICIPANTES': 'PARTICIPANTES',\n",
    "    'VICTIMA': 'VICTIMA',\n",
    "    'ACUSADO': 'ACUSADO'\n",
    "}\n",
    "\n",
    "df_homicidios_hechos.rename(columns=nuevos_nombres, inplace=True)"
   ]
  },
  {
   "cell_type": "code",
   "execution_count": 5,
   "metadata": {},
   "outputs": [],
   "source": [
    "#Seleccionamos las columnas mas relevantes para el modelo\n",
    "columnas_hechos = ['ID', 'N_VICTIMAS', 'FECHA', 'HORA', 'TIPO_DE_CALLE', 'COMUNA', 'POS_X', 'POS_Y', 'VICTIMA', 'ACUSADO']"
   ]
  },
  {
   "cell_type": "code",
   "execution_count": 6,
   "metadata": {},
   "outputs": [
    {
     "data": {
      "text/html": [
       "<div>\n",
       "<style scoped>\n",
       "    .dataframe tbody tr th:only-of-type {\n",
       "        vertical-align: middle;\n",
       "    }\n",
       "\n",
       "    .dataframe tbody tr th {\n",
       "        vertical-align: top;\n",
       "    }\n",
       "\n",
       "    .dataframe thead th {\n",
       "        text-align: right;\n",
       "    }\n",
       "</style>\n",
       "<table border=\"1\" class=\"dataframe\">\n",
       "  <thead>\n",
       "    <tr style=\"text-align: right;\">\n",
       "      <th></th>\n",
       "      <th>ID</th>\n",
       "      <th>N_VICTIMAS</th>\n",
       "      <th>FECHA</th>\n",
       "      <th>HORA</th>\n",
       "      <th>TIPO_DE_CALLE</th>\n",
       "      <th>COMUNA</th>\n",
       "      <th>POS_X</th>\n",
       "      <th>POS_Y</th>\n",
       "      <th>VICTIMA</th>\n",
       "      <th>ACUSADO</th>\n",
       "    </tr>\n",
       "  </thead>\n",
       "  <tbody>\n",
       "    <tr>\n",
       "      <th>0</th>\n",
       "      <td>2016-0001</td>\n",
       "      <td>1</td>\n",
       "      <td>2016-01-01</td>\n",
       "      <td>04:00:00</td>\n",
       "      <td>AVENIDA</td>\n",
       "      <td>8</td>\n",
       "      <td>-58.47533969</td>\n",
       "      <td>-34.68757022</td>\n",
       "      <td>MOTO</td>\n",
       "      <td>AUTO</td>\n",
       "    </tr>\n",
       "    <tr>\n",
       "      <th>1</th>\n",
       "      <td>2016-0002</td>\n",
       "      <td>1</td>\n",
       "      <td>2016-01-02</td>\n",
       "      <td>01:15:00</td>\n",
       "      <td>GRAL PAZ</td>\n",
       "      <td>9</td>\n",
       "      <td>-58.50877521</td>\n",
       "      <td>-34.66977709</td>\n",
       "      <td>AUTO</td>\n",
       "      <td>PASAJEROS</td>\n",
       "    </tr>\n",
       "    <tr>\n",
       "      <th>2</th>\n",
       "      <td>2016-0003</td>\n",
       "      <td>1</td>\n",
       "      <td>2016-01-03</td>\n",
       "      <td>07:00:00</td>\n",
       "      <td>AVENIDA</td>\n",
       "      <td>1</td>\n",
       "      <td>-58.39040293</td>\n",
       "      <td>-34.63189362</td>\n",
       "      <td>MOTO</td>\n",
       "      <td>AUTO</td>\n",
       "    </tr>\n",
       "    <tr>\n",
       "      <th>3</th>\n",
       "      <td>2016-0004</td>\n",
       "      <td>1</td>\n",
       "      <td>2016-01-10</td>\n",
       "      <td>00:00:00</td>\n",
       "      <td>AVENIDA</td>\n",
       "      <td>8</td>\n",
       "      <td>-58.46503904</td>\n",
       "      <td>-34.68092974</td>\n",
       "      <td>MOTO</td>\n",
       "      <td>SD</td>\n",
       "    </tr>\n",
       "    <tr>\n",
       "      <th>4</th>\n",
       "      <td>2016-0005</td>\n",
       "      <td>1</td>\n",
       "      <td>2016-01-21</td>\n",
       "      <td>05:20:00</td>\n",
       "      <td>AVENIDA</td>\n",
       "      <td>1</td>\n",
       "      <td>-58.38718297</td>\n",
       "      <td>-34.62246630</td>\n",
       "      <td>MOTO</td>\n",
       "      <td>PASAJEROS</td>\n",
       "    </tr>\n",
       "  </tbody>\n",
       "</table>\n",
       "</div>"
      ],
      "text/plain": [
       "          ID  N_VICTIMAS      FECHA      HORA TIPO_DE_CALLE  COMUNA  \\\n",
       "0  2016-0001           1 2016-01-01  04:00:00       AVENIDA       8   \n",
       "1  2016-0002           1 2016-01-02  01:15:00      GRAL PAZ       9   \n",
       "2  2016-0003           1 2016-01-03  07:00:00       AVENIDA       1   \n",
       "3  2016-0004           1 2016-01-10  00:00:00       AVENIDA       8   \n",
       "4  2016-0005           1 2016-01-21  05:20:00       AVENIDA       1   \n",
       "\n",
       "          POS_X         POS_Y VICTIMA    ACUSADO  \n",
       "0  -58.47533969  -34.68757022    MOTO       AUTO  \n",
       "1  -58.50877521  -34.66977709    AUTO  PASAJEROS  \n",
       "2  -58.39040293  -34.63189362    MOTO       AUTO  \n",
       "3  -58.46503904  -34.68092974    MOTO         SD  \n",
       "4  -58.38718297  -34.62246630    MOTO  PASAJEROS  "
      ]
     },
     "execution_count": 6,
     "metadata": {},
     "output_type": "execute_result"
    }
   ],
   "source": [
    "#Nos quedamos con las mas relevantes. Evitamos la redundancia y datos que no aporten al modelo. También evitamos las columnas calculadas o derivadas de otras.\n",
    "df_homicidios_hechos = df_homicidios_hechos[columnas_hechos]\n",
    "df_homicidios_hechos.head()"
   ]
  },
  {
   "cell_type": "markdown",
   "metadata": {},
   "source": [
    "## <u>IMPUTACIÓN DE VALORES</u>\n",
    "\n",
    "Analizaremos cada columna y trataremos de imputar valores en los casos donde no tengamos información."
   ]
  },
  {
   "cell_type": "code",
   "execution_count": 7,
   "metadata": {},
   "outputs": [
    {
     "name": "stdout",
     "output_type": "stream",
     "text": [
      "<class 'pandas.core.frame.DataFrame'>\n",
      "RangeIndex: 696 entries, 0 to 695\n",
      "Data columns (total 10 columns):\n",
      " #   Column         Non-Null Count  Dtype         \n",
      "---  ------         --------------  -----         \n",
      " 0   ID             696 non-null    object        \n",
      " 1   N_VICTIMAS     696 non-null    int64         \n",
      " 2   FECHA          696 non-null    datetime64[ns]\n",
      " 3   HORA           696 non-null    object        \n",
      " 4   TIPO_DE_CALLE  696 non-null    object        \n",
      " 5   COMUNA         696 non-null    int64         \n",
      " 6   POS_X          696 non-null    object        \n",
      " 7   POS_Y          696 non-null    object        \n",
      " 8   VICTIMA        696 non-null    object        \n",
      " 9   ACUSADO        696 non-null    object        \n",
      "dtypes: datetime64[ns](1), int64(2), object(7)\n",
      "memory usage: 54.5+ KB\n"
     ]
    }
   ],
   "source": [
    "#Vemos si tenemos datos nulos ==> No tenemos para las columnas seleccionadas, pero hay casos con SD (Sin Dato).\n",
    "df_homicidios_hechos.info()"
   ]
  },
  {
   "cell_type": "markdown",
   "metadata": {},
   "source": [
    "- N_VICTIMAS     "
   ]
  },
  {
   "cell_type": "code",
   "execution_count": 8,
   "metadata": {},
   "outputs": [
    {
     "data": {
      "text/plain": [
       "N_VICTIMAS\n",
       "1    676\n",
       "2     19\n",
       "3      1\n",
       "Name: count, dtype: int64"
      ]
     },
     "execution_count": 8,
     "metadata": {},
     "output_type": "execute_result"
    }
   ],
   "source": [
    "#Aca podemos ver que en los accidentes, han fallecido entre 1 y 3 personas. No hace falta imputar!\n",
    "df_homicidios_hechos['N_VICTIMAS'].value_counts()"
   ]
  },
  {
   "cell_type": "markdown",
   "metadata": {},
   "source": [
    "- FECHA          "
   ]
  },
  {
   "cell_type": "markdown",
   "metadata": {},
   "source": [
    "Están todas informadas porque la columna ya esta casteada a Datetime, si hubiese algún dato en SD estaría en tipo object."
   ]
  },
  {
   "cell_type": "markdown",
   "metadata": {},
   "source": [
    "- HORA"
   ]
  },
  {
   "cell_type": "code",
   "execution_count": 9,
   "metadata": {},
   "outputs": [],
   "source": [
    "#Vimos que habían casos con SD, asi que les asignamos NaN\n",
    "df_homicidios_hechos['HORA'] = df_homicidios_hechos['HORA'].replace('SD', np.nan)"
   ]
  },
  {
   "cell_type": "markdown",
   "metadata": {},
   "source": [
    "- COMUNA"
   ]
  },
  {
   "cell_type": "code",
   "execution_count": 10,
   "metadata": {},
   "outputs": [
    {
     "data": {
      "text/plain": [
       "COMUNA\n",
       "1     90\n",
       "4     76\n",
       "9     73\n",
       "8     65\n",
       "7     60\n",
       "3     45\n",
       "15    44\n",
       "13    40\n",
       "12    37\n",
       "14    35\n",
       "11    32\n",
       "10    29\n",
       "2     25\n",
       "5     22\n",
       "6     21\n",
       "0      2\n",
       "Name: count, dtype: int64"
      ]
     },
     "execution_count": 10,
     "metadata": {},
     "output_type": "execute_result"
    }
   ],
   "source": [
    "df_homicidios_hechos['COMUNA'].value_counts()"
   ]
  },
  {
   "cell_type": "code",
   "execution_count": 11,
   "metadata": {},
   "outputs": [
    {
     "data": {
      "text/html": [
       "<div>\n",
       "<style scoped>\n",
       "    .dataframe tbody tr th:only-of-type {\n",
       "        vertical-align: middle;\n",
       "    }\n",
       "\n",
       "    .dataframe tbody tr th {\n",
       "        vertical-align: top;\n",
       "    }\n",
       "\n",
       "    .dataframe thead th {\n",
       "        text-align: right;\n",
       "    }\n",
       "</style>\n",
       "<table border=\"1\" class=\"dataframe\">\n",
       "  <thead>\n",
       "    <tr style=\"text-align: right;\">\n",
       "      <th></th>\n",
       "      <th>ID</th>\n",
       "      <th>N_VICTIMAS</th>\n",
       "      <th>FECHA</th>\n",
       "      <th>HORA</th>\n",
       "      <th>TIPO_DE_CALLE</th>\n",
       "      <th>COMUNA</th>\n",
       "      <th>POS_X</th>\n",
       "      <th>POS_Y</th>\n",
       "      <th>VICTIMA</th>\n",
       "      <th>ACUSADO</th>\n",
       "    </tr>\n",
       "  </thead>\n",
       "  <tbody>\n",
       "    <tr>\n",
       "      <th>119</th>\n",
       "      <td>2016-0151</td>\n",
       "      <td>1</td>\n",
       "      <td>2016-11-18</td>\n",
       "      <td>20:35:00</td>\n",
       "      <td>CALLE</td>\n",
       "      <td>0</td>\n",
       "      <td>.</td>\n",
       "      <td>.</td>\n",
       "      <td>PEATON</td>\n",
       "      <td>SD</td>\n",
       "    </tr>\n",
       "    <tr>\n",
       "      <th>139</th>\n",
       "      <td>2016-0174</td>\n",
       "      <td>1</td>\n",
       "      <td>2016-12-27</td>\n",
       "      <td>00:00:00</td>\n",
       "      <td>AUTOPISTA</td>\n",
       "      <td>0</td>\n",
       "      <td>.</td>\n",
       "      <td>.</td>\n",
       "      <td>SD</td>\n",
       "      <td>SD</td>\n",
       "    </tr>\n",
       "  </tbody>\n",
       "</table>\n",
       "</div>"
      ],
      "text/plain": [
       "            ID  N_VICTIMAS      FECHA      HORA TIPO_DE_CALLE  COMUNA POS_X  \\\n",
       "119  2016-0151           1 2016-11-18  20:35:00         CALLE       0     .   \n",
       "139  2016-0174           1 2016-12-27  00:00:00     AUTOPISTA       0     .   \n",
       "\n",
       "    POS_Y VICTIMA ACUSADO  \n",
       "119     .  PEATON      SD  \n",
       "139     .      SD      SD  "
      ]
     },
     "execution_count": 11,
     "metadata": {},
     "output_type": "execute_result"
    }
   ],
   "source": [
    "#Vemos los registros con comuna 0: La comuna 0 no existe.\n",
    "df_homicidios_hechos[df_homicidios_hechos['COMUNA'] == 0]"
   ]
  },
  {
   "cell_type": "markdown",
   "metadata": {},
   "source": [
    "procedemos a eliminar esos registro con comuna 0"
   ]
  },
  {
   "cell_type": "code",
   "execution_count": 12,
   "metadata": {},
   "outputs": [
    {
     "data": {
      "text/plain": [
       "COMUNA\n",
       "1     90\n",
       "4     76\n",
       "9     73\n",
       "8     65\n",
       "7     60\n",
       "3     45\n",
       "15    44\n",
       "13    40\n",
       "12    37\n",
       "14    35\n",
       "11    32\n",
       "10    29\n",
       "2     25\n",
       "5     22\n",
       "6     21\n",
       "Name: count, dtype: int64"
      ]
     },
     "execution_count": 12,
     "metadata": {},
     "output_type": "execute_result"
    }
   ],
   "source": [
    "df_homicidios_hechos = df_homicidios_hechos[df_homicidios_hechos['COMUNA'] != 0]\n",
    "df_homicidios_hechos['COMUNA'].value_counts()"
   ]
  },
  {
   "cell_type": "markdown",
   "metadata": {},
   "source": [
    "- POS_X y POS_Y"
   ]
  },
  {
   "cell_type": "markdown",
   "metadata": {},
   "source": [
    "vamos a ver los registros que no tienen coordenadas"
   ]
  },
  {
   "cell_type": "code",
   "execution_count": 13,
   "metadata": {},
   "outputs": [
    {
     "data": {
      "text/html": [
       "<div>\n",
       "<style scoped>\n",
       "    .dataframe tbody tr th:only-of-type {\n",
       "        vertical-align: middle;\n",
       "    }\n",
       "\n",
       "    .dataframe tbody tr th {\n",
       "        vertical-align: top;\n",
       "    }\n",
       "\n",
       "    .dataframe thead th {\n",
       "        text-align: right;\n",
       "    }\n",
       "</style>\n",
       "<table border=\"1\" class=\"dataframe\">\n",
       "  <thead>\n",
       "    <tr style=\"text-align: right;\">\n",
       "      <th></th>\n",
       "      <th>ID</th>\n",
       "      <th>N_VICTIMAS</th>\n",
       "      <th>FECHA</th>\n",
       "      <th>HORA</th>\n",
       "      <th>TIPO_DE_CALLE</th>\n",
       "      <th>COMUNA</th>\n",
       "      <th>POS_X</th>\n",
       "      <th>POS_Y</th>\n",
       "      <th>VICTIMA</th>\n",
       "      <th>ACUSADO</th>\n",
       "    </tr>\n",
       "  </thead>\n",
       "  <tbody>\n",
       "    <tr>\n",
       "      <th>38</th>\n",
       "      <td>2016-0052</td>\n",
       "      <td>1</td>\n",
       "      <td>2016-04-20</td>\n",
       "      <td>20:00:00</td>\n",
       "      <td>AUTOPISTA</td>\n",
       "      <td>13</td>\n",
       "      <td>.</td>\n",
       "      <td>.</td>\n",
       "      <td>MOTO</td>\n",
       "      <td>SD</td>\n",
       "    </tr>\n",
       "    <tr>\n",
       "      <th>106</th>\n",
       "      <td>2016-0136</td>\n",
       "      <td>1</td>\n",
       "      <td>2016-10-25</td>\n",
       "      <td>00:00:00</td>\n",
       "      <td>AUTOPISTA</td>\n",
       "      <td>4</td>\n",
       "      <td>.</td>\n",
       "      <td>.</td>\n",
       "      <td>MOTO</td>\n",
       "      <td>CARGAS</td>\n",
       "    </tr>\n",
       "    <tr>\n",
       "      <th>176</th>\n",
       "      <td>2017-0042</td>\n",
       "      <td>1</td>\n",
       "      <td>2017-04-10</td>\n",
       "      <td>09:00:00</td>\n",
       "      <td>GRAL PAZ</td>\n",
       "      <td>14</td>\n",
       "      <td>.</td>\n",
       "      <td>.</td>\n",
       "      <td>MOTO</td>\n",
       "      <td>CARGAS</td>\n",
       "    </tr>\n",
       "    <tr>\n",
       "      <th>180</th>\n",
       "      <td>2017-0050</td>\n",
       "      <td>2</td>\n",
       "      <td>2017-04-28</td>\n",
       "      <td>11:08:08</td>\n",
       "      <td>AUTOPISTA</td>\n",
       "      <td>9</td>\n",
       "      <td>.</td>\n",
       "      <td>.</td>\n",
       "      <td>MOTO</td>\n",
       "      <td>CARGAS</td>\n",
       "    </tr>\n",
       "    <tr>\n",
       "      <th>181</th>\n",
       "      <td>2017-0051</td>\n",
       "      <td>1</td>\n",
       "      <td>2017-05-01</td>\n",
       "      <td>03:47:47</td>\n",
       "      <td>AUTOPISTA</td>\n",
       "      <td>7</td>\n",
       "      <td>.</td>\n",
       "      <td>.</td>\n",
       "      <td>AUTO</td>\n",
       "      <td>AUTO</td>\n",
       "    </tr>\n",
       "    <tr>\n",
       "      <th>256</th>\n",
       "      <td>2017-0140</td>\n",
       "      <td>1</td>\n",
       "      <td>2017-11-19</td>\n",
       "      <td>23:22:17</td>\n",
       "      <td>AUTOPISTA</td>\n",
       "      <td>4</td>\n",
       "      <td>.</td>\n",
       "      <td>.</td>\n",
       "      <td>MOTO</td>\n",
       "      <td>PASAJEROS</td>\n",
       "    </tr>\n",
       "    <tr>\n",
       "      <th>313</th>\n",
       "      <td>2018-0039</td>\n",
       "      <td>1</td>\n",
       "      <td>2018-04-21</td>\n",
       "      <td>22:15:00</td>\n",
       "      <td>AUTOPISTA</td>\n",
       "      <td>14</td>\n",
       "      <td>.</td>\n",
       "      <td>.</td>\n",
       "      <td>PEATON</td>\n",
       "      <td>AUTO</td>\n",
       "    </tr>\n",
       "    <tr>\n",
       "      <th>546</th>\n",
       "      <td>2020-0026</td>\n",
       "      <td>1</td>\n",
       "      <td>2020-05-17</td>\n",
       "      <td>06:40:00</td>\n",
       "      <td>AUTOPISTA</td>\n",
       "      <td>14</td>\n",
       "      <td>.</td>\n",
       "      <td>.</td>\n",
       "      <td>MOTO</td>\n",
       "      <td>OBJETO FIJO</td>\n",
       "    </tr>\n",
       "    <tr>\n",
       "      <th>559</th>\n",
       "      <td>2020-0039</td>\n",
       "      <td>1</td>\n",
       "      <td>2020-09-01</td>\n",
       "      <td>19:17:42</td>\n",
       "      <td>CALLE</td>\n",
       "      <td>9</td>\n",
       "      <td>.</td>\n",
       "      <td>.</td>\n",
       "      <td>PEATON</td>\n",
       "      <td>CARGAS</td>\n",
       "    </tr>\n",
       "    <tr>\n",
       "      <th>621</th>\n",
       "      <td>2021-0023</td>\n",
       "      <td>1</td>\n",
       "      <td>2021-03-01</td>\n",
       "      <td>09:20:00</td>\n",
       "      <td>AUTOPISTA</td>\n",
       "      <td>4</td>\n",
       "      <td>.</td>\n",
       "      <td>.</td>\n",
       "      <td>MOTO</td>\n",
       "      <td>CARGAS</td>\n",
       "    </tr>\n",
       "  </tbody>\n",
       "</table>\n",
       "</div>"
      ],
      "text/plain": [
       "            ID  N_VICTIMAS      FECHA      HORA TIPO_DE_CALLE  COMUNA POS_X  \\\n",
       "38   2016-0052           1 2016-04-20  20:00:00     AUTOPISTA      13     .   \n",
       "106  2016-0136           1 2016-10-25  00:00:00     AUTOPISTA       4     .   \n",
       "176  2017-0042           1 2017-04-10  09:00:00      GRAL PAZ      14     .   \n",
       "180  2017-0050           2 2017-04-28  11:08:08     AUTOPISTA       9     .   \n",
       "181  2017-0051           1 2017-05-01  03:47:47     AUTOPISTA       7     .   \n",
       "256  2017-0140           1 2017-11-19  23:22:17     AUTOPISTA       4     .   \n",
       "313  2018-0039           1 2018-04-21  22:15:00     AUTOPISTA      14     .   \n",
       "546  2020-0026           1 2020-05-17  06:40:00     AUTOPISTA      14     .   \n",
       "559  2020-0039           1 2020-09-01  19:17:42         CALLE       9     .   \n",
       "621  2021-0023           1 2021-03-01  09:20:00     AUTOPISTA       4     .   \n",
       "\n",
       "    POS_Y VICTIMA      ACUSADO  \n",
       "38      .    MOTO           SD  \n",
       "106     .    MOTO       CARGAS  \n",
       "176     .    MOTO       CARGAS  \n",
       "180     .    MOTO       CARGAS  \n",
       "181     .    AUTO         AUTO  \n",
       "256     .    MOTO    PASAJEROS  \n",
       "313     .  PEATON         AUTO  \n",
       "546     .    MOTO  OBJETO FIJO  \n",
       "559     .  PEATON       CARGAS  \n",
       "621     .    MOTO       CARGAS  "
      ]
     },
     "execution_count": 13,
     "metadata": {},
     "output_type": "execute_result"
    }
   ],
   "source": [
    "df_homicidios_hechos[(df_homicidios_hechos['POS_X'] == '.') & (df_homicidios_hechos['POS_Y'] == '.')]"
   ]
  },
  {
   "cell_type": "code",
   "execution_count": 14,
   "metadata": {},
   "outputs": [
    {
     "data": {
      "text/plain": [
       "10"
      ]
     },
     "execution_count": 14,
     "metadata": {},
     "output_type": "execute_result"
    }
   ],
   "source": [
    "df_homicidios_hechos[(df_homicidios_hechos['POS_X'] == '.') & (df_homicidios_hechos['POS_Y'] == '.')].shape[0]"
   ]
  },
  {
   "cell_type": "markdown",
   "metadata": {},
   "source": [
    "PROCEDEMOS A ELIMINAR LOS REGISTROS SIN COORDENADAS"
   ]
  },
  {
   "cell_type": "code",
   "execution_count": 15,
   "metadata": {},
   "outputs": [
    {
     "data": {
      "text/plain": [
       "694"
      ]
     },
     "execution_count": 15,
     "metadata": {},
     "output_type": "execute_result"
    }
   ],
   "source": [
    "df_homicidios_hechos.shape[0]"
   ]
  },
  {
   "cell_type": "code",
   "execution_count": 16,
   "metadata": {},
   "outputs": [],
   "source": [
    "df_homicidios_hechos = df_homicidios_hechos[(df_homicidios_hechos['POS_X'] != '.') & (df_homicidios_hechos['POS_Y'] != '.')]"
   ]
  },
  {
   "cell_type": "code",
   "execution_count": 17,
   "metadata": {},
   "outputs": [
    {
     "data": {
      "text/plain": [
       "684"
      ]
     },
     "execution_count": 17,
     "metadata": {},
     "output_type": "execute_result"
    }
   ],
   "source": [
    "df_homicidios_hechos.shape[0]"
   ]
  },
  {
   "cell_type": "markdown",
   "metadata": {},
   "source": [
    "APLICAMOS CONVERSION DE TIPOS DE DATOS A TODAS LAS COLUMNAS LUEGO DE HABER IMPUTADO LOS DATOS"
   ]
  },
  {
   "cell_type": "code",
   "execution_count": 18,
   "metadata": {},
   "outputs": [],
   "source": [
    "# ID: Eliminar el guion y convertir la columna a tipo int\n",
    "df_homicidios_hechos['ID'] = df_homicidios_hechos['ID'].str.replace('-', '').astype(int)\n",
    "# N_VICTIMAS: Convertir la columna a tipo int\n",
    "df_homicidios_hechos['N_VICTIMAS'] = df_homicidios_hechos['N_VICTIMAS'].astype(int)\n",
    "# FECHA: Convertir la columna a tipo date\n",
    "df_homicidios_hechos['FECHA'] = pd.to_datetime(df_homicidios_hechos['FECHA'], format='%Y-%m-%d')\n",
    "# HORA: Convertir la columna a tipo datetime\n",
    "df_homicidios_hechos['HORA'] = pd.to_datetime(df_homicidios_hechos['HORA'], format='%H:%M:%S')\n",
    "# Extraer solo la parte de la hora en formato HH:MM:SS\n",
    "df_homicidios_hechos['HORA'] = df_homicidios_hechos['HORA'].dt.strftime('%H:%M:%S')\n",
    "# TIPO_DE_CALLE: Convertir la columna a tipo string\n",
    "df_homicidios_hechos['TIPO_DE_CALLE'] = df_homicidios_hechos['TIPO_DE_CALLE'].astype(str)\n",
    "# COMUNA: Convertir la columna a tipo int\n",
    "df_homicidios_hechos['COMUNA'] = df_homicidios_hechos['COMUNA'].astype(int)\n",
    "#POS_X, POS_Y: Convertir las columnas a tipo float\n",
    "df_homicidios_hechos['POS_X'] = df_homicidios_hechos['POS_X'].astype(float)\n",
    "df_homicidios_hechos['POS_Y'] = df_homicidios_hechos['POS_Y'].astype(float)\n",
    "# VICTIMA: Convertir la columna a tipo string\n",
    "df_homicidios_hechos['VICTIMA'] = df_homicidios_hechos['VICTIMA'].astype(str)\n",
    "# ACUSADO: Convertir la columna a tipo string\n",
    "df_homicidios_hechos['ACUSADO'] = df_homicidios_hechos['ACUSADO'].astype(str)"
   ]
  },
  {
   "cell_type": "code",
   "execution_count": 19,
   "metadata": {},
   "outputs": [
    {
     "data": {
      "text/html": [
       "<div>\n",
       "<style scoped>\n",
       "    .dataframe tbody tr th:only-of-type {\n",
       "        vertical-align: middle;\n",
       "    }\n",
       "\n",
       "    .dataframe tbody tr th {\n",
       "        vertical-align: top;\n",
       "    }\n",
       "\n",
       "    .dataframe thead th {\n",
       "        text-align: right;\n",
       "    }\n",
       "</style>\n",
       "<table border=\"1\" class=\"dataframe\">\n",
       "  <thead>\n",
       "    <tr style=\"text-align: right;\">\n",
       "      <th></th>\n",
       "      <th>ID</th>\n",
       "      <th>N_VICTIMAS</th>\n",
       "      <th>FECHA</th>\n",
       "      <th>HORA</th>\n",
       "      <th>TIPO_DE_CALLE</th>\n",
       "      <th>COMUNA</th>\n",
       "      <th>POS_X</th>\n",
       "      <th>POS_Y</th>\n",
       "      <th>VICTIMA</th>\n",
       "      <th>ACUSADO</th>\n",
       "    </tr>\n",
       "  </thead>\n",
       "  <tbody>\n",
       "    <tr>\n",
       "      <th>0</th>\n",
       "      <td>20160001</td>\n",
       "      <td>1</td>\n",
       "      <td>2016-01-01</td>\n",
       "      <td>04:00:00</td>\n",
       "      <td>AVENIDA</td>\n",
       "      <td>8</td>\n",
       "      <td>-58.475340</td>\n",
       "      <td>-34.687570</td>\n",
       "      <td>MOTO</td>\n",
       "      <td>AUTO</td>\n",
       "    </tr>\n",
       "    <tr>\n",
       "      <th>1</th>\n",
       "      <td>20160002</td>\n",
       "      <td>1</td>\n",
       "      <td>2016-01-02</td>\n",
       "      <td>01:15:00</td>\n",
       "      <td>GRAL PAZ</td>\n",
       "      <td>9</td>\n",
       "      <td>-58.508775</td>\n",
       "      <td>-34.669777</td>\n",
       "      <td>AUTO</td>\n",
       "      <td>PASAJEROS</td>\n",
       "    </tr>\n",
       "    <tr>\n",
       "      <th>2</th>\n",
       "      <td>20160003</td>\n",
       "      <td>1</td>\n",
       "      <td>2016-01-03</td>\n",
       "      <td>07:00:00</td>\n",
       "      <td>AVENIDA</td>\n",
       "      <td>1</td>\n",
       "      <td>-58.390403</td>\n",
       "      <td>-34.631894</td>\n",
       "      <td>MOTO</td>\n",
       "      <td>AUTO</td>\n",
       "    </tr>\n",
       "    <tr>\n",
       "      <th>3</th>\n",
       "      <td>20160004</td>\n",
       "      <td>1</td>\n",
       "      <td>2016-01-10</td>\n",
       "      <td>00:00:00</td>\n",
       "      <td>AVENIDA</td>\n",
       "      <td>8</td>\n",
       "      <td>-58.465039</td>\n",
       "      <td>-34.680930</td>\n",
       "      <td>MOTO</td>\n",
       "      <td>SD</td>\n",
       "    </tr>\n",
       "    <tr>\n",
       "      <th>4</th>\n",
       "      <td>20160005</td>\n",
       "      <td>1</td>\n",
       "      <td>2016-01-21</td>\n",
       "      <td>05:20:00</td>\n",
       "      <td>AVENIDA</td>\n",
       "      <td>1</td>\n",
       "      <td>-58.387183</td>\n",
       "      <td>-34.622466</td>\n",
       "      <td>MOTO</td>\n",
       "      <td>PASAJEROS</td>\n",
       "    </tr>\n",
       "  </tbody>\n",
       "</table>\n",
       "</div>"
      ],
      "text/plain": [
       "         ID  N_VICTIMAS      FECHA      HORA TIPO_DE_CALLE  COMUNA      POS_X  \\\n",
       "0  20160001           1 2016-01-01  04:00:00       AVENIDA       8 -58.475340   \n",
       "1  20160002           1 2016-01-02  01:15:00      GRAL PAZ       9 -58.508775   \n",
       "2  20160003           1 2016-01-03  07:00:00       AVENIDA       1 -58.390403   \n",
       "3  20160004           1 2016-01-10  00:00:00       AVENIDA       8 -58.465039   \n",
       "4  20160005           1 2016-01-21  05:20:00       AVENIDA       1 -58.387183   \n",
       "\n",
       "       POS_Y VICTIMA    ACUSADO  \n",
       "0 -34.687570    MOTO       AUTO  \n",
       "1 -34.669777    AUTO  PASAJEROS  \n",
       "2 -34.631894    MOTO       AUTO  \n",
       "3 -34.680930    MOTO         SD  \n",
       "4 -34.622466    MOTO  PASAJEROS  "
      ]
     },
     "execution_count": 19,
     "metadata": {},
     "output_type": "execute_result"
    }
   ],
   "source": [
    "df_homicidios_hechos.head()"
   ]
  },
  {
   "cell_type": "markdown",
   "metadata": {},
   "source": [
    "VAMOS A VER COLUMNA POR COLUMNA VALORES EN SD (SIN DATO)"
   ]
  },
  {
   "cell_type": "code",
   "execution_count": 20,
   "metadata": {},
   "outputs": [
    {
     "data": {
      "text/html": [
       "<div>\n",
       "<style scoped>\n",
       "    .dataframe tbody tr th:only-of-type {\n",
       "        vertical-align: middle;\n",
       "    }\n",
       "\n",
       "    .dataframe tbody tr th {\n",
       "        vertical-align: top;\n",
       "    }\n",
       "\n",
       "    .dataframe thead th {\n",
       "        text-align: right;\n",
       "    }\n",
       "</style>\n",
       "<table border=\"1\" class=\"dataframe\">\n",
       "  <thead>\n",
       "    <tr style=\"text-align: right;\">\n",
       "      <th></th>\n",
       "      <th>ID</th>\n",
       "      <th>N_VICTIMAS</th>\n",
       "      <th>FECHA</th>\n",
       "      <th>HORA</th>\n",
       "      <th>TIPO_DE_CALLE</th>\n",
       "      <th>COMUNA</th>\n",
       "      <th>POS_X</th>\n",
       "      <th>POS_Y</th>\n",
       "      <th>VICTIMA</th>\n",
       "      <th>ACUSADO</th>\n",
       "    </tr>\n",
       "  </thead>\n",
       "  <tbody>\n",
       "    <tr>\n",
       "      <th>518</th>\n",
       "      <td>20190103</td>\n",
       "      <td>1</td>\n",
       "      <td>2019-12-18</td>\n",
       "      <td>NaN</td>\n",
       "      <td>GRAL PAZ</td>\n",
       "      <td>11</td>\n",
       "      <td>-58.521694</td>\n",
       "      <td>-34.594716</td>\n",
       "      <td>MOTO</td>\n",
       "      <td>MOTO</td>\n",
       "    </tr>\n",
       "  </tbody>\n",
       "</table>\n",
       "</div>"
      ],
      "text/plain": [
       "           ID  N_VICTIMAS      FECHA HORA TIPO_DE_CALLE  COMUNA      POS_X  \\\n",
       "518  20190103           1 2019-12-18  NaN      GRAL PAZ      11 -58.521694   \n",
       "\n",
       "         POS_Y VICTIMA ACUSADO  \n",
       "518 -34.594716    MOTO    MOTO  "
      ]
     },
     "execution_count": 20,
     "metadata": {},
     "output_type": "execute_result"
    }
   ],
   "source": [
    "#Vemos los registros en donde la hora del hecho esta sin informar\n",
    "df_homicidios_hechos[df_homicidios_hechos['HORA'].isna()]"
   ]
  },
  {
   "cell_type": "code",
   "execution_count": 21,
   "metadata": {},
   "outputs": [
    {
     "data": {
      "text/plain": [
       "TIPO_DE_CALLE\n",
       "AVENIDA      429\n",
       "CALLE        134\n",
       "GRAL PAZ      64\n",
       "AUTOPISTA     57\n",
       "Name: count, dtype: int64"
      ]
     },
     "execution_count": 21,
     "metadata": {},
     "output_type": "execute_result"
    }
   ],
   "source": [
    "#Vemos los valores posibles en TIPO_DE_CALLE. Están todos informados.\n",
    "df_homicidios_hechos['TIPO_DE_CALLE'].value_counts()"
   ]
  },
  {
   "cell_type": "code",
   "execution_count": 22,
   "metadata": {},
   "outputs": [
    {
     "data": {
      "text/plain": [
       "COMUNA\n",
       "1     90\n",
       "4     73\n",
       "9     71\n",
       "8     65\n",
       "7     59\n",
       "3     45\n",
       "15    44\n",
       "13    39\n",
       "12    37\n",
       "11    32\n",
       "14    32\n",
       "10    29\n",
       "2     25\n",
       "5     22\n",
       "6     21\n",
       "Name: count, dtype: int64"
      ]
     },
     "execution_count": 22,
     "metadata": {},
     "output_type": "execute_result"
    }
   ],
   "source": [
    "#Vemos los valores posibles en TIPO_DE_CALLE. Están todos informados.\n",
    "df_homicidios_hechos['COMUNA'].value_counts()"
   ]
  },
  {
   "cell_type": "code",
   "execution_count": 23,
   "metadata": {},
   "outputs": [
    {
     "data": {
      "text/plain": [
       "8"
      ]
     },
     "execution_count": 23,
     "metadata": {},
     "output_type": "execute_result"
    }
   ],
   "source": [
    "#Vemos los registros en donde no esta informado el tipo de móvil de la victima\n",
    "df_homicidios_hechos[df_homicidios_hechos['VICTIMA'] == \"SD\"].shape[0]"
   ]
  },
  {
   "cell_type": "code",
   "execution_count": 24,
   "metadata": {},
   "outputs": [
    {
     "data": {
      "text/html": [
       "<div>\n",
       "<style scoped>\n",
       "    .dataframe tbody tr th:only-of-type {\n",
       "        vertical-align: middle;\n",
       "    }\n",
       "\n",
       "    .dataframe tbody tr th {\n",
       "        vertical-align: top;\n",
       "    }\n",
       "\n",
       "    .dataframe thead th {\n",
       "        text-align: right;\n",
       "    }\n",
       "</style>\n",
       "<table border=\"1\" class=\"dataframe\">\n",
       "  <thead>\n",
       "    <tr style=\"text-align: right;\">\n",
       "      <th></th>\n",
       "      <th>ID</th>\n",
       "      <th>N_VICTIMAS</th>\n",
       "      <th>FECHA</th>\n",
       "      <th>HORA</th>\n",
       "      <th>TIPO_DE_CALLE</th>\n",
       "      <th>COMUNA</th>\n",
       "      <th>POS_X</th>\n",
       "      <th>POS_Y</th>\n",
       "      <th>VICTIMA</th>\n",
       "      <th>ACUSADO</th>\n",
       "    </tr>\n",
       "  </thead>\n",
       "  <tbody>\n",
       "    <tr>\n",
       "      <th>35</th>\n",
       "      <td>20160049</td>\n",
       "      <td>1</td>\n",
       "      <td>2016-04-17</td>\n",
       "      <td>00:00:00</td>\n",
       "      <td>AUTOPISTA</td>\n",
       "      <td>4</td>\n",
       "      <td>-58.377146</td>\n",
       "      <td>-34.636575</td>\n",
       "      <td>SD</td>\n",
       "      <td>SD</td>\n",
       "    </tr>\n",
       "    <tr>\n",
       "      <th>76</th>\n",
       "      <td>20160101</td>\n",
       "      <td>1</td>\n",
       "      <td>2016-08-07</td>\n",
       "      <td>19:42:00</td>\n",
       "      <td>GRAL PAZ</td>\n",
       "      <td>9</td>\n",
       "      <td>-58.529329</td>\n",
       "      <td>-34.650150</td>\n",
       "      <td>SD</td>\n",
       "      <td>SD</td>\n",
       "    </tr>\n",
       "    <tr>\n",
       "      <th>88</th>\n",
       "      <td>20160115</td>\n",
       "      <td>1</td>\n",
       "      <td>2016-09-02</td>\n",
       "      <td>11:50:00</td>\n",
       "      <td>CALLE</td>\n",
       "      <td>12</td>\n",
       "      <td>-58.489350</td>\n",
       "      <td>-34.549177</td>\n",
       "      <td>SD</td>\n",
       "      <td>CARGAS</td>\n",
       "    </tr>\n",
       "    <tr>\n",
       "      <th>92</th>\n",
       "      <td>20160119</td>\n",
       "      <td>1</td>\n",
       "      <td>2016-09-04</td>\n",
       "      <td>06:40:00</td>\n",
       "      <td>AVENIDA</td>\n",
       "      <td>12</td>\n",
       "      <td>-58.496592</td>\n",
       "      <td>-34.563536</td>\n",
       "      <td>SD</td>\n",
       "      <td>SD</td>\n",
       "    </tr>\n",
       "    <tr>\n",
       "      <th>164</th>\n",
       "      <td>20170029</td>\n",
       "      <td>1</td>\n",
       "      <td>2017-03-07</td>\n",
       "      <td>02:15:00</td>\n",
       "      <td>CALLE</td>\n",
       "      <td>9</td>\n",
       "      <td>-58.485013</td>\n",
       "      <td>-34.647425</td>\n",
       "      <td>SD</td>\n",
       "      <td>AUTO</td>\n",
       "    </tr>\n",
       "    <tr>\n",
       "      <th>201</th>\n",
       "      <td>20170074</td>\n",
       "      <td>1</td>\n",
       "      <td>2017-06-04</td>\n",
       "      <td>12:50:00</td>\n",
       "      <td>CALLE</td>\n",
       "      <td>9</td>\n",
       "      <td>-58.525671</td>\n",
       "      <td>-34.637878</td>\n",
       "      <td>SD</td>\n",
       "      <td>SD</td>\n",
       "    </tr>\n",
       "    <tr>\n",
       "      <th>214</th>\n",
       "      <td>20170089</td>\n",
       "      <td>1</td>\n",
       "      <td>2017-07-13</td>\n",
       "      <td>12:05:00</td>\n",
       "      <td>CALLE</td>\n",
       "      <td>9</td>\n",
       "      <td>-58.515147</td>\n",
       "      <td>-34.647871</td>\n",
       "      <td>SD</td>\n",
       "      <td>AUTO</td>\n",
       "    </tr>\n",
       "    <tr>\n",
       "      <th>269</th>\n",
       "      <td>20170155</td>\n",
       "      <td>1</td>\n",
       "      <td>2017-12-12</td>\n",
       "      <td>21:25:41</td>\n",
       "      <td>AVENIDA</td>\n",
       "      <td>7</td>\n",
       "      <td>-58.455939</td>\n",
       "      <td>-34.626569</td>\n",
       "      <td>SD</td>\n",
       "      <td>MOTO</td>\n",
       "    </tr>\n",
       "  </tbody>\n",
       "</table>\n",
       "</div>"
      ],
      "text/plain": [
       "           ID  N_VICTIMAS      FECHA      HORA TIPO_DE_CALLE  COMUNA  \\\n",
       "35   20160049           1 2016-04-17  00:00:00     AUTOPISTA       4   \n",
       "76   20160101           1 2016-08-07  19:42:00      GRAL PAZ       9   \n",
       "88   20160115           1 2016-09-02  11:50:00         CALLE      12   \n",
       "92   20160119           1 2016-09-04  06:40:00       AVENIDA      12   \n",
       "164  20170029           1 2017-03-07  02:15:00         CALLE       9   \n",
       "201  20170074           1 2017-06-04  12:50:00         CALLE       9   \n",
       "214  20170089           1 2017-07-13  12:05:00         CALLE       9   \n",
       "269  20170155           1 2017-12-12  21:25:41       AVENIDA       7   \n",
       "\n",
       "         POS_X      POS_Y VICTIMA ACUSADO  \n",
       "35  -58.377146 -34.636575      SD      SD  \n",
       "76  -58.529329 -34.650150      SD      SD  \n",
       "88  -58.489350 -34.549177      SD  CARGAS  \n",
       "92  -58.496592 -34.563536      SD      SD  \n",
       "164 -58.485013 -34.647425      SD    AUTO  \n",
       "201 -58.525671 -34.637878      SD      SD  \n",
       "214 -58.515147 -34.647871      SD    AUTO  \n",
       "269 -58.455939 -34.626569      SD    MOTO  "
      ]
     },
     "execution_count": 24,
     "metadata": {},
     "output_type": "execute_result"
    }
   ],
   "source": [
    "df_homicidios_hechos[df_homicidios_hechos['VICTIMA'] == \"SD\"]"
   ]
  },
  {
   "cell_type": "code",
   "execution_count": 25,
   "metadata": {},
   "outputs": [
    {
     "data": {
      "text/plain": [
       "20"
      ]
     },
     "execution_count": 25,
     "metadata": {},
     "output_type": "execute_result"
    }
   ],
   "source": [
    "#Vemos los registros en donde no esta informado el tipo de móvil del acusado\n",
    "df_homicidios_hechos[df_homicidios_hechos['ACUSADO'] == \"SD\"].shape[0]"
   ]
  },
  {
   "cell_type": "code",
   "execution_count": 26,
   "metadata": {},
   "outputs": [
    {
     "data": {
      "text/html": [
       "<div>\n",
       "<style scoped>\n",
       "    .dataframe tbody tr th:only-of-type {\n",
       "        vertical-align: middle;\n",
       "    }\n",
       "\n",
       "    .dataframe tbody tr th {\n",
       "        vertical-align: top;\n",
       "    }\n",
       "\n",
       "    .dataframe thead th {\n",
       "        text-align: right;\n",
       "    }\n",
       "</style>\n",
       "<table border=\"1\" class=\"dataframe\">\n",
       "  <thead>\n",
       "    <tr style=\"text-align: right;\">\n",
       "      <th></th>\n",
       "      <th>ID</th>\n",
       "      <th>N_VICTIMAS</th>\n",
       "      <th>FECHA</th>\n",
       "      <th>HORA</th>\n",
       "      <th>TIPO_DE_CALLE</th>\n",
       "      <th>COMUNA</th>\n",
       "      <th>POS_X</th>\n",
       "      <th>POS_Y</th>\n",
       "      <th>VICTIMA</th>\n",
       "      <th>ACUSADO</th>\n",
       "    </tr>\n",
       "  </thead>\n",
       "  <tbody>\n",
       "    <tr>\n",
       "      <th>3</th>\n",
       "      <td>20160004</td>\n",
       "      <td>1</td>\n",
       "      <td>2016-01-10</td>\n",
       "      <td>00:00:00</td>\n",
       "      <td>AVENIDA</td>\n",
       "      <td>8</td>\n",
       "      <td>-58.465039</td>\n",
       "      <td>-34.680930</td>\n",
       "      <td>MOTO</td>\n",
       "      <td>SD</td>\n",
       "    </tr>\n",
       "    <tr>\n",
       "      <th>32</th>\n",
       "      <td>20160045</td>\n",
       "      <td>1</td>\n",
       "      <td>2016-04-11</td>\n",
       "      <td>10:25:00</td>\n",
       "      <td>GRAL PAZ</td>\n",
       "      <td>13</td>\n",
       "      <td>-58.467435</td>\n",
       "      <td>-34.534769</td>\n",
       "      <td>MOTO</td>\n",
       "      <td>SD</td>\n",
       "    </tr>\n",
       "    <tr>\n",
       "      <th>35</th>\n",
       "      <td>20160049</td>\n",
       "      <td>1</td>\n",
       "      <td>2016-04-17</td>\n",
       "      <td>00:00:00</td>\n",
       "      <td>AUTOPISTA</td>\n",
       "      <td>4</td>\n",
       "      <td>-58.377146</td>\n",
       "      <td>-34.636575</td>\n",
       "      <td>SD</td>\n",
       "      <td>SD</td>\n",
       "    </tr>\n",
       "    <tr>\n",
       "      <th>57</th>\n",
       "      <td>20160080</td>\n",
       "      <td>1</td>\n",
       "      <td>2016-06-18</td>\n",
       "      <td>06:42:00</td>\n",
       "      <td>GRAL PAZ</td>\n",
       "      <td>9</td>\n",
       "      <td>-58.529280</td>\n",
       "      <td>-34.639318</td>\n",
       "      <td>AUTO</td>\n",
       "      <td>SD</td>\n",
       "    </tr>\n",
       "    <tr>\n",
       "      <th>76</th>\n",
       "      <td>20160101</td>\n",
       "      <td>1</td>\n",
       "      <td>2016-08-07</td>\n",
       "      <td>19:42:00</td>\n",
       "      <td>GRAL PAZ</td>\n",
       "      <td>9</td>\n",
       "      <td>-58.529329</td>\n",
       "      <td>-34.650150</td>\n",
       "      <td>SD</td>\n",
       "      <td>SD</td>\n",
       "    </tr>\n",
       "    <tr>\n",
       "      <th>83</th>\n",
       "      <td>20160110</td>\n",
       "      <td>1</td>\n",
       "      <td>2016-08-24</td>\n",
       "      <td>20:21:00</td>\n",
       "      <td>AVENIDA</td>\n",
       "      <td>9</td>\n",
       "      <td>-58.512322</td>\n",
       "      <td>-34.659035</td>\n",
       "      <td>PEATON</td>\n",
       "      <td>SD</td>\n",
       "    </tr>\n",
       "    <tr>\n",
       "      <th>92</th>\n",
       "      <td>20160119</td>\n",
       "      <td>1</td>\n",
       "      <td>2016-09-04</td>\n",
       "      <td>06:40:00</td>\n",
       "      <td>AVENIDA</td>\n",
       "      <td>12</td>\n",
       "      <td>-58.496592</td>\n",
       "      <td>-34.563536</td>\n",
       "      <td>SD</td>\n",
       "      <td>SD</td>\n",
       "    </tr>\n",
       "    <tr>\n",
       "      <th>105</th>\n",
       "      <td>20160135</td>\n",
       "      <td>1</td>\n",
       "      <td>2016-10-24</td>\n",
       "      <td>05:00:00</td>\n",
       "      <td>AVENIDA</td>\n",
       "      <td>14</td>\n",
       "      <td>-58.422602</td>\n",
       "      <td>-34.564037</td>\n",
       "      <td>PEATON</td>\n",
       "      <td>SD</td>\n",
       "    </tr>\n",
       "    <tr>\n",
       "      <th>112</th>\n",
       "      <td>20160143</td>\n",
       "      <td>1</td>\n",
       "      <td>2016-11-06</td>\n",
       "      <td>04:41:00</td>\n",
       "      <td>AVENIDA</td>\n",
       "      <td>8</td>\n",
       "      <td>-58.444513</td>\n",
       "      <td>-34.684759</td>\n",
       "      <td>MOTO</td>\n",
       "      <td>SD</td>\n",
       "    </tr>\n",
       "    <tr>\n",
       "      <th>126</th>\n",
       "      <td>20160159</td>\n",
       "      <td>1</td>\n",
       "      <td>2016-12-04</td>\n",
       "      <td>07:21:00</td>\n",
       "      <td>AVENIDA</td>\n",
       "      <td>8</td>\n",
       "      <td>-58.444513</td>\n",
       "      <td>-34.684759</td>\n",
       "      <td>AUTO</td>\n",
       "      <td>SD</td>\n",
       "    </tr>\n",
       "    <tr>\n",
       "      <th>160</th>\n",
       "      <td>20170025</td>\n",
       "      <td>1</td>\n",
       "      <td>2017-02-24</td>\n",
       "      <td>17:05:00</td>\n",
       "      <td>AVENIDA</td>\n",
       "      <td>7</td>\n",
       "      <td>-58.436144</td>\n",
       "      <td>-34.654246</td>\n",
       "      <td>MOTO</td>\n",
       "      <td>SD</td>\n",
       "    </tr>\n",
       "    <tr>\n",
       "      <th>197</th>\n",
       "      <td>20170069</td>\n",
       "      <td>1</td>\n",
       "      <td>2017-05-24</td>\n",
       "      <td>14:15:00</td>\n",
       "      <td>GRAL PAZ</td>\n",
       "      <td>9</td>\n",
       "      <td>-58.521731</td>\n",
       "      <td>-34.659975</td>\n",
       "      <td>MOTO</td>\n",
       "      <td>SD</td>\n",
       "    </tr>\n",
       "    <tr>\n",
       "      <th>201</th>\n",
       "      <td>20170074</td>\n",
       "      <td>1</td>\n",
       "      <td>2017-06-04</td>\n",
       "      <td>12:50:00</td>\n",
       "      <td>CALLE</td>\n",
       "      <td>9</td>\n",
       "      <td>-58.525671</td>\n",
       "      <td>-34.637878</td>\n",
       "      <td>SD</td>\n",
       "      <td>SD</td>\n",
       "    </tr>\n",
       "    <tr>\n",
       "      <th>216</th>\n",
       "      <td>20170091</td>\n",
       "      <td>1</td>\n",
       "      <td>2017-07-15</td>\n",
       "      <td>13:00:00</td>\n",
       "      <td>GRAL PAZ</td>\n",
       "      <td>12</td>\n",
       "      <td>-58.486715</td>\n",
       "      <td>-34.543212</td>\n",
       "      <td>MOTO</td>\n",
       "      <td>SD</td>\n",
       "    </tr>\n",
       "    <tr>\n",
       "      <th>393</th>\n",
       "      <td>20180119</td>\n",
       "      <td>1</td>\n",
       "      <td>2018-11-05</td>\n",
       "      <td>22:35:00</td>\n",
       "      <td>AVENIDA</td>\n",
       "      <td>8</td>\n",
       "      <td>-58.436136</td>\n",
       "      <td>-34.662925</td>\n",
       "      <td>PEATON</td>\n",
       "      <td>SD</td>\n",
       "    </tr>\n",
       "    <tr>\n",
       "      <th>397</th>\n",
       "      <td>20180123</td>\n",
       "      <td>1</td>\n",
       "      <td>2018-11-12</td>\n",
       "      <td>03:32:00</td>\n",
       "      <td>GRAL PAZ</td>\n",
       "      <td>9</td>\n",
       "      <td>-58.502518</td>\n",
       "      <td>-34.674503</td>\n",
       "      <td>AUTO</td>\n",
       "      <td>SD</td>\n",
       "    </tr>\n",
       "    <tr>\n",
       "      <th>439</th>\n",
       "      <td>20190022</td>\n",
       "      <td>1</td>\n",
       "      <td>2019-03-15</td>\n",
       "      <td>00:00:00</td>\n",
       "      <td>AVENIDA</td>\n",
       "      <td>1</td>\n",
       "      <td>-58.391238</td>\n",
       "      <td>-34.623522</td>\n",
       "      <td>AUTO</td>\n",
       "      <td>SD</td>\n",
       "    </tr>\n",
       "    <tr>\n",
       "      <th>450</th>\n",
       "      <td>20190033</td>\n",
       "      <td>1</td>\n",
       "      <td>2019-04-18</td>\n",
       "      <td>01:00:00</td>\n",
       "      <td>AUTOPISTA</td>\n",
       "      <td>1</td>\n",
       "      <td>-58.366071</td>\n",
       "      <td>-34.621507</td>\n",
       "      <td>MOTO</td>\n",
       "      <td>SD</td>\n",
       "    </tr>\n",
       "    <tr>\n",
       "      <th>457</th>\n",
       "      <td>20190040</td>\n",
       "      <td>1</td>\n",
       "      <td>2019-05-09</td>\n",
       "      <td>12:45:00</td>\n",
       "      <td>CALLE</td>\n",
       "      <td>7</td>\n",
       "      <td>-58.442636</td>\n",
       "      <td>-34.636797</td>\n",
       "      <td>MOTO</td>\n",
       "      <td>SD</td>\n",
       "    </tr>\n",
       "    <tr>\n",
       "      <th>620</th>\n",
       "      <td>20210022</td>\n",
       "      <td>1</td>\n",
       "      <td>2021-02-28</td>\n",
       "      <td>12:00:00</td>\n",
       "      <td>AVENIDA</td>\n",
       "      <td>13</td>\n",
       "      <td>-58.451577</td>\n",
       "      <td>-34.552173</td>\n",
       "      <td>PASAJEROS</td>\n",
       "      <td>SD</td>\n",
       "    </tr>\n",
       "  </tbody>\n",
       "</table>\n",
       "</div>"
      ],
      "text/plain": [
       "           ID  N_VICTIMAS      FECHA      HORA TIPO_DE_CALLE  COMUNA  \\\n",
       "3    20160004           1 2016-01-10  00:00:00       AVENIDA       8   \n",
       "32   20160045           1 2016-04-11  10:25:00      GRAL PAZ      13   \n",
       "35   20160049           1 2016-04-17  00:00:00     AUTOPISTA       4   \n",
       "57   20160080           1 2016-06-18  06:42:00      GRAL PAZ       9   \n",
       "76   20160101           1 2016-08-07  19:42:00      GRAL PAZ       9   \n",
       "83   20160110           1 2016-08-24  20:21:00       AVENIDA       9   \n",
       "92   20160119           1 2016-09-04  06:40:00       AVENIDA      12   \n",
       "105  20160135           1 2016-10-24  05:00:00       AVENIDA      14   \n",
       "112  20160143           1 2016-11-06  04:41:00       AVENIDA       8   \n",
       "126  20160159           1 2016-12-04  07:21:00       AVENIDA       8   \n",
       "160  20170025           1 2017-02-24  17:05:00       AVENIDA       7   \n",
       "197  20170069           1 2017-05-24  14:15:00      GRAL PAZ       9   \n",
       "201  20170074           1 2017-06-04  12:50:00         CALLE       9   \n",
       "216  20170091           1 2017-07-15  13:00:00      GRAL PAZ      12   \n",
       "393  20180119           1 2018-11-05  22:35:00       AVENIDA       8   \n",
       "397  20180123           1 2018-11-12  03:32:00      GRAL PAZ       9   \n",
       "439  20190022           1 2019-03-15  00:00:00       AVENIDA       1   \n",
       "450  20190033           1 2019-04-18  01:00:00     AUTOPISTA       1   \n",
       "457  20190040           1 2019-05-09  12:45:00         CALLE       7   \n",
       "620  20210022           1 2021-02-28  12:00:00       AVENIDA      13   \n",
       "\n",
       "         POS_X      POS_Y    VICTIMA ACUSADO  \n",
       "3   -58.465039 -34.680930       MOTO      SD  \n",
       "32  -58.467435 -34.534769       MOTO      SD  \n",
       "35  -58.377146 -34.636575         SD      SD  \n",
       "57  -58.529280 -34.639318       AUTO      SD  \n",
       "76  -58.529329 -34.650150         SD      SD  \n",
       "83  -58.512322 -34.659035     PEATON      SD  \n",
       "92  -58.496592 -34.563536         SD      SD  \n",
       "105 -58.422602 -34.564037     PEATON      SD  \n",
       "112 -58.444513 -34.684759       MOTO      SD  \n",
       "126 -58.444513 -34.684759       AUTO      SD  \n",
       "160 -58.436144 -34.654246       MOTO      SD  \n",
       "197 -58.521731 -34.659975       MOTO      SD  \n",
       "201 -58.525671 -34.637878         SD      SD  \n",
       "216 -58.486715 -34.543212       MOTO      SD  \n",
       "393 -58.436136 -34.662925     PEATON      SD  \n",
       "397 -58.502518 -34.674503       AUTO      SD  \n",
       "439 -58.391238 -34.623522       AUTO      SD  \n",
       "450 -58.366071 -34.621507       MOTO      SD  \n",
       "457 -58.442636 -34.636797       MOTO      SD  \n",
       "620 -58.451577 -34.552173  PASAJEROS      SD  "
      ]
     },
     "execution_count": 26,
     "metadata": {},
     "output_type": "execute_result"
    }
   ],
   "source": [
    "df_homicidios_hechos[df_homicidios_hechos['ACUSADO'] == \"SD\"]"
   ]
  },
  {
   "cell_type": "markdown",
   "metadata": {},
   "source": [
    "SE DECIDIÓ CONSERVAR LOS REGISTROS DONDE EL MOVIL DE LA VICTIMA O DEL ACUSADO ESTÁN SIN INFORMAR. EN POWER BI LO TRABAJAREMOS DE LA FORMA CORRECTA SEGÚN EL DASHBOARD A IMPLEMENTAR."
   ]
  },
  {
   "cell_type": "markdown",
   "metadata": {},
   "source": [
    ".\n",
    "\n",
    ".\n"
   ]
  },
  {
   "cell_type": "markdown",
   "metadata": {},
   "source": [
    "2) **VICTIMAS**"
   ]
  },
  {
   "cell_type": "markdown",
   "metadata": {},
   "source": [
    "Realizamos la apertura y lectura del archivo de Victimas, el cual contiene el detalle de los fallecidos en cada hecho. Visualizamos algunos registros para explorar la estructura de los datos."
   ]
  },
  {
   "cell_type": "code",
   "execution_count": 27,
   "metadata": {},
   "outputs": [
    {
     "data": {
      "text/html": [
       "<div>\n",
       "<style scoped>\n",
       "    .dataframe tbody tr th:only-of-type {\n",
       "        vertical-align: middle;\n",
       "    }\n",
       "\n",
       "    .dataframe tbody tr th {\n",
       "        vertical-align: top;\n",
       "    }\n",
       "\n",
       "    .dataframe thead th {\n",
       "        text-align: right;\n",
       "    }\n",
       "</style>\n",
       "<table border=\"1\" class=\"dataframe\">\n",
       "  <thead>\n",
       "    <tr style=\"text-align: right;\">\n",
       "      <th></th>\n",
       "      <th>ID_hecho</th>\n",
       "      <th>FECHA</th>\n",
       "      <th>AAAA</th>\n",
       "      <th>MM</th>\n",
       "      <th>DD</th>\n",
       "      <th>ROL</th>\n",
       "      <th>VICTIMA</th>\n",
       "      <th>SEXO</th>\n",
       "      <th>EDAD</th>\n",
       "      <th>FECHA_FALLECIMIENTO</th>\n",
       "    </tr>\n",
       "  </thead>\n",
       "  <tbody>\n",
       "    <tr>\n",
       "      <th>0</th>\n",
       "      <td>2016-0001</td>\n",
       "      <td>2016-01-01</td>\n",
       "      <td>2016</td>\n",
       "      <td>1</td>\n",
       "      <td>1</td>\n",
       "      <td>CONDUCTOR</td>\n",
       "      <td>MOTO</td>\n",
       "      <td>MASCULINO</td>\n",
       "      <td>19</td>\n",
       "      <td>2016-01-01 00:00:00</td>\n",
       "    </tr>\n",
       "    <tr>\n",
       "      <th>1</th>\n",
       "      <td>2016-0002</td>\n",
       "      <td>2016-01-02</td>\n",
       "      <td>2016</td>\n",
       "      <td>1</td>\n",
       "      <td>2</td>\n",
       "      <td>CONDUCTOR</td>\n",
       "      <td>AUTO</td>\n",
       "      <td>MASCULINO</td>\n",
       "      <td>70</td>\n",
       "      <td>2016-01-02 00:00:00</td>\n",
       "    </tr>\n",
       "    <tr>\n",
       "      <th>2</th>\n",
       "      <td>2016-0003</td>\n",
       "      <td>2016-01-03</td>\n",
       "      <td>2016</td>\n",
       "      <td>1</td>\n",
       "      <td>3</td>\n",
       "      <td>CONDUCTOR</td>\n",
       "      <td>MOTO</td>\n",
       "      <td>MASCULINO</td>\n",
       "      <td>30</td>\n",
       "      <td>2016-01-03 00:00:00</td>\n",
       "    </tr>\n",
       "    <tr>\n",
       "      <th>3</th>\n",
       "      <td>2016-0004</td>\n",
       "      <td>2016-01-10</td>\n",
       "      <td>2016</td>\n",
       "      <td>1</td>\n",
       "      <td>10</td>\n",
       "      <td>CONDUCTOR</td>\n",
       "      <td>MOTO</td>\n",
       "      <td>MASCULINO</td>\n",
       "      <td>18</td>\n",
       "      <td>SD</td>\n",
       "    </tr>\n",
       "    <tr>\n",
       "      <th>4</th>\n",
       "      <td>2016-0005</td>\n",
       "      <td>2016-01-21</td>\n",
       "      <td>2016</td>\n",
       "      <td>1</td>\n",
       "      <td>21</td>\n",
       "      <td>CONDUCTOR</td>\n",
       "      <td>MOTO</td>\n",
       "      <td>MASCULINO</td>\n",
       "      <td>29</td>\n",
       "      <td>2016-02-01 00:00:00</td>\n",
       "    </tr>\n",
       "  </tbody>\n",
       "</table>\n",
       "</div>"
      ],
      "text/plain": [
       "    ID_hecho      FECHA  AAAA  MM  DD        ROL VICTIMA       SEXO EDAD  \\\n",
       "0  2016-0001 2016-01-01  2016   1   1  CONDUCTOR    MOTO  MASCULINO   19   \n",
       "1  2016-0002 2016-01-02  2016   1   2  CONDUCTOR    AUTO  MASCULINO   70   \n",
       "2  2016-0003 2016-01-03  2016   1   3  CONDUCTOR    MOTO  MASCULINO   30   \n",
       "3  2016-0004 2016-01-10  2016   1  10  CONDUCTOR    MOTO  MASCULINO   18   \n",
       "4  2016-0005 2016-01-21  2016   1  21  CONDUCTOR    MOTO  MASCULINO   29   \n",
       "\n",
       "   FECHA_FALLECIMIENTO  \n",
       "0  2016-01-01 00:00:00  \n",
       "1  2016-01-02 00:00:00  \n",
       "2  2016-01-03 00:00:00  \n",
       "3                   SD  \n",
       "4  2016-02-01 00:00:00  "
      ]
     },
     "execution_count": 27,
     "metadata": {},
     "output_type": "execute_result"
    }
   ],
   "source": [
    "df_homicidios_victimas = leerExcel(\"Datos/\", \"homicidios.xlsx\", \"VICTIMAS\")\n",
    "df_homicidios_victimas.head()"
   ]
  },
  {
   "cell_type": "code",
   "execution_count": 28,
   "metadata": {},
   "outputs": [
    {
     "data": {
      "text/html": [
       "<div>\n",
       "<style scoped>\n",
       "    .dataframe tbody tr th:only-of-type {\n",
       "        vertical-align: middle;\n",
       "    }\n",
       "\n",
       "    .dataframe tbody tr th {\n",
       "        vertical-align: top;\n",
       "    }\n",
       "\n",
       "    .dataframe thead th {\n",
       "        text-align: right;\n",
       "    }\n",
       "</style>\n",
       "<table border=\"1\" class=\"dataframe\">\n",
       "  <thead>\n",
       "    <tr style=\"text-align: right;\">\n",
       "      <th></th>\n",
       "      <th>ID</th>\n",
       "      <th>FECHA</th>\n",
       "      <th>AAAA</th>\n",
       "      <th>MM</th>\n",
       "      <th>DD</th>\n",
       "      <th>ROL</th>\n",
       "      <th>VICTIMA</th>\n",
       "      <th>SEXO</th>\n",
       "      <th>EDAD</th>\n",
       "      <th>FECHA_FALLECIMIENTO</th>\n",
       "    </tr>\n",
       "  </thead>\n",
       "  <tbody>\n",
       "    <tr>\n",
       "      <th>0</th>\n",
       "      <td>2016-0001</td>\n",
       "      <td>2016-01-01</td>\n",
       "      <td>2016</td>\n",
       "      <td>1</td>\n",
       "      <td>1</td>\n",
       "      <td>CONDUCTOR</td>\n",
       "      <td>MOTO</td>\n",
       "      <td>MASCULINO</td>\n",
       "      <td>19</td>\n",
       "      <td>2016-01-01 00:00:00</td>\n",
       "    </tr>\n",
       "    <tr>\n",
       "      <th>1</th>\n",
       "      <td>2016-0002</td>\n",
       "      <td>2016-01-02</td>\n",
       "      <td>2016</td>\n",
       "      <td>1</td>\n",
       "      <td>2</td>\n",
       "      <td>CONDUCTOR</td>\n",
       "      <td>AUTO</td>\n",
       "      <td>MASCULINO</td>\n",
       "      <td>70</td>\n",
       "      <td>2016-01-02 00:00:00</td>\n",
       "    </tr>\n",
       "    <tr>\n",
       "      <th>2</th>\n",
       "      <td>2016-0003</td>\n",
       "      <td>2016-01-03</td>\n",
       "      <td>2016</td>\n",
       "      <td>1</td>\n",
       "      <td>3</td>\n",
       "      <td>CONDUCTOR</td>\n",
       "      <td>MOTO</td>\n",
       "      <td>MASCULINO</td>\n",
       "      <td>30</td>\n",
       "      <td>2016-01-03 00:00:00</td>\n",
       "    </tr>\n",
       "    <tr>\n",
       "      <th>3</th>\n",
       "      <td>2016-0004</td>\n",
       "      <td>2016-01-10</td>\n",
       "      <td>2016</td>\n",
       "      <td>1</td>\n",
       "      <td>10</td>\n",
       "      <td>CONDUCTOR</td>\n",
       "      <td>MOTO</td>\n",
       "      <td>MASCULINO</td>\n",
       "      <td>18</td>\n",
       "      <td>SD</td>\n",
       "    </tr>\n",
       "    <tr>\n",
       "      <th>4</th>\n",
       "      <td>2016-0005</td>\n",
       "      <td>2016-01-21</td>\n",
       "      <td>2016</td>\n",
       "      <td>1</td>\n",
       "      <td>21</td>\n",
       "      <td>CONDUCTOR</td>\n",
       "      <td>MOTO</td>\n",
       "      <td>MASCULINO</td>\n",
       "      <td>29</td>\n",
       "      <td>2016-02-01 00:00:00</td>\n",
       "    </tr>\n",
       "  </tbody>\n",
       "</table>\n",
       "</div>"
      ],
      "text/plain": [
       "          ID      FECHA  AAAA  MM  DD        ROL VICTIMA       SEXO EDAD  \\\n",
       "0  2016-0001 2016-01-01  2016   1   1  CONDUCTOR    MOTO  MASCULINO   19   \n",
       "1  2016-0002 2016-01-02  2016   1   2  CONDUCTOR    AUTO  MASCULINO   70   \n",
       "2  2016-0003 2016-01-03  2016   1   3  CONDUCTOR    MOTO  MASCULINO   30   \n",
       "3  2016-0004 2016-01-10  2016   1  10  CONDUCTOR    MOTO  MASCULINO   18   \n",
       "4  2016-0005 2016-01-21  2016   1  21  CONDUCTOR    MOTO  MASCULINO   29   \n",
       "\n",
       "   FECHA_FALLECIMIENTO  \n",
       "0  2016-01-01 00:00:00  \n",
       "1  2016-01-02 00:00:00  \n",
       "2  2016-01-03 00:00:00  \n",
       "3                   SD  \n",
       "4  2016-02-01 00:00:00  "
      ]
     },
     "execution_count": 28,
     "metadata": {},
     "output_type": "execute_result"
    }
   ],
   "source": [
    "#Normalizamos los nombres de las columnas\n",
    "df_homicidios_victimas.rename(columns={'ID_hecho': 'ID'}, inplace=True)\n",
    "df_homicidios_victimas.head()"
   ]
  },
  {
   "cell_type": "code",
   "execution_count": 29,
   "metadata": {},
   "outputs": [
    {
     "data": {
      "text/html": [
       "<div>\n",
       "<style scoped>\n",
       "    .dataframe tbody tr th:only-of-type {\n",
       "        vertical-align: middle;\n",
       "    }\n",
       "\n",
       "    .dataframe tbody tr th {\n",
       "        vertical-align: top;\n",
       "    }\n",
       "\n",
       "    .dataframe thead th {\n",
       "        text-align: right;\n",
       "    }\n",
       "</style>\n",
       "<table border=\"1\" class=\"dataframe\">\n",
       "  <thead>\n",
       "    <tr style=\"text-align: right;\">\n",
       "      <th></th>\n",
       "      <th>ID</th>\n",
       "      <th>ROL</th>\n",
       "      <th>SEXO</th>\n",
       "      <th>EDAD</th>\n",
       "      <th>FECHA_FALLECIMIENTO</th>\n",
       "    </tr>\n",
       "  </thead>\n",
       "  <tbody>\n",
       "    <tr>\n",
       "      <th>0</th>\n",
       "      <td>2016-0001</td>\n",
       "      <td>CONDUCTOR</td>\n",
       "      <td>MASCULINO</td>\n",
       "      <td>19</td>\n",
       "      <td>2016-01-01 00:00:00</td>\n",
       "    </tr>\n",
       "    <tr>\n",
       "      <th>1</th>\n",
       "      <td>2016-0002</td>\n",
       "      <td>CONDUCTOR</td>\n",
       "      <td>MASCULINO</td>\n",
       "      <td>70</td>\n",
       "      <td>2016-01-02 00:00:00</td>\n",
       "    </tr>\n",
       "    <tr>\n",
       "      <th>2</th>\n",
       "      <td>2016-0003</td>\n",
       "      <td>CONDUCTOR</td>\n",
       "      <td>MASCULINO</td>\n",
       "      <td>30</td>\n",
       "      <td>2016-01-03 00:00:00</td>\n",
       "    </tr>\n",
       "    <tr>\n",
       "      <th>3</th>\n",
       "      <td>2016-0004</td>\n",
       "      <td>CONDUCTOR</td>\n",
       "      <td>MASCULINO</td>\n",
       "      <td>18</td>\n",
       "      <td>SD</td>\n",
       "    </tr>\n",
       "    <tr>\n",
       "      <th>4</th>\n",
       "      <td>2016-0005</td>\n",
       "      <td>CONDUCTOR</td>\n",
       "      <td>MASCULINO</td>\n",
       "      <td>29</td>\n",
       "      <td>2016-02-01 00:00:00</td>\n",
       "    </tr>\n",
       "  </tbody>\n",
       "</table>\n",
       "</div>"
      ],
      "text/plain": [
       "          ID        ROL       SEXO EDAD  FECHA_FALLECIMIENTO\n",
       "0  2016-0001  CONDUCTOR  MASCULINO   19  2016-01-01 00:00:00\n",
       "1  2016-0002  CONDUCTOR  MASCULINO   70  2016-01-02 00:00:00\n",
       "2  2016-0003  CONDUCTOR  MASCULINO   30  2016-01-03 00:00:00\n",
       "3  2016-0004  CONDUCTOR  MASCULINO   18                   SD\n",
       "4  2016-0005  CONDUCTOR  MASCULINO   29  2016-02-01 00:00:00"
      ]
     },
     "execution_count": 29,
     "metadata": {},
     "output_type": "execute_result"
    }
   ],
   "source": [
    "#Seleccionamos la columnas relevantes para el modelo\n",
    "columnas_victimas = ['ID', 'ROL', 'SEXO', 'EDAD', 'FECHA_FALLECIMIENTO']\n",
    "df_homicidios_victimas = df_homicidios_victimas[columnas_victimas]\n",
    "df_homicidios_victimas.head()"
   ]
  },
  {
   "cell_type": "markdown",
   "metadata": {},
   "source": [
    "VAMOS A OBSERVAR LA ÚNICA COLUMNA NUMÉRICA QUE TENEMOS: EDAD"
   ]
  },
  {
   "cell_type": "code",
   "execution_count": 30,
   "metadata": {},
   "outputs": [
    {
     "data": {
      "text/plain": [
       "53"
      ]
     },
     "execution_count": 30,
     "metadata": {},
     "output_type": "execute_result"
    }
   ],
   "source": [
    "#Vemos cuantos casos tenemos sin EDAD informada\n",
    "df_homicidios_victimas[df_homicidios_victimas['EDAD'] == 'SD'].shape[0]"
   ]
  },
  {
   "cell_type": "markdown",
   "metadata": {},
   "source": [
    "VAMOS A IMPUTAR LA EDAD A LOS QUE NO LA TIENEN"
   ]
  },
  {
   "cell_type": "code",
   "execution_count": 31,
   "metadata": {},
   "outputs": [],
   "source": [
    "#primero cambiamos SD por NaN\n",
    "df_homicidios_victimas['EDAD'] = df_homicidios_victimas['EDAD'].replace('SD', np.nan)"
   ]
  },
  {
   "cell_type": "code",
   "execution_count": 32,
   "metadata": {},
   "outputs": [],
   "source": [
    "# Convertir la columna 'EDAD' a tipo int\n",
    "df_homicidios_victimas['EDAD'] = pd.to_numeric(df_homicidios_victimas['EDAD'], errors='coerce').astype('Int64')"
   ]
  },
  {
   "cell_type": "markdown",
   "metadata": {},
   "source": [
    "AHORA VAMOS A ANALIZAR QUE IMPUTACIÓN ES LA MEJOR ENTRE PROMEDIO Y KNN"
   ]
  },
  {
   "cell_type": "code",
   "execution_count": 33,
   "metadata": {},
   "outputs": [],
   "source": [
    "#Usando PROMEDIO\n",
    "edad_promedio = np.mean(df_homicidios_victimas['EDAD']).round()\n",
    "\n",
    "df_homicidios_victimas['Age_mean'] = df_homicidios_victimas['EDAD'].fillna(edad_promedio)"
   ]
  },
  {
   "cell_type": "code",
   "execution_count": 34,
   "metadata": {},
   "outputs": [],
   "source": [
    "#Usando KNN\n",
    "import numpy as np\n",
    "from sklearn.impute import KNNImputer\n",
    "\n",
    "imputer = KNNImputer(n_neighbors=5)\n",
    "df_homicidios_victimas['Age_knn'] = imputer.fit_transform(df_homicidios_victimas[['EDAD']])[:,0]\n",
    "df_homicidios_victimas['Age_knn'] = imputer.transform(df_homicidios_victimas[['EDAD']])[:,0]"
   ]
  },
  {
   "cell_type": "code",
   "execution_count": 35,
   "metadata": {},
   "outputs": [
    {
     "name": "stderr",
     "output_type": "stream",
     "text": [
      "c:\\Users\\f_cof\\AppData\\Local\\Programs\\Python\\Python311\\Lib\\site-packages\\seaborn\\_oldcore.py:1498: FutureWarning: is_categorical_dtype is deprecated and will be removed in a future version. Use isinstance(dtype, CategoricalDtype) instead\n",
      "  if pd.api.types.is_categorical_dtype(vector):\n",
      "c:\\Users\\f_cof\\AppData\\Local\\Programs\\Python\\Python311\\Lib\\site-packages\\seaborn\\_oldcore.py:1119: FutureWarning: use_inf_as_na option is deprecated and will be removed in a future version. Convert inf values to NaN before operating instead.\n",
      "  with pd.option_context('mode.use_inf_as_na', True):\n"
     ]
    },
    {
     "data": {
      "text/plain": [
       "<Axes: xlabel='EDAD', ylabel='Count'>"
      ]
     },
     "execution_count": 35,
     "metadata": {},
     "output_type": "execute_result"
    },
    {
     "data": {
      "image/png": "[encoded data removed]",
      "text/plain": [
       "<Figure size 640x480 with 1 Axes>"
      ]
     },
     "metadata": {},
     "output_type": "display_data"
    }
   ],
   "source": [
    "sns.histplot(df_homicidios_victimas['EDAD'])"
   ]
  },
  {
   "cell_type": "code",
   "execution_count": 36,
   "metadata": {},
   "outputs": [
    {
     "name": "stderr",
     "output_type": "stream",
     "text": [
      "c:\\Users\\f_cof\\AppData\\Local\\Programs\\Python\\Python311\\Lib\\site-packages\\seaborn\\_oldcore.py:1498: FutureWarning: is_categorical_dtype is deprecated and will be removed in a future version. Use isinstance(dtype, CategoricalDtype) instead\n",
      "  if pd.api.types.is_categorical_dtype(vector):\n",
      "c:\\Users\\f_cof\\AppData\\Local\\Programs\\Python\\Python311\\Lib\\site-packages\\seaborn\\_oldcore.py:1119: FutureWarning: use_inf_as_na option is deprecated and will be removed in a future version. Convert inf values to NaN before operating instead.\n",
      "  with pd.option_context('mode.use_inf_as_na', True):\n"
     ]
    },
    {
     "data": {
      "text/plain": [
       "<Axes: xlabel='Age_mean', ylabel='Count'>"
      ]
     },
     "execution_count": 36,
     "metadata": {},
     "output_type": "execute_result"
    },
    {
     "data": {
      "image/png": "[encoded data removed]",
      "text/plain": [
       "<Figure size 640x480 with 1 Axes>"
      ]
     },
     "metadata": {},
     "output_type": "display_data"
    }
   ],
   "source": [
    "sns.histplot(df_homicidios_victimas['Age_mean'])"
   ]
  },
  {
   "cell_type": "code",
   "execution_count": 37,
   "metadata": {},
   "outputs": [
    {
     "name": "stderr",
     "output_type": "stream",
     "text": [
      "c:\\Users\\f_cof\\AppData\\Local\\Programs\\Python\\Python311\\Lib\\site-packages\\seaborn\\_oldcore.py:1498: FutureWarning: is_categorical_dtype is deprecated and will be removed in a future version. Use isinstance(dtype, CategoricalDtype) instead\n",
      "  if pd.api.types.is_categorical_dtype(vector):\n",
      "c:\\Users\\f_cof\\AppData\\Local\\Programs\\Python\\Python311\\Lib\\site-packages\\seaborn\\_oldcore.py:1119: FutureWarning: use_inf_as_na option is deprecated and will be removed in a future version. Convert inf values to NaN before operating instead.\n",
      "  with pd.option_context('mode.use_inf_as_na', True):\n"
     ]
    },
    {
     "data": {
      "text/plain": [
       "<Axes: xlabel='Age_knn', ylabel='Count'>"
      ]
     },
     "execution_count": 37,
     "metadata": {},
     "output_type": "execute_result"
    },
    {
     "data": {
      "image/png": "[encoded data removed]",
      "text/plain": [
       "<Figure size 640x480 with 1 Axes>"
      ]
     },
     "metadata": {},
     "output_type": "display_data"
    }
   ],
   "source": [
    "sns.histplot(df_homicidios_victimas['Age_knn'])"
   ]
  },
  {
   "cell_type": "markdown",
   "metadata": {},
   "source": [
    "VAMOS A PROCEDER A IMPUTAR KNN EN LOS REGISTROS SIN EDAD DADO QUE PERMITE TENER UNA DISTRIBUCIÓN MAS SIMILAR A LA ORIGINAL"
   ]
  },
  {
   "cell_type": "code",
   "execution_count": 38,
   "metadata": {},
   "outputs": [
    {
     "data": {
      "text/html": [
       "<div>\n",
       "<style scoped>\n",
       "    .dataframe tbody tr th:only-of-type {\n",
       "        vertical-align: middle;\n",
       "    }\n",
       "\n",
       "    .dataframe tbody tr th {\n",
       "        vertical-align: top;\n",
       "    }\n",
       "\n",
       "    .dataframe thead th {\n",
       "        text-align: right;\n",
       "    }\n",
       "</style>\n",
       "<table border=\"1\" class=\"dataframe\">\n",
       "  <thead>\n",
       "    <tr style=\"text-align: right;\">\n",
       "      <th></th>\n",
       "      <th>ID</th>\n",
       "      <th>ROL</th>\n",
       "      <th>SEXO</th>\n",
       "      <th>EDAD</th>\n",
       "      <th>FECHA_FALLECIMIENTO</th>\n",
       "    </tr>\n",
       "  </thead>\n",
       "  <tbody>\n",
       "    <tr>\n",
       "      <th>0</th>\n",
       "      <td>2016-0001</td>\n",
       "      <td>CONDUCTOR</td>\n",
       "      <td>MASCULINO</td>\n",
       "      <td>19.0</td>\n",
       "      <td>2016-01-01 00:00:00</td>\n",
       "    </tr>\n",
       "    <tr>\n",
       "      <th>1</th>\n",
       "      <td>2016-0002</td>\n",
       "      <td>CONDUCTOR</td>\n",
       "      <td>MASCULINO</td>\n",
       "      <td>70.0</td>\n",
       "      <td>2016-01-02 00:00:00</td>\n",
       "    </tr>\n",
       "    <tr>\n",
       "      <th>2</th>\n",
       "      <td>2016-0003</td>\n",
       "      <td>CONDUCTOR</td>\n",
       "      <td>MASCULINO</td>\n",
       "      <td>30.0</td>\n",
       "      <td>2016-01-03 00:00:00</td>\n",
       "    </tr>\n",
       "    <tr>\n",
       "      <th>3</th>\n",
       "      <td>2016-0004</td>\n",
       "      <td>CONDUCTOR</td>\n",
       "      <td>MASCULINO</td>\n",
       "      <td>18.0</td>\n",
       "      <td>SD</td>\n",
       "    </tr>\n",
       "    <tr>\n",
       "      <th>4</th>\n",
       "      <td>2016-0005</td>\n",
       "      <td>CONDUCTOR</td>\n",
       "      <td>MASCULINO</td>\n",
       "      <td>29.0</td>\n",
       "      <td>2016-02-01 00:00:00</td>\n",
       "    </tr>\n",
       "  </tbody>\n",
       "</table>\n",
       "</div>"
      ],
      "text/plain": [
       "          ID        ROL       SEXO  EDAD  FECHA_FALLECIMIENTO\n",
       "0  2016-0001  CONDUCTOR  MASCULINO  19.0  2016-01-01 00:00:00\n",
       "1  2016-0002  CONDUCTOR  MASCULINO  70.0  2016-01-02 00:00:00\n",
       "2  2016-0003  CONDUCTOR  MASCULINO  30.0  2016-01-03 00:00:00\n",
       "3  2016-0004  CONDUCTOR  MASCULINO  18.0                   SD\n",
       "4  2016-0005  CONDUCTOR  MASCULINO  29.0  2016-02-01 00:00:00"
      ]
     },
     "execution_count": 38,
     "metadata": {},
     "output_type": "execute_result"
    }
   ],
   "source": [
    "#Asignamos la columna de KNN a EDAD\n",
    "df_homicidios_victimas['EDAD'] = df_homicidios_victimas['Age_knn']\n",
    "#Borramos las columnas generadas\n",
    "# Eliminar las columnas 'Age_knn' y 'Age_mean'\n",
    "df_homicidios_victimas = df_homicidios_victimas.drop(['Age_knn', 'Age_mean'], axis=1)\n",
    "\n",
    "df_homicidios_victimas.head()"
   ]
  },
  {
   "cell_type": "markdown",
   "metadata": {},
   "source": [
    "- ID\n",
    "\n",
    "Convertimos a INT y quitamos guion como hicimos con Hechos"
   ]
  },
  {
   "cell_type": "code",
   "execution_count": 39,
   "metadata": {},
   "outputs": [],
   "source": [
    "# ID: Eliminar el guion y convertir la columna a tipo int\n",
    "df_homicidios_victimas['ID']   = df_homicidios_victimas['ID'].str.replace('-', '').astype(int)"
   ]
  },
  {
   "cell_type": "markdown",
   "metadata": {},
   "source": [
    "- FECHA_FALLECIMIENTO\n",
    "\n",
    "A LOS QUE TENGAN SD LE VAMOS A IMPUTAR LA FECHA DEL HECHO"
   ]
  },
  {
   "cell_type": "code",
   "execution_count": 40,
   "metadata": {},
   "outputs": [
    {
     "data": {
      "text/plain": [
       "68"
      ]
     },
     "execution_count": 40,
     "metadata": {},
     "output_type": "execute_result"
    }
   ],
   "source": [
    "#Primero vemos cuantos tenemos en SD\n",
    "df_homicidios_victimas[df_homicidios_victimas['FECHA_FALLECIMIENTO'] == 'SD'].shape[0]"
   ]
  },
  {
   "cell_type": "code",
   "execution_count": 41,
   "metadata": {},
   "outputs": [],
   "source": [
    "# Crear un diccionario para mapear 'ID' a 'FECHA'\n",
    "fecha_mapping = df_homicidios_hechos.set_index('ID')['FECHA'].to_dict()\n",
    "\n",
    "# Actualizar 'FECHA_FALLECIMIENTO' en df_homicidios_victimas usando el mapeo\n",
    "df_homicidios_victimas['FECHA_FALLECIMIENTO'] = df_homicidios_victimas['ID'].map(fecha_mapping)"
   ]
  },
  {
   "cell_type": "code",
   "execution_count": 42,
   "metadata": {},
   "outputs": [
    {
     "data": {
      "text/plain": [
       "0"
      ]
     },
     "execution_count": 42,
     "metadata": {},
     "output_type": "execute_result"
    }
   ],
   "source": [
    "#Luego de la imputación vemos que no quedaron fechas de fallecimiento sin datos.\n",
    "df_homicidios_victimas[df_homicidios_victimas['FECHA_FALLECIMIENTO'] == 'SD'].shape[0]"
   ]
  },
  {
   "cell_type": "markdown",
   "metadata": {},
   "source": [
    "REALIZAMOS CONVERSIONES EN LOS TIPOS DE DATOS"
   ]
  },
  {
   "cell_type": "code",
   "execution_count": 43,
   "metadata": {},
   "outputs": [],
   "source": [
    "# ROL: Convertir la columna a tipo string\n",
    "df_homicidios_victimas['ROL']  = df_homicidios_victimas['ROL'].astype(str)\n",
    "# SEXO: Convertir la columna a tipo string\n",
    "df_homicidios_victimas['SEXO'] = df_homicidios_victimas['SEXO'].astype(str)\n",
    "# EDAD: Convertir la columna a tipo int\n",
    "df_homicidios_victimas['EDAD'] = df_homicidios_victimas['EDAD'].astype(int)\n",
    "# FECHA: Convertir la columna a tipo date\n",
    "df_homicidios_victimas['FECHA_FALLECIMIENTO'] = pd.to_datetime(df_homicidios_victimas['FECHA_FALLECIMIENTO'], format='%Y-%m-%d')"
   ]
  },
  {
   "cell_type": "code",
   "execution_count": 44,
   "metadata": {},
   "outputs": [
    {
     "data": {
      "text/html": [
       "<div>\n",
       "<style scoped>\n",
       "    .dataframe tbody tr th:only-of-type {\n",
       "        vertical-align: middle;\n",
       "    }\n",
       "\n",
       "    .dataframe tbody tr th {\n",
       "        vertical-align: top;\n",
       "    }\n",
       "\n",
       "    .dataframe thead th {\n",
       "        text-align: right;\n",
       "    }\n",
       "</style>\n",
       "<table border=\"1\" class=\"dataframe\">\n",
       "  <thead>\n",
       "    <tr style=\"text-align: right;\">\n",
       "      <th></th>\n",
       "      <th>ID</th>\n",
       "      <th>ROL</th>\n",
       "      <th>SEXO</th>\n",
       "      <th>EDAD</th>\n",
       "      <th>FECHA_FALLECIMIENTO</th>\n",
       "    </tr>\n",
       "  </thead>\n",
       "  <tbody>\n",
       "    <tr>\n",
       "      <th>0</th>\n",
       "      <td>20160001</td>\n",
       "      <td>CONDUCTOR</td>\n",
       "      <td>MASCULINO</td>\n",
       "      <td>19</td>\n",
       "      <td>2016-01-01</td>\n",
       "    </tr>\n",
       "    <tr>\n",
       "      <th>1</th>\n",
       "      <td>20160002</td>\n",
       "      <td>CONDUCTOR</td>\n",
       "      <td>MASCULINO</td>\n",
       "      <td>70</td>\n",
       "      <td>2016-01-02</td>\n",
       "    </tr>\n",
       "    <tr>\n",
       "      <th>2</th>\n",
       "      <td>20160003</td>\n",
       "      <td>CONDUCTOR</td>\n",
       "      <td>MASCULINO</td>\n",
       "      <td>30</td>\n",
       "      <td>2016-01-03</td>\n",
       "    </tr>\n",
       "    <tr>\n",
       "      <th>3</th>\n",
       "      <td>20160004</td>\n",
       "      <td>CONDUCTOR</td>\n",
       "      <td>MASCULINO</td>\n",
       "      <td>18</td>\n",
       "      <td>2016-01-10</td>\n",
       "    </tr>\n",
       "    <tr>\n",
       "      <th>4</th>\n",
       "      <td>20160005</td>\n",
       "      <td>CONDUCTOR</td>\n",
       "      <td>MASCULINO</td>\n",
       "      <td>29</td>\n",
       "      <td>2016-01-21</td>\n",
       "    </tr>\n",
       "  </tbody>\n",
       "</table>\n",
       "</div>"
      ],
      "text/plain": [
       "         ID        ROL       SEXO  EDAD FECHA_FALLECIMIENTO\n",
       "0  20160001  CONDUCTOR  MASCULINO    19          2016-01-01\n",
       "1  20160002  CONDUCTOR  MASCULINO    70          2016-01-02\n",
       "2  20160003  CONDUCTOR  MASCULINO    30          2016-01-03\n",
       "3  20160004  CONDUCTOR  MASCULINO    18          2016-01-10\n",
       "4  20160005  CONDUCTOR  MASCULINO    29          2016-01-21"
      ]
     },
     "execution_count": 44,
     "metadata": {},
     "output_type": "execute_result"
    }
   ],
   "source": [
    "df_homicidios_victimas.head()"
   ]
  },
  {
   "cell_type": "markdown",
   "metadata": {},
   "source": [
    "- ELIMINAMOS DUPLICADOS EN AMBOS"
   ]
  },
  {
   "cell_type": "code",
   "execution_count": 45,
   "metadata": {},
   "outputs": [
    {
     "name": "stdout",
     "output_type": "stream",
     "text": [
      "Shape de Hechos  :  (684, 10)\n",
      "Shape de Victimas:  (717, 5)\n"
     ]
    }
   ],
   "source": [
    "#Vemos la cantidad de registro en ambos archivos\n",
    "print(\"Shape de Hechos  : \", df_homicidios_hechos.shape)\n",
    "print(\"Shape de Victimas: \", df_homicidios_victimas.shape)"
   ]
  },
  {
   "cell_type": "code",
   "execution_count": 46,
   "metadata": {},
   "outputs": [
    {
     "name": "stdout",
     "output_type": "stream",
     "text": [
      "Shape de Hechos  :  (684, 10)\n",
      "Shape de Victimas:  (717, 5)\n"
     ]
    }
   ],
   "source": [
    "df_homicidios_hechos.drop_duplicates(inplace=True)\n",
    "df_homicidios_victimas.drop_duplicates(inplace=True)\n",
    "\n",
    "#Vemos la cantidad de registro en ambos archivos\n",
    "print(\"Shape de Hechos  : \", df_homicidios_hechos.shape)\n",
    "print(\"Shape de Victimas: \", df_homicidios_victimas.shape)"
   ]
  },
  {
   "cell_type": "markdown",
   "metadata": {},
   "source": [
    "==> no teníamos registros duplicados!"
   ]
  },
  {
   "cell_type": "markdown",
   "metadata": {},
   "source": [
    "Como hemos eliminado registros de Hechos es muy probable que tengamos Victimas sin su correspondencia en Hechos, en ese caso eliminaremos el registro de victimas"
   ]
  },
  {
   "cell_type": "code",
   "execution_count": 47,
   "metadata": {},
   "outputs": [
    {
     "data": {
      "text/html": [
       "<div>\n",
       "<style scoped>\n",
       "    .dataframe tbody tr th:only-of-type {\n",
       "        vertical-align: middle;\n",
       "    }\n",
       "\n",
       "    .dataframe tbody tr th {\n",
       "        vertical-align: top;\n",
       "    }\n",
       "\n",
       "    .dataframe thead th {\n",
       "        text-align: right;\n",
       "    }\n",
       "</style>\n",
       "<table border=\"1\" class=\"dataframe\">\n",
       "  <thead>\n",
       "    <tr style=\"text-align: right;\">\n",
       "      <th></th>\n",
       "      <th>ID</th>\n",
       "      <th>ROL</th>\n",
       "      <th>SEXO</th>\n",
       "      <th>EDAD</th>\n",
       "      <th>FECHA_FALLECIMIENTO</th>\n",
       "    </tr>\n",
       "  </thead>\n",
       "  <tbody>\n",
       "    <tr>\n",
       "      <th>0</th>\n",
       "      <td>20160001</td>\n",
       "      <td>CONDUCTOR</td>\n",
       "      <td>MASCULINO</td>\n",
       "      <td>19</td>\n",
       "      <td>2016-01-01</td>\n",
       "    </tr>\n",
       "    <tr>\n",
       "      <th>1</th>\n",
       "      <td>20160002</td>\n",
       "      <td>CONDUCTOR</td>\n",
       "      <td>MASCULINO</td>\n",
       "      <td>70</td>\n",
       "      <td>2016-01-02</td>\n",
       "    </tr>\n",
       "    <tr>\n",
       "      <th>2</th>\n",
       "      <td>20160003</td>\n",
       "      <td>CONDUCTOR</td>\n",
       "      <td>MASCULINO</td>\n",
       "      <td>30</td>\n",
       "      <td>2016-01-03</td>\n",
       "    </tr>\n",
       "    <tr>\n",
       "      <th>3</th>\n",
       "      <td>20160004</td>\n",
       "      <td>CONDUCTOR</td>\n",
       "      <td>MASCULINO</td>\n",
       "      <td>18</td>\n",
       "      <td>2016-01-10</td>\n",
       "    </tr>\n",
       "    <tr>\n",
       "      <th>4</th>\n",
       "      <td>20160005</td>\n",
       "      <td>CONDUCTOR</td>\n",
       "      <td>MASCULINO</td>\n",
       "      <td>29</td>\n",
       "      <td>2016-01-21</td>\n",
       "    </tr>\n",
       "    <tr>\n",
       "      <th>...</th>\n",
       "      <td>...</td>\n",
       "      <td>...</td>\n",
       "      <td>...</td>\n",
       "      <td>...</td>\n",
       "      <td>...</td>\n",
       "    </tr>\n",
       "    <tr>\n",
       "      <th>712</th>\n",
       "      <td>20210092</td>\n",
       "      <td>PEATON</td>\n",
       "      <td>FEMENINO</td>\n",
       "      <td>50</td>\n",
       "      <td>2021-12-12</td>\n",
       "    </tr>\n",
       "    <tr>\n",
       "      <th>713</th>\n",
       "      <td>20210093</td>\n",
       "      <td>PASAJERO_ACOMPAÑANTE</td>\n",
       "      <td>FEMENINO</td>\n",
       "      <td>18</td>\n",
       "      <td>2021-12-13</td>\n",
       "    </tr>\n",
       "    <tr>\n",
       "      <th>714</th>\n",
       "      <td>20210094</td>\n",
       "      <td>PASAJERO_ACOMPAÑANTE</td>\n",
       "      <td>FEMENINO</td>\n",
       "      <td>43</td>\n",
       "      <td>2021-12-20</td>\n",
       "    </tr>\n",
       "    <tr>\n",
       "      <th>715</th>\n",
       "      <td>20210095</td>\n",
       "      <td>CONDUCTOR</td>\n",
       "      <td>MASCULINO</td>\n",
       "      <td>27</td>\n",
       "      <td>2021-12-30</td>\n",
       "    </tr>\n",
       "    <tr>\n",
       "      <th>716</th>\n",
       "      <td>20210096</td>\n",
       "      <td>CONDUCTOR</td>\n",
       "      <td>MASCULINO</td>\n",
       "      <td>60</td>\n",
       "      <td>2021-12-15</td>\n",
       "    </tr>\n",
       "  </tbody>\n",
       "</table>\n",
       "<p>704 rows × 5 columns</p>\n",
       "</div>"
      ],
      "text/plain": [
       "           ID                   ROL       SEXO  EDAD FECHA_FALLECIMIENTO\n",
       "0    20160001             CONDUCTOR  MASCULINO    19          2016-01-01\n",
       "1    20160002             CONDUCTOR  MASCULINO    70          2016-01-02\n",
       "2    20160003             CONDUCTOR  MASCULINO    30          2016-01-03\n",
       "3    20160004             CONDUCTOR  MASCULINO    18          2016-01-10\n",
       "4    20160005             CONDUCTOR  MASCULINO    29          2016-01-21\n",
       "..        ...                   ...        ...   ...                 ...\n",
       "712  20210092                PEATON   FEMENINO    50          2021-12-12\n",
       "713  20210093  PASAJERO_ACOMPAÑANTE   FEMENINO    18          2021-12-13\n",
       "714  20210094  PASAJERO_ACOMPAÑANTE   FEMENINO    43          2021-12-20\n",
       "715  20210095             CONDUCTOR  MASCULINO    27          2021-12-30\n",
       "716  20210096             CONDUCTOR  MASCULINO    60          2021-12-15\n",
       "\n",
       "[704 rows x 5 columns]"
      ]
     },
     "execution_count": 47,
     "metadata": {},
     "output_type": "execute_result"
    }
   ],
   "source": [
    "df_homicidios_victimas[df_homicidios_victimas['ID'].isin(df_homicidios_hechos['ID'].values)]"
   ]
  },
  {
   "cell_type": "markdown",
   "metadata": {},
   "source": [
    "==> Tenemos 13 registros que perdieron su correspondencia en Hechos"
   ]
  },
  {
   "cell_type": "code",
   "execution_count": 48,
   "metadata": {},
   "outputs": [
    {
     "name": "stdout",
     "output_type": "stream",
     "text": [
      "Shape de Hechos  :  (684, 10)\n",
      "Shape de Victimas:  (704, 5)\n"
     ]
    }
   ],
   "source": [
    "#Realizamos la corrección\n",
    "df_homicidios_victimas = df_homicidios_victimas[df_homicidios_victimas['ID'].isin(df_homicidios_hechos['ID'].values)]\n",
    "#Vemos la cantidad de registro en ambos archivos\n",
    "print(\"Shape de Hechos  : \", df_homicidios_hechos.shape)\n",
    "print(\"Shape de Victimas: \", df_homicidios_victimas.shape)"
   ]
  },
  {
   "cell_type": "markdown",
   "metadata": {},
   "source": [
    ".\n",
    "\n",
    ".\n",
    "\n",
    "."
   ]
  },
  {
   "cell_type": "markdown",
   "metadata": {},
   "source": [
    "# **ANÁLISIS EXPLORATORIO DE DATOS (EN PROFUNDIDAD)**"
   ]
  },
  {
   "cell_type": "markdown",
   "metadata": {},
   "source": [
    "<hr>"
   ]
  },
  {
   "cell_type": "markdown",
   "metadata": {},
   "source": [
    "A continuación hare un análisis mas en profundidad de cada variable seleccionada para el modelo. Explicare de que tipo son las mismas y las cruzare entre si para detectar patrones entre las mismas."
   ]
  },
  {
   "cell_type": "markdown",
   "metadata": {},
   "source": [
    "<hr>"
   ]
  },
  {
   "cell_type": "markdown",
   "metadata": {},
   "source": [
    "- Procedemos a realizar un merge para tener en un solo DF todos los datos"
   ]
  },
  {
   "cell_type": "code",
   "execution_count": 49,
   "metadata": {},
   "outputs": [
    {
     "name": "stdout",
     "output_type": "stream",
     "text": [
      "Shape de Hechos  :  (684, 10)\n",
      "Shape de Victimas:  (704, 5)\n"
     ]
    }
   ],
   "source": [
    "#Vemos la cantidad de registro en ambos archivos\n",
    "print(\"Shape de Hechos  : \", df_homicidios_hechos.shape)\n",
    "print(\"Shape de Victimas: \", df_homicidios_victimas.shape)"
   ]
  },
  {
   "cell_type": "code",
   "execution_count": 50,
   "metadata": {},
   "outputs": [],
   "source": [
    "# UNIMOS AMBOS DFs POR ID\n",
    "df_homicidios = pd.merge(df_homicidios_hechos, df_homicidios_victimas, on='ID', how='inner')\n",
    "#Renombramos las columnas agregadas\n",
    "df_homicidios = df_homicidios.rename(columns={\n",
    "    'ROL': 'ROL_VICT',\n",
    "    'SEXO': 'SEXO_VICT',\n",
    "    'EDAD': 'EDAD_VICT',\n",
    "    'FECHA_FALLECIMIENTO': 'FECHA_FALLECIMIENTO_VICT'\n",
    "})"
   ]
  },
  {
   "cell_type": "code",
   "execution_count": 51,
   "metadata": {},
   "outputs": [
    {
     "data": {
      "text/html": [
       "<div>\n",
       "<style scoped>\n",
       "    .dataframe tbody tr th:only-of-type {\n",
       "        vertical-align: middle;\n",
       "    }\n",
       "\n",
       "    .dataframe tbody tr th {\n",
       "        vertical-align: top;\n",
       "    }\n",
       "\n",
       "    .dataframe thead th {\n",
       "        text-align: right;\n",
       "    }\n",
       "</style>\n",
       "<table border=\"1\" class=\"dataframe\">\n",
       "  <thead>\n",
       "    <tr style=\"text-align: right;\">\n",
       "      <th></th>\n",
       "      <th>ID</th>\n",
       "      <th>N_VICTIMAS</th>\n",
       "      <th>FECHA</th>\n",
       "      <th>HORA</th>\n",
       "      <th>TIPO_DE_CALLE</th>\n",
       "      <th>COMUNA</th>\n",
       "      <th>POS_X</th>\n",
       "      <th>POS_Y</th>\n",
       "      <th>VICTIMA</th>\n",
       "      <th>ACUSADO</th>\n",
       "      <th>ROL_VICT</th>\n",
       "      <th>SEXO_VICT</th>\n",
       "      <th>EDAD_VICT</th>\n",
       "      <th>FECHA_FALLECIMIENTO_VICT</th>\n",
       "    </tr>\n",
       "  </thead>\n",
       "  <tbody>\n",
       "    <tr>\n",
       "      <th>0</th>\n",
       "      <td>20160001</td>\n",
       "      <td>1</td>\n",
       "      <td>2016-01-01</td>\n",
       "      <td>04:00:00</td>\n",
       "      <td>AVENIDA</td>\n",
       "      <td>8</td>\n",
       "      <td>-58.475340</td>\n",
       "      <td>-34.687570</td>\n",
       "      <td>MOTO</td>\n",
       "      <td>AUTO</td>\n",
       "      <td>CONDUCTOR</td>\n",
       "      <td>MASCULINO</td>\n",
       "      <td>19</td>\n",
       "      <td>2016-01-01</td>\n",
       "    </tr>\n",
       "    <tr>\n",
       "      <th>1</th>\n",
       "      <td>20160002</td>\n",
       "      <td>1</td>\n",
       "      <td>2016-01-02</td>\n",
       "      <td>01:15:00</td>\n",
       "      <td>GRAL PAZ</td>\n",
       "      <td>9</td>\n",
       "      <td>-58.508775</td>\n",
       "      <td>-34.669777</td>\n",
       "      <td>AUTO</td>\n",
       "      <td>PASAJEROS</td>\n",
       "      <td>CONDUCTOR</td>\n",
       "      <td>MASCULINO</td>\n",
       "      <td>70</td>\n",
       "      <td>2016-01-02</td>\n",
       "    </tr>\n",
       "    <tr>\n",
       "      <th>2</th>\n",
       "      <td>20160003</td>\n",
       "      <td>1</td>\n",
       "      <td>2016-01-03</td>\n",
       "      <td>07:00:00</td>\n",
       "      <td>AVENIDA</td>\n",
       "      <td>1</td>\n",
       "      <td>-58.390403</td>\n",
       "      <td>-34.631894</td>\n",
       "      <td>MOTO</td>\n",
       "      <td>AUTO</td>\n",
       "      <td>CONDUCTOR</td>\n",
       "      <td>MASCULINO</td>\n",
       "      <td>30</td>\n",
       "      <td>2016-01-03</td>\n",
       "    </tr>\n",
       "    <tr>\n",
       "      <th>3</th>\n",
       "      <td>20160004</td>\n",
       "      <td>1</td>\n",
       "      <td>2016-01-10</td>\n",
       "      <td>00:00:00</td>\n",
       "      <td>AVENIDA</td>\n",
       "      <td>8</td>\n",
       "      <td>-58.465039</td>\n",
       "      <td>-34.680930</td>\n",
       "      <td>MOTO</td>\n",
       "      <td>SD</td>\n",
       "      <td>CONDUCTOR</td>\n",
       "      <td>MASCULINO</td>\n",
       "      <td>18</td>\n",
       "      <td>2016-01-10</td>\n",
       "    </tr>\n",
       "    <tr>\n",
       "      <th>4</th>\n",
       "      <td>20160005</td>\n",
       "      <td>1</td>\n",
       "      <td>2016-01-21</td>\n",
       "      <td>05:20:00</td>\n",
       "      <td>AVENIDA</td>\n",
       "      <td>1</td>\n",
       "      <td>-58.387183</td>\n",
       "      <td>-34.622466</td>\n",
       "      <td>MOTO</td>\n",
       "      <td>PASAJEROS</td>\n",
       "      <td>CONDUCTOR</td>\n",
       "      <td>MASCULINO</td>\n",
       "      <td>29</td>\n",
       "      <td>2016-01-21</td>\n",
       "    </tr>\n",
       "  </tbody>\n",
       "</table>\n",
       "</div>"
      ],
      "text/plain": [
       "         ID  N_VICTIMAS      FECHA      HORA TIPO_DE_CALLE  COMUNA      POS_X  \\\n",
       "0  20160001           1 2016-01-01  04:00:00       AVENIDA       8 -58.475340   \n",
       "1  20160002           1 2016-01-02  01:15:00      GRAL PAZ       9 -58.508775   \n",
       "2  20160003           1 2016-01-03  07:00:00       AVENIDA       1 -58.390403   \n",
       "3  20160004           1 2016-01-10  00:00:00       AVENIDA       8 -58.465039   \n",
       "4  20160005           1 2016-01-21  05:20:00       AVENIDA       1 -58.387183   \n",
       "\n",
       "       POS_Y VICTIMA    ACUSADO   ROL_VICT  SEXO_VICT  EDAD_VICT  \\\n",
       "0 -34.687570    MOTO       AUTO  CONDUCTOR  MASCULINO         19   \n",
       "1 -34.669777    AUTO  PASAJEROS  CONDUCTOR  MASCULINO         70   \n",
       "2 -34.631894    MOTO       AUTO  CONDUCTOR  MASCULINO         30   \n",
       "3 -34.680930    MOTO         SD  CONDUCTOR  MASCULINO         18   \n",
       "4 -34.622466    MOTO  PASAJEROS  CONDUCTOR  MASCULINO         29   \n",
       "\n",
       "  FECHA_FALLECIMIENTO_VICT  \n",
       "0               2016-01-01  \n",
       "1               2016-01-02  \n",
       "2               2016-01-03  \n",
       "3               2016-01-10  \n",
       "4               2016-01-21  "
      ]
     },
     "execution_count": 51,
     "metadata": {},
     "output_type": "execute_result"
    }
   ],
   "source": [
    "df_homicidios.head()"
   ]
  },
  {
   "cell_type": "code",
   "execution_count": 52,
   "metadata": {},
   "outputs": [
    {
     "data": {
      "text/plain": [
       "(704, 14)"
      ]
     },
     "execution_count": 52,
     "metadata": {},
     "output_type": "execute_result"
    }
   ],
   "source": [
    "df_homicidios.shape"
   ]
  },
  {
   "cell_type": "markdown",
   "metadata": {},
   "source": [
    "- Se puede ver que el inner join funciono correctamente, todas las victimas tenían un registro de hecho asociado."
   ]
  },
  {
   "cell_type": "code",
   "execution_count": 53,
   "metadata": {},
   "outputs": [
    {
     "data": {
      "text/plain": [
       "Index(['ID', 'N_VICTIMAS', 'FECHA', 'HORA', 'TIPO_DE_CALLE', 'COMUNA', 'POS_X',\n",
       "       'POS_Y', 'VICTIMA', 'ACUSADO', 'ROL_VICT', 'SEXO_VICT', 'EDAD_VICT',\n",
       "       'FECHA_FALLECIMIENTO_VICT'],\n",
       "      dtype='object')"
      ]
     },
     "execution_count": 53,
     "metadata": {},
     "output_type": "execute_result"
    }
   ],
   "source": [
    "#Visualizamos todas las columnas del Data Set\n",
    "df_homicidios.columns"
   ]
  },
  {
   "cell_type": "markdown",
   "metadata": {},
   "source": [
    ".\n",
    "\n",
    "."
   ]
  },
  {
   "cell_type": "markdown",
   "metadata": {},
   "source": [
    "#### <u>**TIPOS DE VARIABLES A TRATAR**</u>"
   ]
  },
  {
   "cell_type": "markdown",
   "metadata": {},
   "source": [
    "- **N_VICTIMAS**: Cuantitativa discreta.\n",
    "- **FECHA**: Temporal.\n",
    "- **HORA**: Temporal o puede ser nulo.\n",
    "- **TIPO_DE_CALLE**: Categórica nominal.\n",
    "- **COMUNA**: Categórica nominal.\n",
    "- **POS_X**: Cuantitativa continua.\n",
    "- **POS_Y**: Cuantitativa continua.\n",
    "- **VICTIMA**: Categórica nominal.\n",
    "- **ACUSADO**: Categórica nominal.\n",
    "- **ROL_VICT**: Categórica nominal.\n",
    "- **SEXO_VICT**: Categórica nominal.\n",
    "- **EDAD_VICT**: Cuantitativa discreta.\n",
    "- **FECHA_FALLECIMIENTO_VICT**: Temporal o puede ser nulo.\n",
    "\n",
    "\n",
    "==> **Cuantitativa discreta**: Datos numéricos que representan conteos y toman valores enteros.\n",
    "\n",
    "==> **Temporal**: Datos relacionados con el tiempo.\n",
    "\n",
    "==> **Categórica nominal**: Datos que representan categorías sin un orden intrínseco.\n",
    "\n",
    "==> **Cuantitativa continua**: Datos numéricos que pueden tomar cualquier valor en un rango.\n",
    "\n",
    "==> **Categórica ordinal**: Datos que representan categorías con un orden intrínseco."
   ]
  },
  {
   "cell_type": "markdown",
   "metadata": {},
   "source": [
    ".\n",
    "\n",
    ".\n",
    "\n",
    "."
   ]
  },
  {
   "cell_type": "markdown",
   "metadata": {},
   "source": [
    "<hr>"
   ]
  },
  {
   "cell_type": "markdown",
   "metadata": {},
   "source": [
    "**ACLARACIÓN**\n",
    "\n",
    "\n",
    "Importamos la librería de Warnings para evitar warnings en los gráficos y dejar mas limpio el notebook"
   ]
  },
  {
   "cell_type": "markdown",
   "metadata": {},
   "source": [
    "<hr>"
   ]
  },
  {
   "cell_type": "code",
   "execution_count": 54,
   "metadata": {},
   "outputs": [],
   "source": [
    "import warnings\n",
    "warnings.filterwarnings(\"ignore\", category=FutureWarning)"
   ]
  },
  {
   "cell_type": "markdown",
   "metadata": {},
   "source": [
    "<hr>"
   ]
  },
  {
   "cell_type": "markdown",
   "metadata": {},
   "source": [
    "<u>**CANTIDAD DE VICTIMAS POR AñO**</u>"
   ]
  },
  {
   "cell_type": "code",
   "execution_count": 55,
   "metadata": {},
   "outputs": [
    {
     "data": {
      "image/png": "[encoded data removed]",
      "text/plain": [
       "<Figure size 800x500 with 1 Axes>"
      ]
     },
     "metadata": {},
     "output_type": "display_data"
    }
   ],
   "source": [
    "# GRAFICAMOS LA CANTIDAD DE VICTIMAS POR AñO\n",
    "plt.figure(figsize=(8, 5))\n",
    "sns.countplot(x=df_homicidios['FECHA'].dt.year, data=df_homicidios)\n",
    "plt.title('VICTIMAS POR AñO')\n",
    "plt.xlabel('AñO')\n",
    "plt.ylabel('CANT. VICTIMAS')\n",
    "plt.show()"
   ]
  },
  {
   "cell_type": "markdown",
   "metadata": {},
   "source": [
    "Vemos que en el año **2018 se tuvo la mayor cantidad de Muertos**, cifras que se han reducido en los años siguientes."
   ]
  },
  {
   "cell_type": "markdown",
   "metadata": {},
   "source": [
    ".\n",
    "\n",
    "."
   ]
  },
  {
   "cell_type": "markdown",
   "metadata": {},
   "source": [
    "<u>**PROPORCIÓN DE HOMICIDIOS SEGÚN EL TIPO DE CALLE**</u>"
   ]
  },
  {
   "cell_type": "code",
   "execution_count": 56,
   "metadata": {},
   "outputs": [
    {
     "data": {
      "image/png": "[encoded data removed]",
      "text/plain": [
       "<Figure size 600x600 with 1 Axes>"
      ]
     },
     "metadata": {},
     "output_type": "display_data"
    }
   ],
   "source": [
    "# GRAFICAMOS LA PROPORCIÓN DE HOMICIDIOS SEGÚN EL TIPO DE CALLE\n",
    "plt.figure(figsize=(6, 6))\n",
    "df_homicidios['TIPO_DE_CALLE'].value_counts().plot.pie(autopct='%1.1f%%', startangle=90)\n",
    "plt.title('HOMICIDIOS POR TIPO DE CALLE')\n",
    "plt.show()"
   ]
  },
  {
   "cell_type": "markdown",
   "metadata": {},
   "source": [
    "La mayor cantidad de hechos son originados en **AVENIDAS**."
   ]
  },
  {
   "cell_type": "markdown",
   "metadata": {},
   "source": [
    ".\n",
    "\n",
    "."
   ]
  },
  {
   "cell_type": "markdown",
   "metadata": {},
   "source": [
    "<u>**HOMICIDIOS POR COMUNA**</u>"
   ]
  },
  {
   "cell_type": "code",
   "execution_count": 57,
   "metadata": {},
   "outputs": [
    {
     "data": {
      "image/png": "[encoded data removed]",
      "text/plain": [
       "<Figure size 1000x600 with 1 Axes>"
      ]
     },
     "metadata": {},
     "output_type": "display_data"
    }
   ],
   "source": [
    "# GRAFICAMOS HOMICIDIOS POR COMUNA\n",
    "plt.figure(figsize=(10, 6))\n",
    "sns.countplot(x='COMUNA', data=df_homicidios, palette='viridis', order=df_homicidios['COMUNA'].value_counts().index)\n",
    "plt.title('Homicidios por Comuna (Ordenado de Mayor a Menor)')\n",
    "plt.xlabel('Comuna')\n",
    "plt.ylabel('Cantidad de Homicidios')\n",
    "plt.xticks(rotation=45, ha='right')\n",
    "plt.show()"
   ]
  },
  {
   "cell_type": "markdown",
   "metadata": {},
   "source": [
    "La comuna 1 RECOLETA es la que presenta **mayor tasa de Mortalidad**."
   ]
  },
  {
   "cell_type": "markdown",
   "metadata": {},
   "source": [
    ".\n",
    "\n",
    "."
   ]
  },
  {
   "cell_type": "markdown",
   "metadata": {},
   "source": [
    "<u>**HOMICIDIOS EN FUNCIÓN DEL MES DEL AñO**</u>"
   ]
  },
  {
   "cell_type": "code",
   "execution_count": 58,
   "metadata": {},
   "outputs": [
    {
     "data": {
      "image/png": "[encoded data removed]",
      "text/plain": [
       "<Figure size 800x500 with 1 Axes>"
      ]
     },
     "metadata": {},
     "output_type": "display_data"
    }
   ],
   "source": [
    "# GRAFICAMOS HOMICIDIOS EN FUNCIÓN DEL MES DEL AñO\n",
    "plt.figure(figsize=(8, 5))\n",
    "sns.countplot(x=df_homicidios['FECHA'].dt.month, data=df_homicidios)\n",
    "plt.title('VICTIMAS POR AñO')\n",
    "plt.xlabel('AñO')\n",
    "plt.ylabel('CANT. VICTIMAS')\n",
    "plt.show()"
   ]
  },
  {
   "cell_type": "markdown",
   "metadata": {},
   "source": [
    "Se puede ver que **Diciembre es el mes con mas mortalidad**, sin embargo la diferencia no es muy notoria."
   ]
  },
  {
   "cell_type": "markdown",
   "metadata": {},
   "source": [
    ".\n",
    "\n",
    "."
   ]
  },
  {
   "cell_type": "markdown",
   "metadata": {},
   "source": [
    "<u>**CANTIDAD DE HOMICIDIOS SEGÚN TIPO DE VICTIMA**</u>"
   ]
  },
  {
   "cell_type": "code",
   "execution_count": 59,
   "metadata": {},
   "outputs": [
    {
     "data": {
      "image/png": "[encoded data removed]",
      "text/plain": [
       "<Figure size 800x600 with 1 Axes>"
      ]
     },
     "metadata": {},
     "output_type": "display_data"
    }
   ],
   "source": [
    "# GRAFICAMOS LA CANTIDAD DE HOMICIDIOS SEGÚN TIPO DE VICTIMA\n",
    "plt.figure(figsize=(8, 6))\n",
    "sns.countplot(x='VICTIMA', data=df_homicidios, palette='viridis', order=df_homicidios['VICTIMA'].value_counts().index)\n",
    "plt.title('Homicidios por Tipo De Víctima')\n",
    "plt.xlabel('Tipo De Víctima')\n",
    "plt.ylabel('Cantidad de Homicidios')\n",
    "plt.xticks(rotation=45, ha='right')\n",
    "plt.show()"
   ]
  },
  {
   "cell_type": "code",
   "execution_count": 60,
   "metadata": {},
   "outputs": [
    {
     "data": {
      "image/png": "[encoded data removed]",
      "text/plain": [
       "<Figure size 800x600 with 1 Axes>"
      ]
     },
     "metadata": {},
     "output_type": "display_data"
    }
   ],
   "source": [
    "# GRAFICAMOS LA CANTIDAD DE HOMICIDIOS SEGÚN TIPO DE VICTIMA Y SEXO\n",
    "plt.figure(figsize=(8, 6))\n",
    "sns.countplot(x='VICTIMA', hue='SEXO_VICT', data=df_homicidios, palette='viridis', \n",
    "              order=df_homicidios['VICTIMA'].value_counts().index)\n",
    "plt.title('Homicidios por Tipo De Víctima y Sexo')\n",
    "plt.xlabel('Tipo De Víctima')\n",
    "plt.ylabel('Cantidad de Homicidios')\n",
    "plt.xticks(rotation=45, ha='right')\n",
    "plt.legend(title='Sexo')\n",
    "plt.show()"
   ]
  },
  {
   "cell_type": "markdown",
   "metadata": {},
   "source": [
    "Las Victimas que iban en **Moto** o que eran **Peatones** representan a la mayoría de los hechos y para ambos casos el sexo **Masculino** tuvo la gran mayoría de Victimas Fatales"
   ]
  },
  {
   "cell_type": "markdown",
   "metadata": {},
   "source": [
    ".\n",
    "\n",
    "."
   ]
  },
  {
   "cell_type": "markdown",
   "metadata": {},
   "source": [
    "<u>**CANTIDAD DE HOMICIDIOS SEGÚN TIPO DE ACUSADO**</u>"
   ]
  },
  {
   "cell_type": "code",
   "execution_count": 61,
   "metadata": {},
   "outputs": [
    {
     "data": {
      "image/png": "[encoded data removed]",
      "text/plain": [
       "<Figure size 800x600 with 1 Axes>"
      ]
     },
     "metadata": {},
     "output_type": "display_data"
    }
   ],
   "source": [
    "# GRAFICAMOS LA CANTIDAD DE HOMICIDIOS SEGÚN TIPO DE ACUSADO\n",
    "plt.figure(figsize=(8, 6))\n",
    "sns.countplot(x='ACUSADO', data=df_homicidios, palette='viridis', order=df_homicidios['ACUSADO'].value_counts().index)\n",
    "plt.title('Homicidios por Tipo De Acusado')\n",
    "plt.xlabel('Tipo De Acusado')\n",
    "plt.ylabel('Cantidad de Homicidios')\n",
    "plt.xticks(rotation=45, ha='right')\n",
    "plt.show()"
   ]
  },
  {
   "cell_type": "code",
   "execution_count": 62,
   "metadata": {},
   "outputs": [
    {
     "data": {
      "image/png": "[encoded data removed]",
      "text/plain": [
       "<Figure size 800x600 with 1 Axes>"
      ]
     },
     "metadata": {},
     "output_type": "display_data"
    }
   ],
   "source": [
    "# GRAFICAMOS LA CANTIDAD DE HOMICIDIOS SEGÚN TIPO DE ACUSADO Y SEXO\n",
    "plt.figure(figsize=(8, 6))\n",
    "sns.countplot(x='ACUSADO', hue='SEXO_VICT', data=df_homicidios, palette='viridis',\n",
    "              order=df_homicidios['ACUSADO'].value_counts().index)\n",
    "plt.title('Homicidios por Tipo De Acusado y Sexo de la Víctima')\n",
    "plt.xlabel('Tipo De Acusado')\n",
    "plt.ylabel('Cantidad de Homicidios')\n",
    "plt.xticks(rotation=45, ha='right')\n",
    "plt.legend(title='Sexo de la Víctima')\n",
    "plt.show()"
   ]
  },
  {
   "cell_type": "markdown",
   "metadata": {},
   "source": [
    "Dentro de los acusados, la **mayoría iba en AUTO**. En todos los casos el sexo **Masculino** tuvo mayor participación como Acusado."
   ]
  },
  {
   "cell_type": "markdown",
   "metadata": {},
   "source": [
    ".\n",
    "\n",
    "."
   ]
  },
  {
   "cell_type": "markdown",
   "metadata": {},
   "source": [
    "<u>**CANTIDAD DE VICTIMAS SEGÚN EDAD**</u>"
   ]
  },
  {
   "cell_type": "code",
   "execution_count": 63,
   "metadata": {},
   "outputs": [
    {
     "data": {
      "image/png": "[encoded data removed]",
      "text/plain": [
       "<Figure size 800x600 with 1 Axes>"
      ]
     },
     "metadata": {},
     "output_type": "display_data"
    }
   ],
   "source": [
    "# GRAFICAMOS LA CANTIDAD DE VICTIMAS SEGÚN EDAD\n",
    "# Convertir la columna 'EDAD_VICT' a entero y manejar valores no numéricos\n",
    "df_homicidios['EDAD_VICT'] = pd.to_numeric(df_homicidios['EDAD_VICT'], errors='coerce')\n",
    "# Agrupar las edades en rangos de 10 en 10\n",
    "df_homicidios['EDAD_GRUPO'] = pd.cut(df_homicidios['EDAD_VICT'], bins=range(0, 101, 10), right=False)\n",
    "\n",
    "# cantidad de homicidios según el grupo de edad, fraccionamos de 10 en 10\n",
    "plt.figure(figsize=(8, 6))\n",
    "sns.countplot(x='EDAD_GRUPO', data=df_homicidios, palette='viridis')\n",
    "plt.title('Cantidad de Homicidios según el Grupo de Edad')\n",
    "plt.xlabel('Grupo de Edad')\n",
    "plt.ylabel('Cantidad de Homicidios')\n",
    "plt.xticks(rotation=45, ha='right')\n",
    "plt.show()"
   ]
  },
  {
   "cell_type": "code",
   "execution_count": 64,
   "metadata": {},
   "outputs": [
    {
     "data": {
      "image/png": "[encoded data removed]",
      "text/plain": [
       "<Figure size 1200x800 with 1 Axes>"
      ]
     },
     "metadata": {},
     "output_type": "display_data"
    }
   ],
   "source": [
    "# GRAFICAMOS LA CANTIDAD DE VICTIMAS SEGÚN EDAD Y SEXO\n",
    "plt.figure(figsize=(12, 8))\n",
    "sns.countplot(x='EDAD_GRUPO', hue='SEXO_VICT', data=df_homicidios, palette='viridis')\n",
    "plt.title('Cantidad de Homicidios según el Grupo de Edad y Sexo de la Víctima')\n",
    "plt.xlabel('Grupo de Edad')\n",
    "plt.ylabel('Cantidad de Homicidios')\n",
    "plt.xticks(rotation=45, ha='right')\n",
    "plt.legend(title='Sexo de la Víctima')\n",
    "plt.show()"
   ]
  },
  {
   "cell_type": "markdown",
   "metadata": {},
   "source": [
    "El rango etario con mayor cantidad de Victimas Mortales es **entre 20 y 30 años**. En los rangos etarios por debajo de los 60 años el sexo Masculino tuvo mayor participación, pero en los rangos etarios superiores la participación es casi igualitaria entre ambos sexos."
   ]
  },
  {
   "cell_type": "markdown",
   "metadata": {},
   "source": [
    ".\n",
    "\n",
    "."
   ]
  },
  {
   "cell_type": "markdown",
   "metadata": {},
   "source": [
    "<u>**CANTIDAD DE HOMICIDIOS SEGÚN SEXO**</u>"
   ]
  },
  {
   "cell_type": "code",
   "execution_count": 65,
   "metadata": {},
   "outputs": [
    {
     "data": {
      "image/png": "[encoded data removed]",
      "text/plain": [
       "<Figure size 500x500 with 1 Axes>"
      ]
     },
     "metadata": {},
     "output_type": "display_data"
    }
   ],
   "source": [
    "# GRAFICAMOS LA CANTIDAD DE HOMICIDIOS SEGÚN SEXO\n",
    "plt.figure(figsize=(5, 5))\n",
    "sns.countplot(x='SEXO_VICT', data=df_homicidios, palette='viridis')\n",
    "plt.title('Homicidios Según Genero')\n",
    "plt.xlabel('Generos')\n",
    "plt.ylabel('Cantidad de Homicidios')\n",
    "plt.show()"
   ]
  },
  {
   "cell_type": "markdown",
   "metadata": {},
   "source": [
    "La mayoría de las victimas son de sexo **MASCULINO**."
   ]
  },
  {
   "cell_type": "markdown",
   "metadata": {},
   "source": [
    "<u>**CANTIDAD DE HOMICIDIOS SEGÚN ROL DE LA VICTIMA**</u>"
   ]
  },
  {
   "cell_type": "code",
   "execution_count": 66,
   "metadata": {},
   "outputs": [
    {
     "data": {
      "image/png": "[encoded data removed]",
      "text/plain": [
       "<Figure size 1200x600 with 1 Axes>"
      ]
     },
     "metadata": {},
     "output_type": "display_data"
    }
   ],
   "source": [
    "# GRAFICAMOS LA CANTIDAD DE HOMICIDIOS SEGÚN ROL DE LA VICTIMA\n",
    "plt.figure(figsize=(12, 6))\n",
    "sns.countplot(x='ROL_VICT', data=df_homicidios, palette='viridis')\n",
    "plt.title('Homicidios Según ROL DE LA VICTIMA')\n",
    "plt.xlabel('Roles')\n",
    "plt.ylabel('Cantidad de Homicidios')\n",
    "plt.show()"
   ]
  },
  {
   "cell_type": "markdown",
   "metadata": {},
   "source": [
    "Los **CONDUCTORES y PEATONES** representan la gran mayoría de las victimas fatales."
   ]
  },
  {
   "cell_type": "code",
   "execution_count": 67,
   "metadata": {},
   "outputs": [
    {
     "data": {
      "image/png": "[encoded data removed]",
      "text/plain": [
       "<Figure size 1200x600 with 1 Axes>"
      ]
     },
     "metadata": {},
     "output_type": "display_data"
    }
   ],
   "source": [
    "# GRAFICAMOS LA CANTIDAD DE HOMICIDIOS SEGÚN ROL DE LA VICTIMA Y SEXO\n",
    "plt.figure(figsize=(12, 6))\n",
    "sns.countplot(x='ROL_VICT', hue='SEXO_VICT', data=df_homicidios, palette='viridis')\n",
    "plt.title('Homicidios Según Rol de la Víctima y Sexo')\n",
    "plt.xlabel('Roles')\n",
    "plt.ylabel('Cantidad de Homicidios')\n",
    "plt.legend(title='Sexo de la Víctima')\n",
    "plt.show()"
   ]
  },
  {
   "cell_type": "markdown",
   "metadata": {},
   "source": [
    "Los **CONDUCTORES (donde casi el total pertenecen a sexo masculino) y PEATONES (con una distribución mas homogénea entre el sexo de la victima)** representan la gran mayoría de las victimas fatales."
   ]
  },
  {
   "cell_type": "code",
   "execution_count": 68,
   "metadata": {},
   "outputs": [
    {
     "data": {
      "image/png": "[encoded data removed]",
      "text/plain": [
       "<Figure size 1200x600 with 1 Axes>"
      ]
     },
     "metadata": {},
     "output_type": "display_data"
    }
   ],
   "source": [
    "# GRAFICAMOS LA CANTIDAD DE HOMICIDIOS SEGÚN TIPO DE VICTIMA Y SEXO\n",
    "plt.figure(figsize=(12, 6))\n",
    "sns.countplot(x='VICTIMA', hue='SEXO_VICT', data=df_homicidios, palette='viridis')\n",
    "plt.title('Homicidios Según Rol de la Víctima y Sexo')\n",
    "plt.xlabel('Roles')\n",
    "plt.ylabel('Cantidad de Homicidios')\n",
    "plt.legend(title='Sexo de la Víctima')\n",
    "plt.show()"
   ]
  },
  {
   "cell_type": "code",
   "execution_count": 69,
   "metadata": {},
   "outputs": [
    {
     "data": {
      "image/png": "[encoded data removed]",
      "text/plain": [
       "<Figure size 1200x600 with 1 Axes>"
      ]
     },
     "metadata": {},
     "output_type": "display_data"
    }
   ],
   "source": [
    "# GRAFICAMOS LA CANTIDAD DE HOMICIDIOS SEGÚN TIPO DE VICTIMA Y ROL DE LA VICTIMA\n",
    "plt.figure(figsize=(12, 6))\n",
    "sns.countplot(x='VICTIMA', hue='ROL_VICT', data=df_homicidios, palette='viridis')\n",
    "plt.title('Homicidios Según Rol de la Víctima y Sexo')\n",
    "plt.xlabel('Roles')\n",
    "plt.ylabel('Cantidad de Homicidios')\n",
    "plt.legend(title='Sexo de la Víctima')\n",
    "plt.show()"
   ]
  },
  {
   "cell_type": "markdown",
   "metadata": {},
   "source": [
    "Los **CONDUCTORES (donde la gran mayoría manejaba MOTO) y PEATONES** representan la gran mayoría de las victimas fatales."
   ]
  },
  {
   "cell_type": "markdown",
   "metadata": {},
   "source": [
    ".\n",
    "\n",
    "."
   ]
  },
  {
   "cell_type": "markdown",
   "metadata": {},
   "source": [
    "### **ANÁLISIS DE VARIABLES CUANTITATIVAS**"
   ]
  },
  {
   "cell_type": "markdown",
   "metadata": {},
   "source": [
    "En este caso analizaremos EDAD. Ya hemos analizado N_VICTIMAS y vimos que no tiene valores atípicos ni extremos. "
   ]
  },
  {
   "cell_type": "code",
   "execution_count": 70,
   "metadata": {},
   "outputs": [
    {
     "data": {
      "text/html": [
       "<div>\n",
       "<style scoped>\n",
       "    .dataframe tbody tr th:only-of-type {\n",
       "        vertical-align: middle;\n",
       "    }\n",
       "\n",
       "    .dataframe tbody tr th {\n",
       "        vertical-align: top;\n",
       "    }\n",
       "\n",
       "    .dataframe thead th {\n",
       "        text-align: right;\n",
       "    }\n",
       "</style>\n",
       "<table border=\"1\" class=\"dataframe\">\n",
       "  <thead>\n",
       "    <tr style=\"text-align: right;\">\n",
       "      <th></th>\n",
       "      <th>ID</th>\n",
       "      <th>N_VICTIMAS</th>\n",
       "      <th>FECHA</th>\n",
       "      <th>HORA</th>\n",
       "      <th>TIPO_DE_CALLE</th>\n",
       "      <th>COMUNA</th>\n",
       "      <th>POS_X</th>\n",
       "      <th>POS_Y</th>\n",
       "      <th>VICTIMA</th>\n",
       "      <th>ACUSADO</th>\n",
       "      <th>ROL_VICT</th>\n",
       "      <th>SEXO_VICT</th>\n",
       "      <th>EDAD_VICT</th>\n",
       "      <th>FECHA_FALLECIMIENTO_VICT</th>\n",
       "      <th>EDAD_GRUPO</th>\n",
       "    </tr>\n",
       "  </thead>\n",
       "  <tbody>\n",
       "    <tr>\n",
       "      <th>0</th>\n",
       "      <td>20160001</td>\n",
       "      <td>1</td>\n",
       "      <td>2016-01-01</td>\n",
       "      <td>04:00:00</td>\n",
       "      <td>AVENIDA</td>\n",
       "      <td>8</td>\n",
       "      <td>-58.475340</td>\n",
       "      <td>-34.687570</td>\n",
       "      <td>MOTO</td>\n",
       "      <td>AUTO</td>\n",
       "      <td>CONDUCTOR</td>\n",
       "      <td>MASCULINO</td>\n",
       "      <td>19</td>\n",
       "      <td>2016-01-01</td>\n",
       "      <td>[10, 20)</td>\n",
       "    </tr>\n",
       "    <tr>\n",
       "      <th>1</th>\n",
       "      <td>20160002</td>\n",
       "      <td>1</td>\n",
       "      <td>2016-01-02</td>\n",
       "      <td>01:15:00</td>\n",
       "      <td>GRAL PAZ</td>\n",
       "      <td>9</td>\n",
       "      <td>-58.508775</td>\n",
       "      <td>-34.669777</td>\n",
       "      <td>AUTO</td>\n",
       "      <td>PASAJEROS</td>\n",
       "      <td>CONDUCTOR</td>\n",
       "      <td>MASCULINO</td>\n",
       "      <td>70</td>\n",
       "      <td>2016-01-02</td>\n",
       "      <td>[70, 80)</td>\n",
       "    </tr>\n",
       "    <tr>\n",
       "      <th>2</th>\n",
       "      <td>20160003</td>\n",
       "      <td>1</td>\n",
       "      <td>2016-01-03</td>\n",
       "      <td>07:00:00</td>\n",
       "      <td>AVENIDA</td>\n",
       "      <td>1</td>\n",
       "      <td>-58.390403</td>\n",
       "      <td>-34.631894</td>\n",
       "      <td>MOTO</td>\n",
       "      <td>AUTO</td>\n",
       "      <td>CONDUCTOR</td>\n",
       "      <td>MASCULINO</td>\n",
       "      <td>30</td>\n",
       "      <td>2016-01-03</td>\n",
       "      <td>[30, 40)</td>\n",
       "    </tr>\n",
       "    <tr>\n",
       "      <th>3</th>\n",
       "      <td>20160004</td>\n",
       "      <td>1</td>\n",
       "      <td>2016-01-10</td>\n",
       "      <td>00:00:00</td>\n",
       "      <td>AVENIDA</td>\n",
       "      <td>8</td>\n",
       "      <td>-58.465039</td>\n",
       "      <td>-34.680930</td>\n",
       "      <td>MOTO</td>\n",
       "      <td>SD</td>\n",
       "      <td>CONDUCTOR</td>\n",
       "      <td>MASCULINO</td>\n",
       "      <td>18</td>\n",
       "      <td>2016-01-10</td>\n",
       "      <td>[10, 20)</td>\n",
       "    </tr>\n",
       "    <tr>\n",
       "      <th>4</th>\n",
       "      <td>20160005</td>\n",
       "      <td>1</td>\n",
       "      <td>2016-01-21</td>\n",
       "      <td>05:20:00</td>\n",
       "      <td>AVENIDA</td>\n",
       "      <td>1</td>\n",
       "      <td>-58.387183</td>\n",
       "      <td>-34.622466</td>\n",
       "      <td>MOTO</td>\n",
       "      <td>PASAJEROS</td>\n",
       "      <td>CONDUCTOR</td>\n",
       "      <td>MASCULINO</td>\n",
       "      <td>29</td>\n",
       "      <td>2016-01-21</td>\n",
       "      <td>[20, 30)</td>\n",
       "    </tr>\n",
       "  </tbody>\n",
       "</table>\n",
       "</div>"
      ],
      "text/plain": [
       "         ID  N_VICTIMAS      FECHA      HORA TIPO_DE_CALLE  COMUNA      POS_X  \\\n",
       "0  20160001           1 2016-01-01  04:00:00       AVENIDA       8 -58.475340   \n",
       "1  20160002           1 2016-01-02  01:15:00      GRAL PAZ       9 -58.508775   \n",
       "2  20160003           1 2016-01-03  07:00:00       AVENIDA       1 -58.390403   \n",
       "3  20160004           1 2016-01-10  00:00:00       AVENIDA       8 -58.465039   \n",
       "4  20160005           1 2016-01-21  05:20:00       AVENIDA       1 -58.387183   \n",
       "\n",
       "       POS_Y VICTIMA    ACUSADO   ROL_VICT  SEXO_VICT  EDAD_VICT  \\\n",
       "0 -34.687570    MOTO       AUTO  CONDUCTOR  MASCULINO         19   \n",
       "1 -34.669777    AUTO  PASAJEROS  CONDUCTOR  MASCULINO         70   \n",
       "2 -34.631894    MOTO       AUTO  CONDUCTOR  MASCULINO         30   \n",
       "3 -34.680930    MOTO         SD  CONDUCTOR  MASCULINO         18   \n",
       "4 -34.622466    MOTO  PASAJEROS  CONDUCTOR  MASCULINO         29   \n",
       "\n",
       "  FECHA_FALLECIMIENTO_VICT EDAD_GRUPO  \n",
       "0               2016-01-01   [10, 20)  \n",
       "1               2016-01-02   [70, 80)  \n",
       "2               2016-01-03   [30, 40)  \n",
       "3               2016-01-10   [10, 20)  \n",
       "4               2016-01-21   [20, 30)  "
      ]
     },
     "execution_count": 70,
     "metadata": {},
     "output_type": "execute_result"
    }
   ],
   "source": [
    "df_homicidios.head()"
   ]
  },
  {
   "cell_type": "code",
   "execution_count": 71,
   "metadata": {},
   "outputs": [
    {
     "name": "stdout",
     "output_type": "stream",
     "text": [
      "Menor Edad          : 1\n",
      "Mayor Edad          : 95\n",
      "Moda de Edades      : 42\n",
      "Promedio de Edades  : 42\n",
      "Mediana de Edades   : 39\n"
     ]
    }
   ],
   "source": [
    "# Calculamos estadísticas descriptivas\n",
    "menor    = df_homicidios['EDAD_VICT'].min()\n",
    "mayor    = df_homicidios['EDAD_VICT'].max()\n",
    "moda     = df_homicidios['EDAD_VICT'].mode()[0]  # La moda puede ser múltiple, tomamos el primer valor\n",
    "promedio = round(df_homicidios['EDAD_VICT'].mean())\n",
    "mediana  = round(df_homicidios['EDAD_VICT'].median())\n",
    "\n",
    "# Imprime los resultados\n",
    "print(f'Menor Edad          : {menor}')\n",
    "print(f'Mayor Edad          : {mayor}')\n",
    "print(f'Moda de Edades      : {moda}')\n",
    "print(f'Promedio de Edades  : {promedio}')\n",
    "print(f'Mediana de Edades   : {mediana}')"
   ]
  },
  {
   "cell_type": "markdown",
   "metadata": {},
   "source": [
    "==> *La MODA se vio afectada por la imputación con KNN, si hubiésemos imputado el PROMEDIO tendríamos otra MODA.*"
   ]
  },
  {
   "cell_type": "code",
   "execution_count": 72,
   "metadata": {},
   "outputs": [
    {
     "data": {
      "image/png": "[encoded data removed]",
      "text/plain": [
       "<Figure size 1000x600 with 1 Axes>"
      ]
     },
     "metadata": {},
     "output_type": "display_data"
    }
   ],
   "source": [
    "#Histograma: Vemos distribución general de las edades.\n",
    "plt.figure(figsize=(10, 6))\n",
    "plt.hist(df_homicidios['EDAD_VICT'], bins=30, color='skyblue', edgecolor='black')\n",
    "plt.title('Histograma de Edades en Homicidios')\n",
    "plt.xlabel('Edad de la Víctima')\n",
    "plt.ylabel('Frecuencia')\n",
    "plt.show()"
   ]
  },
  {
   "cell_type": "code",
   "execution_count": 73,
   "metadata": {},
   "outputs": [
    {
     "data": {
      "image/png": "[encoded data removed]",
      "text/plain": [
       "<Figure size 1000x600 with 1 Axes>"
      ]
     },
     "metadata": {},
     "output_type": "display_data"
    }
   ],
   "source": [
    "#Densidad: Representación suave de la distribución.\n",
    "plt.figure(figsize=(10, 6))\n",
    "sns.kdeplot(df_homicidios['EDAD_VICT'], color='skyblue', fill=True)\n",
    "plt.title('Gráfico de Densidad de Edades en Homicidios')\n",
    "plt.xlabel('Edad de la Víctima')\n",
    "plt.show()"
   ]
  },
  {
   "cell_type": "code",
   "execution_count": 74,
   "metadata": {},
   "outputs": [
    {
     "data": {
      "image/png": "[encoded data removed]",
      "text/plain": [
       "<Figure size 800x400 with 1 Axes>"
      ]
     },
     "metadata": {},
     "output_type": "display_data"
    }
   ],
   "source": [
    "# BoxPlot: Vemos valores atípicos o extremos.\n",
    "plt.figure(figsize=(8, 4))\n",
    "sns.boxplot(x=df_homicidios['EDAD_VICT'], color='skyblue')\n",
    "\n",
    "# Agregar título y etiquetas\n",
    "plt.title('Boxplot de Edades en Homicidios')\n",
    "plt.xlabel('Edad de la Víctima')\n",
    "\n",
    "# Mostrar el gráfico\n",
    "plt.show()"
   ]
  },
  {
   "cell_type": "markdown",
   "metadata": {},
   "source": [
    "No Se observan valores Atípicos. Están dentro del rango posible de edades."
   ]
  },
  {
   "cell_type": "markdown",
   "metadata": {},
   "source": [
    ".\n",
    "\n",
    ".\n",
    "\n",
    ".\n"
   ]
  },
  {
   "cell_type": "markdown",
   "metadata": {},
   "source": [
    "# **ARCHIVOS COMPLEMENTARIOS**"
   ]
  },
  {
   "cell_type": "markdown",
   "metadata": {},
   "source": [
    "<hr>"
   ]
  },
  {
   "cell_type": "markdown",
   "metadata": {},
   "source": [
    "A continuación haremos uso de archivo complementarios que serán necesarios para el correcto funcionamiento del DASHBOARD."
   ]
  },
  {
   "cell_type": "markdown",
   "metadata": {},
   "source": [
    "<hr>"
   ]
  },
  {
   "cell_type": "markdown",
   "metadata": {},
   "source": [
    ".\n",
    "\n",
    "."
   ]
  },
  {
   "cell_type": "markdown",
   "metadata": {},
   "source": [
    "## <u>**1 - COMUNAS DE CABA**</u>\n",
    "\n",
    "\n",
    "Fue obtenido de la pagina oficial del **gobierno de la ciudad de Buenos Aires**. Contiene el listado de las comunas con su ID y descripción (Localidades que abarca)."
   ]
  },
  {
   "cell_type": "code",
   "execution_count": 75,
   "metadata": {},
   "outputs": [
    {
     "data": {
      "text/html": [
       "<div>\n",
       "<style scoped>\n",
       "    .dataframe tbody tr th:only-of-type {\n",
       "        vertical-align: middle;\n",
       "    }\n",
       "\n",
       "    .dataframe tbody tr th {\n",
       "        vertical-align: top;\n",
       "    }\n",
       "\n",
       "    .dataframe thead th {\n",
       "        text-align: right;\n",
       "    }\n",
       "</style>\n",
       "<table border=\"1\" class=\"dataframe\">\n",
       "  <thead>\n",
       "    <tr style=\"text-align: right;\">\n",
       "      <th></th>\n",
       "      <th>ID</th>\n",
       "      <th>OBJETO</th>\n",
       "      <th>COMUNAS</th>\n",
       "      <th>BARRIOS</th>\n",
       "      <th>PERIMETRO</th>\n",
       "      <th>AREA</th>\n",
       "    </tr>\n",
       "  </thead>\n",
       "  <tbody>\n",
       "    <tr>\n",
       "      <th>0</th>\n",
       "      <td>1</td>\n",
       "      <td>LIMITE COMUNAL</td>\n",
       "      <td>2</td>\n",
       "      <td>RECOLETA</td>\n",
       "      <td>21452.838648</td>\n",
       "      <td>6.317265e+06</td>\n",
       "    </tr>\n",
       "    <tr>\n",
       "      <th>1</th>\n",
       "      <td>2</td>\n",
       "      <td>LIMITE COMUNAL</td>\n",
       "      <td>5</td>\n",
       "      <td>ALMAGRO - BOEDO</td>\n",
       "      <td>12323.432479</td>\n",
       "      <td>6.660603e+06</td>\n",
       "    </tr>\n",
       "    <tr>\n",
       "      <th>2</th>\n",
       "      <td>3</td>\n",
       "      <td>LIMITE COMUNAL</td>\n",
       "      <td>6</td>\n",
       "      <td>CABALLITO</td>\n",
       "      <td>10990.964471</td>\n",
       "      <td>6.851029e+06</td>\n",
       "    </tr>\n",
       "    <tr>\n",
       "      <th>3</th>\n",
       "      <td>4</td>\n",
       "      <td>LIMITE COMUNAL</td>\n",
       "      <td>7</td>\n",
       "      <td>FLORES - PARQUE CHACABUCO</td>\n",
       "      <td>17972.257870</td>\n",
       "      <td>1.242290e+07</td>\n",
       "    </tr>\n",
       "    <tr>\n",
       "      <th>4</th>\n",
       "      <td>5</td>\n",
       "      <td>LIMITE COMUNAL</td>\n",
       "      <td>9</td>\n",
       "      <td>LINIERS - MATADEROS - PARQUE AVELLANEDA</td>\n",
       "      <td>21411.738344</td>\n",
       "      <td>1.650531e+07</td>\n",
       "    </tr>\n",
       "  </tbody>\n",
       "</table>\n",
       "</div>"
      ],
      "text/plain": [
       "   ID          OBJETO  COMUNAS                                  BARRIOS  \\\n",
       "0   1  LIMITE COMUNAL        2                                 RECOLETA   \n",
       "1   2  LIMITE COMUNAL        5                          ALMAGRO - BOEDO   \n",
       "2   3  LIMITE COMUNAL        6                                CABALLITO   \n",
       "3   4  LIMITE COMUNAL        7                FLORES - PARQUE CHACABUCO   \n",
       "4   5  LIMITE COMUNAL        9  LINIERS - MATADEROS - PARQUE AVELLANEDA   \n",
       "\n",
       "      PERIMETRO          AREA  \n",
       "0  21452.838648  6.317265e+06  \n",
       "1  12323.432479  6.660603e+06  \n",
       "2  10990.964471  6.851029e+06  \n",
       "3  17972.257870  1.242290e+07  \n",
       "4  21411.738344  1.650531e+07  "
      ]
     },
     "execution_count": 75,
     "metadata": {},
     "output_type": "execute_result"
    }
   ],
   "source": [
    "df_comunas = leerExcel(\"Datos/\", \"comunas.xlsx\", \"comunas\")\n",
    "df_comunas.head()"
   ]
  },
  {
   "cell_type": "code",
   "execution_count": 76,
   "metadata": {},
   "outputs": [],
   "source": [
    "# Eliminar las columnas especificadas\n",
    "columnas_a_eliminar = ['ID', 'OBJETO', 'PERIMETRO', 'AREA']\n",
    "df_comunas = df_comunas.drop(columnas_a_eliminar, axis=1)"
   ]
  },
  {
   "cell_type": "code",
   "execution_count": 77,
   "metadata": {},
   "outputs": [
    {
     "data": {
      "text/html": [
       "<div>\n",
       "<style scoped>\n",
       "    .dataframe tbody tr th:only-of-type {\n",
       "        vertical-align: middle;\n",
       "    }\n",
       "\n",
       "    .dataframe tbody tr th {\n",
       "        vertical-align: top;\n",
       "    }\n",
       "\n",
       "    .dataframe thead th {\n",
       "        text-align: right;\n",
       "    }\n",
       "</style>\n",
       "<table border=\"1\" class=\"dataframe\">\n",
       "  <thead>\n",
       "    <tr style=\"text-align: right;\">\n",
       "      <th></th>\n",
       "      <th>COMUNAS</th>\n",
       "      <th>BARRIOS</th>\n",
       "    </tr>\n",
       "  </thead>\n",
       "  <tbody>\n",
       "    <tr>\n",
       "      <th>0</th>\n",
       "      <td>2</td>\n",
       "      <td>RECOLETA</td>\n",
       "    </tr>\n",
       "    <tr>\n",
       "      <th>1</th>\n",
       "      <td>5</td>\n",
       "      <td>ALMAGRO - BOEDO</td>\n",
       "    </tr>\n",
       "    <tr>\n",
       "      <th>2</th>\n",
       "      <td>6</td>\n",
       "      <td>CABALLITO</td>\n",
       "    </tr>\n",
       "    <tr>\n",
       "      <th>3</th>\n",
       "      <td>7</td>\n",
       "      <td>FLORES - PARQUE CHACABUCO</td>\n",
       "    </tr>\n",
       "    <tr>\n",
       "      <th>4</th>\n",
       "      <td>9</td>\n",
       "      <td>LINIERS - MATADEROS - PARQUE AVELLANEDA</td>\n",
       "    </tr>\n",
       "  </tbody>\n",
       "</table>\n",
       "</div>"
      ],
      "text/plain": [
       "   COMUNAS                                  BARRIOS\n",
       "0        2                                 RECOLETA\n",
       "1        5                          ALMAGRO - BOEDO\n",
       "2        6                                CABALLITO\n",
       "3        7                FLORES - PARQUE CHACABUCO\n",
       "4        9  LINIERS - MATADEROS - PARQUE AVELLANEDA"
      ]
     },
     "execution_count": 77,
     "metadata": {},
     "output_type": "execute_result"
    }
   ],
   "source": [
    "df_comunas.head()"
   ]
  },
  {
   "cell_type": "code",
   "execution_count": 78,
   "metadata": {},
   "outputs": [
    {
     "data": {
      "text/html": [
       "<div>\n",
       "<style scoped>\n",
       "    .dataframe tbody tr th:only-of-type {\n",
       "        vertical-align: middle;\n",
       "    }\n",
       "\n",
       "    .dataframe tbody tr th {\n",
       "        vertical-align: top;\n",
       "    }\n",
       "\n",
       "    .dataframe thead th {\n",
       "        text-align: right;\n",
       "    }\n",
       "</style>\n",
       "<table border=\"1\" class=\"dataframe\">\n",
       "  <thead>\n",
       "    <tr style=\"text-align: right;\">\n",
       "      <th></th>\n",
       "      <th>COMUNAS</th>\n",
       "      <th>BARRIOS</th>\n",
       "    </tr>\n",
       "  </thead>\n",
       "  <tbody>\n",
       "    <tr>\n",
       "      <th>13</th>\n",
       "      <td>1</td>\n",
       "      <td>CONSTITUCION - MONTSERRAT - PUERTO MADERO - RE...</td>\n",
       "    </tr>\n",
       "    <tr>\n",
       "      <th>0</th>\n",
       "      <td>2</td>\n",
       "      <td>RECOLETA</td>\n",
       "    </tr>\n",
       "    <tr>\n",
       "      <th>9</th>\n",
       "      <td>3</td>\n",
       "      <td>BALVANERA - SAN CRISTOBAL</td>\n",
       "    </tr>\n",
       "    <tr>\n",
       "      <th>12</th>\n",
       "      <td>4</td>\n",
       "      <td>BARRACAS - BOCA - NUEVA POMPEYA - PARQUE PATRI...</td>\n",
       "    </tr>\n",
       "    <tr>\n",
       "      <th>1</th>\n",
       "      <td>5</td>\n",
       "      <td>ALMAGRO - BOEDO</td>\n",
       "    </tr>\n",
       "  </tbody>\n",
       "</table>\n",
       "</div>"
      ],
      "text/plain": [
       "    COMUNAS                                            BARRIOS\n",
       "13        1  CONSTITUCION - MONTSERRAT - PUERTO MADERO - RE...\n",
       "0         2                                           RECOLETA\n",
       "9         3                          BALVANERA - SAN CRISTOBAL\n",
       "12        4  BARRACAS - BOCA - NUEVA POMPEYA - PARQUE PATRI...\n",
       "1         5                                    ALMAGRO - BOEDO"
      ]
     },
     "execution_count": 78,
     "metadata": {},
     "output_type": "execute_result"
    }
   ],
   "source": [
    "# Ordenar el DataFrame por la columna 'COMUNAS' de forma ascendente\n",
    "df_comunas = df_comunas.sort_values(by='COMUNAS', ascending=True)\n",
    "df_comunas.head()"
   ]
  },
  {
   "cell_type": "code",
   "execution_count": 79,
   "metadata": {},
   "outputs": [
    {
     "data": {
      "text/html": [
       "<div>\n",
       "<style scoped>\n",
       "    .dataframe tbody tr th:only-of-type {\n",
       "        vertical-align: middle;\n",
       "    }\n",
       "\n",
       "    .dataframe tbody tr th {\n",
       "        vertical-align: top;\n",
       "    }\n",
       "\n",
       "    .dataframe thead th {\n",
       "        text-align: right;\n",
       "    }\n",
       "</style>\n",
       "<table border=\"1\" class=\"dataframe\">\n",
       "  <thead>\n",
       "    <tr style=\"text-align: right;\">\n",
       "      <th></th>\n",
       "      <th>COMUNAS</th>\n",
       "      <th>BARRIOS</th>\n",
       "    </tr>\n",
       "  </thead>\n",
       "  <tbody>\n",
       "    <tr>\n",
       "      <th>13</th>\n",
       "      <td>1</td>\n",
       "      <td>CONSTITUCION - MONTSERRAT - PUERTO MADERO - RE...</td>\n",
       "    </tr>\n",
       "    <tr>\n",
       "      <th>0</th>\n",
       "      <td>2</td>\n",
       "      <td>RECOLETA</td>\n",
       "    </tr>\n",
       "    <tr>\n",
       "      <th>9</th>\n",
       "      <td>3</td>\n",
       "      <td>BALVANERA - SAN CRISTOBAL</td>\n",
       "    </tr>\n",
       "    <tr>\n",
       "      <th>12</th>\n",
       "      <td>4</td>\n",
       "      <td>BARRACAS - BOCA - NUEVA POMPEYA - PARQUE PATRI...</td>\n",
       "    </tr>\n",
       "    <tr>\n",
       "      <th>1</th>\n",
       "      <td>5</td>\n",
       "      <td>ALMAGRO - BOEDO</td>\n",
       "    </tr>\n",
       "  </tbody>\n",
       "</table>\n",
       "</div>"
      ],
      "text/plain": [
       "    COMUNAS                                            BARRIOS\n",
       "13        1  CONSTITUCION - MONTSERRAT - PUERTO MADERO - RE...\n",
       "0         2                                           RECOLETA\n",
       "9         3                          BALVANERA - SAN CRISTOBAL\n",
       "12        4  BARRACAS - BOCA - NUEVA POMPEYA - PARQUE PATRI...\n",
       "1         5                                    ALMAGRO - BOEDO"
      ]
     },
     "execution_count": 79,
     "metadata": {},
     "output_type": "execute_result"
    }
   ],
   "source": [
    "# SEXO: Convertir la columna a tipo string\n",
    "df_comunas['COMUNAS'] = df_comunas['COMUNAS'].astype(int)\n",
    "# EDAD: Convertir la columna a tipo int\n",
    "df_comunas['BARRIOS'] = df_comunas['BARRIOS'].astype(str)\n",
    "\n",
    "df_comunas.head()"
   ]
  },
  {
   "cell_type": "markdown",
   "metadata": {},
   "source": [
    ".\n",
    "\n",
    "."
   ]
  },
  {
   "cell_type": "markdown",
   "metadata": {},
   "source": [
    "## <u>**2 - POBLACIÓN POR PROVINCIA+CABA**</u>"
   ]
  },
  {
   "cell_type": "markdown",
   "metadata": {},
   "source": [
    "Fue obtenido de la pagina oficial del **INDEC**. Contiene la información sobre la cantidad de población por año y provincia, CABA esta discriminada como una provincia mas."
   ]
  },
  {
   "cell_type": "code",
   "execution_count": 80,
   "metadata": {},
   "outputs": [
    {
     "data": {
      "text/html": [
       "<div>\n",
       "<style scoped>\n",
       "    .dataframe tbody tr th:only-of-type {\n",
       "        vertical-align: middle;\n",
       "    }\n",
       "\n",
       "    .dataframe tbody tr th {\n",
       "        vertical-align: top;\n",
       "    }\n",
       "\n",
       "    .dataframe thead th {\n",
       "        text-align: right;\n",
       "    }\n",
       "</style>\n",
       "<table border=\"1\" class=\"dataframe\">\n",
       "  <thead>\n",
       "    <tr style=\"text-align: right;\">\n",
       "      <th></th>\n",
       "      <th>Año</th>\n",
       "      <th>Ambos sexos</th>\n",
       "      <th>Varones</th>\n",
       "      <th>Mujeres</th>\n",
       "    </tr>\n",
       "  </thead>\n",
       "  <tbody>\n",
       "    <tr>\n",
       "      <th>0</th>\n",
       "      <td>NaN</td>\n",
       "      <td>NaN</td>\n",
       "      <td>NaN</td>\n",
       "      <td>NaN</td>\n",
       "    </tr>\n",
       "    <tr>\n",
       "      <th>1</th>\n",
       "      <td>2010</td>\n",
       "      <td>3028481.0</td>\n",
       "      <td>1405566.0</td>\n",
       "      <td>1622915.0</td>\n",
       "    </tr>\n",
       "    <tr>\n",
       "      <th>2</th>\n",
       "      <td>2011</td>\n",
       "      <td>3033639.0</td>\n",
       "      <td>1409835.0</td>\n",
       "      <td>1623804.0</td>\n",
       "    </tr>\n",
       "    <tr>\n",
       "      <th>3</th>\n",
       "      <td>2012</td>\n",
       "      <td>3038860.0</td>\n",
       "      <td>1414105.0</td>\n",
       "      <td>1624755.0</td>\n",
       "    </tr>\n",
       "    <tr>\n",
       "      <th>4</th>\n",
       "      <td>2013</td>\n",
       "      <td>3044076.0</td>\n",
       "      <td>1418339.0</td>\n",
       "      <td>1625737.0</td>\n",
       "    </tr>\n",
       "  </tbody>\n",
       "</table>\n",
       "</div>"
      ],
      "text/plain": [
       "    Año  Ambos sexos    Varones    Mujeres\n",
       "0   NaN          NaN        NaN        NaN\n",
       "1  2010    3028481.0  1405566.0  1622915.0\n",
       "2  2011    3033639.0  1409835.0  1623804.0\n",
       "3  2012    3038860.0  1414105.0  1624755.0\n",
       "4  2013    3044076.0  1418339.0  1625737.0"
      ]
     },
     "execution_count": 80,
     "metadata": {},
     "output_type": "execute_result"
    }
   ],
   "source": [
    "df_poblacion = leerExcel(\"Datos/\", \"c1_proyecciones_prov_2010_2040.xls\", \"02-CABA\",4)\n",
    "df_poblacion.head()"
   ]
  },
  {
   "cell_type": "code",
   "execution_count": 81,
   "metadata": {},
   "outputs": [
    {
     "data": {
      "text/html": [
       "<div>\n",
       "<style scoped>\n",
       "    .dataframe tbody tr th:only-of-type {\n",
       "        vertical-align: middle;\n",
       "    }\n",
       "\n",
       "    .dataframe tbody tr th {\n",
       "        vertical-align: top;\n",
       "    }\n",
       "\n",
       "    .dataframe thead th {\n",
       "        text-align: right;\n",
       "    }\n",
       "</style>\n",
       "<table border=\"1\" class=\"dataframe\">\n",
       "  <thead>\n",
       "    <tr style=\"text-align: right;\">\n",
       "      <th></th>\n",
       "      <th>Año</th>\n",
       "      <th>Ambos sexos</th>\n",
       "      <th>Varones</th>\n",
       "      <th>Mujeres</th>\n",
       "    </tr>\n",
       "  </thead>\n",
       "  <tbody>\n",
       "    <tr>\n",
       "      <th>1</th>\n",
       "      <td>2010</td>\n",
       "      <td>3028481.0</td>\n",
       "      <td>1405566.0</td>\n",
       "      <td>1622915.0</td>\n",
       "    </tr>\n",
       "    <tr>\n",
       "      <th>2</th>\n",
       "      <td>2011</td>\n",
       "      <td>3033639.0</td>\n",
       "      <td>1409835.0</td>\n",
       "      <td>1623804.0</td>\n",
       "    </tr>\n",
       "    <tr>\n",
       "      <th>3</th>\n",
       "      <td>2012</td>\n",
       "      <td>3038860.0</td>\n",
       "      <td>1414105.0</td>\n",
       "      <td>1624755.0</td>\n",
       "    </tr>\n",
       "    <tr>\n",
       "      <th>4</th>\n",
       "      <td>2013</td>\n",
       "      <td>3044076.0</td>\n",
       "      <td>1418339.0</td>\n",
       "      <td>1625737.0</td>\n",
       "    </tr>\n",
       "    <tr>\n",
       "      <th>5</th>\n",
       "      <td>2014</td>\n",
       "      <td>3049229.0</td>\n",
       "      <td>1422507.0</td>\n",
       "      <td>1626722.0</td>\n",
       "    </tr>\n",
       "    <tr>\n",
       "      <th>6</th>\n",
       "      <td>2015</td>\n",
       "      <td>3054267.0</td>\n",
       "      <td>1426582.0</td>\n",
       "      <td>1627685.0</td>\n",
       "    </tr>\n",
       "    <tr>\n",
       "      <th>7</th>\n",
       "      <td>2016</td>\n",
       "      <td>3059122.0</td>\n",
       "      <td>1430531.0</td>\n",
       "      <td>1628591.0</td>\n",
       "    </tr>\n",
       "    <tr>\n",
       "      <th>8</th>\n",
       "      <td>2017</td>\n",
       "      <td>3063728.0</td>\n",
       "      <td>1434323.0</td>\n",
       "      <td>1629405.0</td>\n",
       "    </tr>\n",
       "    <tr>\n",
       "      <th>9</th>\n",
       "      <td>2018</td>\n",
       "      <td>3068043.0</td>\n",
       "      <td>1437936.0</td>\n",
       "      <td>1630107.0</td>\n",
       "    </tr>\n",
       "    <tr>\n",
       "      <th>10</th>\n",
       "      <td>2019</td>\n",
       "      <td>3072029.0</td>\n",
       "      <td>1441350.0</td>\n",
       "      <td>1630679.0</td>\n",
       "    </tr>\n",
       "    <tr>\n",
       "      <th>11</th>\n",
       "      <td>2020</td>\n",
       "      <td>3075646.0</td>\n",
       "      <td>1444545.0</td>\n",
       "      <td>1631101.0</td>\n",
       "    </tr>\n",
       "    <tr>\n",
       "      <th>12</th>\n",
       "      <td>2021</td>\n",
       "      <td>3078836.0</td>\n",
       "      <td>1447495.0</td>\n",
       "      <td>1631341.0</td>\n",
       "    </tr>\n",
       "    <tr>\n",
       "      <th>13</th>\n",
       "      <td>2022</td>\n",
       "      <td>3081550.0</td>\n",
       "      <td>1450179.0</td>\n",
       "      <td>1631371.0</td>\n",
       "    </tr>\n",
       "    <tr>\n",
       "      <th>14</th>\n",
       "      <td>2023</td>\n",
       "      <td>3083770.0</td>\n",
       "      <td>1452588.0</td>\n",
       "      <td>1631182.0</td>\n",
       "    </tr>\n",
       "    <tr>\n",
       "      <th>15</th>\n",
       "      <td>2024</td>\n",
       "      <td>3085483.0</td>\n",
       "      <td>1454716.0</td>\n",
       "      <td>1630767.0</td>\n",
       "    </tr>\n",
       "    <tr>\n",
       "      <th>16</th>\n",
       "      <td>2025</td>\n",
       "      <td>3086680.0</td>\n",
       "      <td>1456560.0</td>\n",
       "      <td>1630120.0</td>\n",
       "    </tr>\n",
       "    <tr>\n",
       "      <th>17</th>\n",
       "      <td>2026</td>\n",
       "      <td>3087338.0</td>\n",
       "      <td>1458111.0</td>\n",
       "      <td>1629227.0</td>\n",
       "    </tr>\n",
       "    <tr>\n",
       "      <th>18</th>\n",
       "      <td>2027</td>\n",
       "      <td>3087434.0</td>\n",
       "      <td>1459359.0</td>\n",
       "      <td>1628075.0</td>\n",
       "    </tr>\n",
       "    <tr>\n",
       "      <th>19</th>\n",
       "      <td>2028</td>\n",
       "      <td>3086973.0</td>\n",
       "      <td>1460309.0</td>\n",
       "      <td>1626664.0</td>\n",
       "    </tr>\n",
       "    <tr>\n",
       "      <th>20</th>\n",
       "      <td>2029</td>\n",
       "      <td>3085971.0</td>\n",
       "      <td>1460970.0</td>\n",
       "      <td>1625001.0</td>\n",
       "    </tr>\n",
       "    <tr>\n",
       "      <th>21</th>\n",
       "      <td>2030</td>\n",
       "      <td>3084450.0</td>\n",
       "      <td>1461355.0</td>\n",
       "      <td>1623095.0</td>\n",
       "    </tr>\n",
       "    <tr>\n",
       "      <th>22</th>\n",
       "      <td>2031</td>\n",
       "      <td>3082415.0</td>\n",
       "      <td>1461471.0</td>\n",
       "      <td>1620944.0</td>\n",
       "    </tr>\n",
       "    <tr>\n",
       "      <th>23</th>\n",
       "      <td>2032</td>\n",
       "      <td>3079869.0</td>\n",
       "      <td>1461324.0</td>\n",
       "      <td>1618545.0</td>\n",
       "    </tr>\n",
       "    <tr>\n",
       "      <th>24</th>\n",
       "      <td>2033</td>\n",
       "      <td>3076845.0</td>\n",
       "      <td>1460932.0</td>\n",
       "      <td>1615913.0</td>\n",
       "    </tr>\n",
       "    <tr>\n",
       "      <th>25</th>\n",
       "      <td>2034</td>\n",
       "      <td>3073375.0</td>\n",
       "      <td>1460312.0</td>\n",
       "      <td>1613063.0</td>\n",
       "    </tr>\n",
       "    <tr>\n",
       "      <th>26</th>\n",
       "      <td>2035</td>\n",
       "      <td>3069488.0</td>\n",
       "      <td>1459479.0</td>\n",
       "      <td>1610009.0</td>\n",
       "    </tr>\n",
       "    <tr>\n",
       "      <th>27</th>\n",
       "      <td>2036</td>\n",
       "      <td>3065183.0</td>\n",
       "      <td>1458434.0</td>\n",
       "      <td>1606749.0</td>\n",
       "    </tr>\n",
       "    <tr>\n",
       "      <th>28</th>\n",
       "      <td>2037</td>\n",
       "      <td>3060454.0</td>\n",
       "      <td>1457173.0</td>\n",
       "      <td>1603281.0</td>\n",
       "    </tr>\n",
       "    <tr>\n",
       "      <th>29</th>\n",
       "      <td>2038</td>\n",
       "      <td>3055302.0</td>\n",
       "      <td>1455695.0</td>\n",
       "      <td>1599607.0</td>\n",
       "    </tr>\n",
       "    <tr>\n",
       "      <th>30</th>\n",
       "      <td>2039</td>\n",
       "      <td>3049723.0</td>\n",
       "      <td>1453997.0</td>\n",
       "      <td>1595726.0</td>\n",
       "    </tr>\n",
       "    <tr>\n",
       "      <th>31</th>\n",
       "      <td>2040</td>\n",
       "      <td>3043704.0</td>\n",
       "      <td>1452069.0</td>\n",
       "      <td>1591635.0</td>\n",
       "    </tr>\n",
       "    <tr>\n",
       "      <th>33</th>\n",
       "      <td>Fuente: INDEC. Proyecciones elaboradas en base...</td>\n",
       "      <td>NaN</td>\n",
       "      <td>NaN</td>\n",
       "      <td>NaN</td>\n",
       "    </tr>\n",
       "  </tbody>\n",
       "</table>\n",
       "</div>"
      ],
      "text/plain": [
       "                                                  Año  Ambos sexos    Varones  \\\n",
       "1                                                2010    3028481.0  1405566.0   \n",
       "2                                                2011    3033639.0  1409835.0   \n",
       "3                                                2012    3038860.0  1414105.0   \n",
       "4                                                2013    3044076.0  1418339.0   \n",
       "5                                                2014    3049229.0  1422507.0   \n",
       "6                                                2015    3054267.0  1426582.0   \n",
       "7                                                2016    3059122.0  1430531.0   \n",
       "8                                                2017    3063728.0  1434323.0   \n",
       "9                                                2018    3068043.0  1437936.0   \n",
       "10                                               2019    3072029.0  1441350.0   \n",
       "11                                               2020    3075646.0  1444545.0   \n",
       "12                                               2021    3078836.0  1447495.0   \n",
       "13                                               2022    3081550.0  1450179.0   \n",
       "14                                               2023    3083770.0  1452588.0   \n",
       "15                                               2024    3085483.0  1454716.0   \n",
       "16                                               2025    3086680.0  1456560.0   \n",
       "17                                               2026    3087338.0  1458111.0   \n",
       "18                                               2027    3087434.0  1459359.0   \n",
       "19                                               2028    3086973.0  1460309.0   \n",
       "20                                               2029    3085971.0  1460970.0   \n",
       "21                                               2030    3084450.0  1461355.0   \n",
       "22                                               2031    3082415.0  1461471.0   \n",
       "23                                               2032    3079869.0  1461324.0   \n",
       "24                                               2033    3076845.0  1460932.0   \n",
       "25                                               2034    3073375.0  1460312.0   \n",
       "26                                               2035    3069488.0  1459479.0   \n",
       "27                                               2036    3065183.0  1458434.0   \n",
       "28                                               2037    3060454.0  1457173.0   \n",
       "29                                               2038    3055302.0  1455695.0   \n",
       "30                                               2039    3049723.0  1453997.0   \n",
       "31                                               2040    3043704.0  1452069.0   \n",
       "33  Fuente: INDEC. Proyecciones elaboradas en base...          NaN        NaN   \n",
       "\n",
       "      Mujeres  \n",
       "1   1622915.0  \n",
       "2   1623804.0  \n",
       "3   1624755.0  \n",
       "4   1625737.0  \n",
       "5   1626722.0  \n",
       "6   1627685.0  \n",
       "7   1628591.0  \n",
       "8   1629405.0  \n",
       "9   1630107.0  \n",
       "10  1630679.0  \n",
       "11  1631101.0  \n",
       "12  1631341.0  \n",
       "13  1631371.0  \n",
       "14  1631182.0  \n",
       "15  1630767.0  \n",
       "16  1630120.0  \n",
       "17  1629227.0  \n",
       "18  1628075.0  \n",
       "19  1626664.0  \n",
       "20  1625001.0  \n",
       "21  1623095.0  \n",
       "22  1620944.0  \n",
       "23  1618545.0  \n",
       "24  1615913.0  \n",
       "25  1613063.0  \n",
       "26  1610009.0  \n",
       "27  1606749.0  \n",
       "28  1603281.0  \n",
       "29  1599607.0  \n",
       "30  1595726.0  \n",
       "31  1591635.0  \n",
       "33        NaN  "
      ]
     },
     "execution_count": 81,
     "metadata": {},
     "output_type": "execute_result"
    }
   ],
   "source": [
    "# Eliminar las filas donde todas las columnas tienen NaN\n",
    "df_poblacion.dropna(how='all', inplace=True)\n",
    "\n",
    "df_poblacion"
   ]
  },
  {
   "cell_type": "code",
   "execution_count": 82,
   "metadata": {},
   "outputs": [
    {
     "data": {
      "text/plain": [
       "(32, 4)"
      ]
     },
     "execution_count": 82,
     "metadata": {},
     "output_type": "execute_result"
    }
   ],
   "source": [
    "df_poblacion.shape"
   ]
  },
  {
   "cell_type": "code",
   "execution_count": 83,
   "metadata": {},
   "outputs": [
    {
     "data": {
      "text/html": [
       "<div>\n",
       "<style scoped>\n",
       "    .dataframe tbody tr th:only-of-type {\n",
       "        vertical-align: middle;\n",
       "    }\n",
       "\n",
       "    .dataframe tbody tr th {\n",
       "        vertical-align: top;\n",
       "    }\n",
       "\n",
       "    .dataframe thead th {\n",
       "        text-align: right;\n",
       "    }\n",
       "</style>\n",
       "<table border=\"1\" class=\"dataframe\">\n",
       "  <thead>\n",
       "    <tr style=\"text-align: right;\">\n",
       "      <th></th>\n",
       "      <th>Año</th>\n",
       "      <th>Ambos sexos</th>\n",
       "      <th>Varones</th>\n",
       "      <th>Mujeres</th>\n",
       "    </tr>\n",
       "  </thead>\n",
       "  <tbody>\n",
       "    <tr>\n",
       "      <th>1</th>\n",
       "      <td>2010</td>\n",
       "      <td>3028481.0</td>\n",
       "      <td>1405566.0</td>\n",
       "      <td>1622915.0</td>\n",
       "    </tr>\n",
       "    <tr>\n",
       "      <th>2</th>\n",
       "      <td>2011</td>\n",
       "      <td>3033639.0</td>\n",
       "      <td>1409835.0</td>\n",
       "      <td>1623804.0</td>\n",
       "    </tr>\n",
       "    <tr>\n",
       "      <th>3</th>\n",
       "      <td>2012</td>\n",
       "      <td>3038860.0</td>\n",
       "      <td>1414105.0</td>\n",
       "      <td>1624755.0</td>\n",
       "    </tr>\n",
       "    <tr>\n",
       "      <th>4</th>\n",
       "      <td>2013</td>\n",
       "      <td>3044076.0</td>\n",
       "      <td>1418339.0</td>\n",
       "      <td>1625737.0</td>\n",
       "    </tr>\n",
       "    <tr>\n",
       "      <th>5</th>\n",
       "      <td>2014</td>\n",
       "      <td>3049229.0</td>\n",
       "      <td>1422507.0</td>\n",
       "      <td>1626722.0</td>\n",
       "    </tr>\n",
       "    <tr>\n",
       "      <th>6</th>\n",
       "      <td>2015</td>\n",
       "      <td>3054267.0</td>\n",
       "      <td>1426582.0</td>\n",
       "      <td>1627685.0</td>\n",
       "    </tr>\n",
       "    <tr>\n",
       "      <th>7</th>\n",
       "      <td>2016</td>\n",
       "      <td>3059122.0</td>\n",
       "      <td>1430531.0</td>\n",
       "      <td>1628591.0</td>\n",
       "    </tr>\n",
       "    <tr>\n",
       "      <th>8</th>\n",
       "      <td>2017</td>\n",
       "      <td>3063728.0</td>\n",
       "      <td>1434323.0</td>\n",
       "      <td>1629405.0</td>\n",
       "    </tr>\n",
       "    <tr>\n",
       "      <th>9</th>\n",
       "      <td>2018</td>\n",
       "      <td>3068043.0</td>\n",
       "      <td>1437936.0</td>\n",
       "      <td>1630107.0</td>\n",
       "    </tr>\n",
       "    <tr>\n",
       "      <th>10</th>\n",
       "      <td>2019</td>\n",
       "      <td>3072029.0</td>\n",
       "      <td>1441350.0</td>\n",
       "      <td>1630679.0</td>\n",
       "    </tr>\n",
       "    <tr>\n",
       "      <th>11</th>\n",
       "      <td>2020</td>\n",
       "      <td>3075646.0</td>\n",
       "      <td>1444545.0</td>\n",
       "      <td>1631101.0</td>\n",
       "    </tr>\n",
       "    <tr>\n",
       "      <th>12</th>\n",
       "      <td>2021</td>\n",
       "      <td>3078836.0</td>\n",
       "      <td>1447495.0</td>\n",
       "      <td>1631341.0</td>\n",
       "    </tr>\n",
       "    <tr>\n",
       "      <th>13</th>\n",
       "      <td>2022</td>\n",
       "      <td>3081550.0</td>\n",
       "      <td>1450179.0</td>\n",
       "      <td>1631371.0</td>\n",
       "    </tr>\n",
       "    <tr>\n",
       "      <th>14</th>\n",
       "      <td>2023</td>\n",
       "      <td>3083770.0</td>\n",
       "      <td>1452588.0</td>\n",
       "      <td>1631182.0</td>\n",
       "    </tr>\n",
       "    <tr>\n",
       "      <th>15</th>\n",
       "      <td>2024</td>\n",
       "      <td>3085483.0</td>\n",
       "      <td>1454716.0</td>\n",
       "      <td>1630767.0</td>\n",
       "    </tr>\n",
       "    <tr>\n",
       "      <th>16</th>\n",
       "      <td>2025</td>\n",
       "      <td>3086680.0</td>\n",
       "      <td>1456560.0</td>\n",
       "      <td>1630120.0</td>\n",
       "    </tr>\n",
       "    <tr>\n",
       "      <th>17</th>\n",
       "      <td>2026</td>\n",
       "      <td>3087338.0</td>\n",
       "      <td>1458111.0</td>\n",
       "      <td>1629227.0</td>\n",
       "    </tr>\n",
       "    <tr>\n",
       "      <th>18</th>\n",
       "      <td>2027</td>\n",
       "      <td>3087434.0</td>\n",
       "      <td>1459359.0</td>\n",
       "      <td>1628075.0</td>\n",
       "    </tr>\n",
       "    <tr>\n",
       "      <th>19</th>\n",
       "      <td>2028</td>\n",
       "      <td>3086973.0</td>\n",
       "      <td>1460309.0</td>\n",
       "      <td>1626664.0</td>\n",
       "    </tr>\n",
       "    <tr>\n",
       "      <th>20</th>\n",
       "      <td>2029</td>\n",
       "      <td>3085971.0</td>\n",
       "      <td>1460970.0</td>\n",
       "      <td>1625001.0</td>\n",
       "    </tr>\n",
       "    <tr>\n",
       "      <th>21</th>\n",
       "      <td>2030</td>\n",
       "      <td>3084450.0</td>\n",
       "      <td>1461355.0</td>\n",
       "      <td>1623095.0</td>\n",
       "    </tr>\n",
       "    <tr>\n",
       "      <th>22</th>\n",
       "      <td>2031</td>\n",
       "      <td>3082415.0</td>\n",
       "      <td>1461471.0</td>\n",
       "      <td>1620944.0</td>\n",
       "    </tr>\n",
       "    <tr>\n",
       "      <th>23</th>\n",
       "      <td>2032</td>\n",
       "      <td>3079869.0</td>\n",
       "      <td>1461324.0</td>\n",
       "      <td>1618545.0</td>\n",
       "    </tr>\n",
       "    <tr>\n",
       "      <th>24</th>\n",
       "      <td>2033</td>\n",
       "      <td>3076845.0</td>\n",
       "      <td>1460932.0</td>\n",
       "      <td>1615913.0</td>\n",
       "    </tr>\n",
       "    <tr>\n",
       "      <th>25</th>\n",
       "      <td>2034</td>\n",
       "      <td>3073375.0</td>\n",
       "      <td>1460312.0</td>\n",
       "      <td>1613063.0</td>\n",
       "    </tr>\n",
       "    <tr>\n",
       "      <th>26</th>\n",
       "      <td>2035</td>\n",
       "      <td>3069488.0</td>\n",
       "      <td>1459479.0</td>\n",
       "      <td>1610009.0</td>\n",
       "    </tr>\n",
       "    <tr>\n",
       "      <th>27</th>\n",
       "      <td>2036</td>\n",
       "      <td>3065183.0</td>\n",
       "      <td>1458434.0</td>\n",
       "      <td>1606749.0</td>\n",
       "    </tr>\n",
       "    <tr>\n",
       "      <th>28</th>\n",
       "      <td>2037</td>\n",
       "      <td>3060454.0</td>\n",
       "      <td>1457173.0</td>\n",
       "      <td>1603281.0</td>\n",
       "    </tr>\n",
       "    <tr>\n",
       "      <th>29</th>\n",
       "      <td>2038</td>\n",
       "      <td>3055302.0</td>\n",
       "      <td>1455695.0</td>\n",
       "      <td>1599607.0</td>\n",
       "    </tr>\n",
       "    <tr>\n",
       "      <th>30</th>\n",
       "      <td>2039</td>\n",
       "      <td>3049723.0</td>\n",
       "      <td>1453997.0</td>\n",
       "      <td>1595726.0</td>\n",
       "    </tr>\n",
       "    <tr>\n",
       "      <th>31</th>\n",
       "      <td>2040</td>\n",
       "      <td>3043704.0</td>\n",
       "      <td>1452069.0</td>\n",
       "      <td>1591635.0</td>\n",
       "    </tr>\n",
       "  </tbody>\n",
       "</table>\n",
       "</div>"
      ],
      "text/plain": [
       "     Año  Ambos sexos    Varones    Mujeres\n",
       "1   2010    3028481.0  1405566.0  1622915.0\n",
       "2   2011    3033639.0  1409835.0  1623804.0\n",
       "3   2012    3038860.0  1414105.0  1624755.0\n",
       "4   2013    3044076.0  1418339.0  1625737.0\n",
       "5   2014    3049229.0  1422507.0  1626722.0\n",
       "6   2015    3054267.0  1426582.0  1627685.0\n",
       "7   2016    3059122.0  1430531.0  1628591.0\n",
       "8   2017    3063728.0  1434323.0  1629405.0\n",
       "9   2018    3068043.0  1437936.0  1630107.0\n",
       "10  2019    3072029.0  1441350.0  1630679.0\n",
       "11  2020    3075646.0  1444545.0  1631101.0\n",
       "12  2021    3078836.0  1447495.0  1631341.0\n",
       "13  2022    3081550.0  1450179.0  1631371.0\n",
       "14  2023    3083770.0  1452588.0  1631182.0\n",
       "15  2024    3085483.0  1454716.0  1630767.0\n",
       "16  2025    3086680.0  1456560.0  1630120.0\n",
       "17  2026    3087338.0  1458111.0  1629227.0\n",
       "18  2027    3087434.0  1459359.0  1628075.0\n",
       "19  2028    3086973.0  1460309.0  1626664.0\n",
       "20  2029    3085971.0  1460970.0  1625001.0\n",
       "21  2030    3084450.0  1461355.0  1623095.0\n",
       "22  2031    3082415.0  1461471.0  1620944.0\n",
       "23  2032    3079869.0  1461324.0  1618545.0\n",
       "24  2033    3076845.0  1460932.0  1615913.0\n",
       "25  2034    3073375.0  1460312.0  1613063.0\n",
       "26  2035    3069488.0  1459479.0  1610009.0\n",
       "27  2036    3065183.0  1458434.0  1606749.0\n",
       "28  2037    3060454.0  1457173.0  1603281.0\n",
       "29  2038    3055302.0  1455695.0  1599607.0\n",
       "30  2039    3049723.0  1453997.0  1595726.0\n",
       "31  2040    3043704.0  1452069.0  1591635.0"
      ]
     },
     "execution_count": 83,
     "metadata": {},
     "output_type": "execute_result"
    }
   ],
   "source": [
    "# Eliminar la última fila\n",
    "df_poblacion = df_poblacion.drop(df_poblacion.index[-1])\n",
    "\n",
    "df_poblacion"
   ]
  },
  {
   "cell_type": "code",
   "execution_count": 84,
   "metadata": {},
   "outputs": [],
   "source": [
    "# Cambiar los nombres de las columnas\n",
    "df_poblacion.rename(columns=lambda x: x.strip().replace(' ', '_').upper(), inplace=True)"
   ]
  },
  {
   "cell_type": "code",
   "execution_count": 85,
   "metadata": {},
   "outputs": [
    {
     "data": {
      "text/html": [
       "<div>\n",
       "<style scoped>\n",
       "    .dataframe tbody tr th:only-of-type {\n",
       "        vertical-align: middle;\n",
       "    }\n",
       "\n",
       "    .dataframe tbody tr th {\n",
       "        vertical-align: top;\n",
       "    }\n",
       "\n",
       "    .dataframe thead th {\n",
       "        text-align: right;\n",
       "    }\n",
       "</style>\n",
       "<table border=\"1\" class=\"dataframe\">\n",
       "  <thead>\n",
       "    <tr style=\"text-align: right;\">\n",
       "      <th></th>\n",
       "      <th>AÑO</th>\n",
       "      <th>AMBOS_SEXOS</th>\n",
       "      <th>VARONES</th>\n",
       "      <th>MUJERES</th>\n",
       "    </tr>\n",
       "  </thead>\n",
       "  <tbody>\n",
       "    <tr>\n",
       "      <th>1</th>\n",
       "      <td>2010</td>\n",
       "      <td>3028481.0</td>\n",
       "      <td>1405566.0</td>\n",
       "      <td>1622915.0</td>\n",
       "    </tr>\n",
       "    <tr>\n",
       "      <th>2</th>\n",
       "      <td>2011</td>\n",
       "      <td>3033639.0</td>\n",
       "      <td>1409835.0</td>\n",
       "      <td>1623804.0</td>\n",
       "    </tr>\n",
       "    <tr>\n",
       "      <th>3</th>\n",
       "      <td>2012</td>\n",
       "      <td>3038860.0</td>\n",
       "      <td>1414105.0</td>\n",
       "      <td>1624755.0</td>\n",
       "    </tr>\n",
       "    <tr>\n",
       "      <th>4</th>\n",
       "      <td>2013</td>\n",
       "      <td>3044076.0</td>\n",
       "      <td>1418339.0</td>\n",
       "      <td>1625737.0</td>\n",
       "    </tr>\n",
       "    <tr>\n",
       "      <th>5</th>\n",
       "      <td>2014</td>\n",
       "      <td>3049229.0</td>\n",
       "      <td>1422507.0</td>\n",
       "      <td>1626722.0</td>\n",
       "    </tr>\n",
       "  </tbody>\n",
       "</table>\n",
       "</div>"
      ],
      "text/plain": [
       "    AÑO  AMBOS_SEXOS    VARONES    MUJERES\n",
       "1  2010    3028481.0  1405566.0  1622915.0\n",
       "2  2011    3033639.0  1409835.0  1623804.0\n",
       "3  2012    3038860.0  1414105.0  1624755.0\n",
       "4  2013    3044076.0  1418339.0  1625737.0\n",
       "5  2014    3049229.0  1422507.0  1626722.0"
      ]
     },
     "execution_count": 85,
     "metadata": {},
     "output_type": "execute_result"
    }
   ],
   "source": [
    "df_poblacion.head()"
   ]
  },
  {
   "cell_type": "code",
   "execution_count": 86,
   "metadata": {},
   "outputs": [],
   "source": [
    "#Convertimos las columnas al tipo de dato correspondiente\n",
    "df_poblacion['AÑO']         = df_poblacion['AÑO'].astype(int)\n",
    "df_poblacion['AMBOS_SEXOS'] = df_poblacion['AMBOS_SEXOS'].astype(int)\n",
    "df_poblacion['VARONES']     = df_poblacion['VARONES'].astype(int)\n",
    "df_poblacion['MUJERES']     = df_poblacion['MUJERES'].astype(int)"
   ]
  },
  {
   "cell_type": "code",
   "execution_count": 87,
   "metadata": {},
   "outputs": [
    {
     "data": {
      "text/html": [
       "<div>\n",
       "<style scoped>\n",
       "    .dataframe tbody tr th:only-of-type {\n",
       "        vertical-align: middle;\n",
       "    }\n",
       "\n",
       "    .dataframe tbody tr th {\n",
       "        vertical-align: top;\n",
       "    }\n",
       "\n",
       "    .dataframe thead th {\n",
       "        text-align: right;\n",
       "    }\n",
       "</style>\n",
       "<table border=\"1\" class=\"dataframe\">\n",
       "  <thead>\n",
       "    <tr style=\"text-align: right;\">\n",
       "      <th></th>\n",
       "      <th>AÑO</th>\n",
       "      <th>AMBOS_SEXOS</th>\n",
       "      <th>VARONES</th>\n",
       "      <th>MUJERES</th>\n",
       "    </tr>\n",
       "  </thead>\n",
       "  <tbody>\n",
       "    <tr>\n",
       "      <th>1</th>\n",
       "      <td>2010</td>\n",
       "      <td>3028481</td>\n",
       "      <td>1405566</td>\n",
       "      <td>1622915</td>\n",
       "    </tr>\n",
       "    <tr>\n",
       "      <th>2</th>\n",
       "      <td>2011</td>\n",
       "      <td>3033639</td>\n",
       "      <td>1409835</td>\n",
       "      <td>1623804</td>\n",
       "    </tr>\n",
       "    <tr>\n",
       "      <th>3</th>\n",
       "      <td>2012</td>\n",
       "      <td>3038860</td>\n",
       "      <td>1414105</td>\n",
       "      <td>1624755</td>\n",
       "    </tr>\n",
       "    <tr>\n",
       "      <th>4</th>\n",
       "      <td>2013</td>\n",
       "      <td>3044076</td>\n",
       "      <td>1418339</td>\n",
       "      <td>1625737</td>\n",
       "    </tr>\n",
       "    <tr>\n",
       "      <th>5</th>\n",
       "      <td>2014</td>\n",
       "      <td>3049229</td>\n",
       "      <td>1422507</td>\n",
       "      <td>1626722</td>\n",
       "    </tr>\n",
       "  </tbody>\n",
       "</table>\n",
       "</div>"
      ],
      "text/plain": [
       "    AÑO  AMBOS_SEXOS  VARONES  MUJERES\n",
       "1  2010      3028481  1405566  1622915\n",
       "2  2011      3033639  1409835  1623804\n",
       "3  2012      3038860  1414105  1624755\n",
       "4  2013      3044076  1418339  1625737\n",
       "5  2014      3049229  1422507  1626722"
      ]
     },
     "execution_count": 87,
     "metadata": {},
     "output_type": "execute_result"
    }
   ],
   "source": [
    "df_poblacion.head()"
   ]
  },
  {
   "cell_type": "markdown",
   "metadata": {},
   "source": [
    ".\n",
    "\n",
    ".\n",
    "\n",
    "."
   ]
  },
  {
   "cell_type": "markdown",
   "metadata": {},
   "source": [
    "# **CONCLUSIONES DEL EDA**"
   ]
  },
  {
   "cell_type": "markdown",
   "metadata": {},
   "source": [
    "<hr>"
   ]
  },
  {
   "cell_type": "markdown",
   "metadata": {},
   "source": [
    "- Luego del análisis exploratorio se concluyo que la gran parte de los siniestros se corresponden a Victimas en **MOTO o PEATONES**. \n",
    "- A su vez, independientemente del medio, el sexo con mayor tasa de mortalidad es el **MASCULINO**. \n",
    "- El tipo de calle con mayor tasa de mortalidad son las **AVENIDAS**.\n",
    "- **NO hay valores ATÍPICOS** que requieran un tratamiento especial antes de avanzar al DASHBOARD.\n",
    "- Luego del pico de muertes registrado en 2018, la tasa de mortalidad ha tenido **TENDENCIA BAJISTA**.\n",
    "- Si bien las cantidades son no tan dispares, el mes con mayor tasa de mortalidad es **DICIEMBRE**.\n",
    "\n",
    "\n",
    ".\n",
    "\n",
    ".\n",
    "\n",
    " ==> *El resto de transformaciones de realizaran en POWER BI*."
   ]
  },
  {
   "cell_type": "markdown",
   "metadata": {},
   "source": [
    "<hr>"
   ]
  },
  {
   "cell_type": "markdown",
   "metadata": {},
   "source": [
    "# <u>**EXPORTACIÓN DE DFs**</u>"
   ]
  },
  {
   "cell_type": "markdown",
   "metadata": {},
   "source": [
    "A continuación se hace la exportación de los DF generados hacia archivos **CSV**. Estos serán consumidos por **POWER BI**."
   ]
  },
  {
   "cell_type": "code",
   "execution_count": 88,
   "metadata": {},
   "outputs": [
    {
     "data": {
      "text/plain": [
       "True"
      ]
     },
     "execution_count": 88,
     "metadata": {},
     "output_type": "execute_result"
    }
   ],
   "source": [
    "exportarDf(df_comunas, 'Datos/', 'comunas')"
   ]
  },
  {
   "cell_type": "code",
   "execution_count": 89,
   "metadata": {},
   "outputs": [
    {
     "data": {
      "text/plain": [
       "True"
      ]
     },
     "execution_count": 89,
     "metadata": {},
     "output_type": "execute_result"
    }
   ],
   "source": [
    "exportarDf(df_homicidios_hechos, 'Datos/', 'hechos')"
   ]
  },
  {
   "cell_type": "code",
   "execution_count": 90,
   "metadata": {},
   "outputs": [
    {
     "data": {
      "text/plain": [
       "True"
      ]
     },
     "execution_count": 90,
     "metadata": {},
     "output_type": "execute_result"
    }
   ],
   "source": [
    "exportarDf(df_homicidios_victimas, 'Datos/', 'victimas')"
   ]
  },
  {
   "cell_type": "code",
   "execution_count": 91,
   "metadata": {},
   "outputs": [
    {
     "data": {
      "text/plain": [
       "True"
      ]
     },
     "execution_count": 91,
     "metadata": {},
     "output_type": "execute_result"
    }
   ],
   "source": [
    "exportarDf(df_poblacion, 'Datos/', 'poblacion')"
   ]
  }
 ],
 "metadata": {
  "kernelspec": {
   "display_name": "Python 3",
   "language": "python",
   "name": "python3"
  },
  "language_info": {
   "codemirror_mode": {
    "name": "ipython",
    "version": 3
   },
   "file_extension": ".py",
   "mimetype": "text/x-python",
   "name": "python",
   "nbconvert_exporter": "python",
   "pygments_lexer": "ipython3",
   "version": "3.11.5"
  },
  "orig_nbformat": 4
 },
 "nbformat": 4,
 "nbformat_minor": 2
}
